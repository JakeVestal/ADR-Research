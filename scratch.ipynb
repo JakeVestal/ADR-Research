{
 "cells": [
  {
   "cell_type": "code",
   "execution_count": 17,
   "metadata": {
    "pycharm": {
     "name": "#%%\n"
    }
   },
   "outputs": [],
   "source": [
    "import datetime\n",
    "\n",
    "import pandas as pd\n",
    "import yfinance as yf\n"
   ]
  },
  {
   "cell_type": "code",
   "execution_count": 18,
   "metadata": {
    "pycharm": {
     "name": "#%%\n"
    }
   },
   "outputs": [],
   "source": [
    "stock_list = pd.read_excel('US Chinese Stocks.xlsx')\n"
   ]
  },
  {
   "cell_type": "code",
   "execution_count": 182,
   "metadata": {
    "pycharm": {
     "name": "#%%\n"
    }
   },
   "outputs": [],
   "source": [
    "stock_list = stock_list[stock_list.ISIN.notna()]"
   ]
  },
  {
   "cell_type": "code",
   "execution_count": 20,
   "metadata": {
    "pycharm": {
     "name": "#%%\n"
    }
   },
   "outputs": [],
   "source": [
    "stock_list['Ticker'] = stock_list['RIC'].str.split('.').str[0]"
   ]
  },
  {
   "cell_type": "code",
   "execution_count": 200,
   "outputs": [],
   "source": [
    "stock_list=stock_list[stock_list['Type of Equity']=='American Depository Receipt']"
   ],
   "metadata": {
    "collapsed": false,
    "pycharm": {
     "name": "#%%\n"
    }
   }
  },
  {
   "cell_type": "code",
   "execution_count": 210,
   "outputs": [
    {
     "data": {
      "text/plain": "                           Issuer       RIC          ISIN CUSIP/CINS  \\\n175                     Qiniu Ltd   QNIU.NB  US74690C1036  74690C103   \n179        LinkDoc Technology Ltd   LDOC.NB  US53579L1035  53579L103   \n214                  Autohome Inc  ATHM.AOI  US05278C1071  05278C107   \n215  Hailiang Education Group Inc   HLG.AOI  US40522L1089  40522L108   \n358        LinkDoc Technology Ltd  LDOC.AOI  US53579L1035  53579L103   \n377                     Qiniu Ltd  QNIU.AOI  US74690C1036  74690C103   \n\n                  Type of Equity                   Exchange Ex-Dividend Date  \\\n175  American Depository Receipt  NASDAQ OMX - NASDAQ BASIC              NaT   \n179  American Depository Receipt  NASDAQ OMX - NASDAQ BASIC              NaT   \n214  American Depository Receipt        NYSE AMEX IMBALANCE              NaT   \n215  American Depository Receipt        NYSE AMEX IMBALANCE              NaT   \n358  American Depository Receipt        NYSE AMEX IMBALANCE              NaT   \n377  American Depository Receipt        NYSE AMEX IMBALANCE              NaT   \n\n    Country of Issuer Country of Exchange Market Cap (USD) Ticker  \n175  China (Mainland)       United States               --   QNIU  \n179  China (Mainland)       United States               --   LDOC  \n214  China (Mainland)       United States               --   ATHM  \n215  China (Mainland)       United States               --    HLG  \n358  China (Mainland)       United States               --   LDOC  \n377  China (Mainland)       United States               --   QNIU  ",
      "text/html": "<div>\n<style scoped>\n    .dataframe tbody tr th:only-of-type {\n        vertical-align: middle;\n    }\n\n    .dataframe tbody tr th {\n        vertical-align: top;\n    }\n\n    .dataframe thead th {\n        text-align: right;\n    }\n</style>\n<table border=\"1\" class=\"dataframe\">\n  <thead>\n    <tr style=\"text-align: right;\">\n      <th></th>\n      <th>Issuer</th>\n      <th>RIC</th>\n      <th>ISIN</th>\n      <th>CUSIP/CINS</th>\n      <th>Type of Equity</th>\n      <th>Exchange</th>\n      <th>Ex-Dividend Date</th>\n      <th>Country of Issuer</th>\n      <th>Country of Exchange</th>\n      <th>Market Cap (USD)</th>\n      <th>Ticker</th>\n    </tr>\n  </thead>\n  <tbody>\n    <tr>\n      <th>175</th>\n      <td>Qiniu Ltd</td>\n      <td>QNIU.NB</td>\n      <td>US74690C1036</td>\n      <td>74690C103</td>\n      <td>American Depository Receipt</td>\n      <td>NASDAQ OMX - NASDAQ BASIC</td>\n      <td>NaT</td>\n      <td>China (Mainland)</td>\n      <td>United States</td>\n      <td>--</td>\n      <td>QNIU</td>\n    </tr>\n    <tr>\n      <th>179</th>\n      <td>LinkDoc Technology Ltd</td>\n      <td>LDOC.NB</td>\n      <td>US53579L1035</td>\n      <td>53579L103</td>\n      <td>American Depository Receipt</td>\n      <td>NASDAQ OMX - NASDAQ BASIC</td>\n      <td>NaT</td>\n      <td>China (Mainland)</td>\n      <td>United States</td>\n      <td>--</td>\n      <td>LDOC</td>\n    </tr>\n    <tr>\n      <th>214</th>\n      <td>Autohome Inc</td>\n      <td>ATHM.AOI</td>\n      <td>US05278C1071</td>\n      <td>05278C107</td>\n      <td>American Depository Receipt</td>\n      <td>NYSE AMEX IMBALANCE</td>\n      <td>NaT</td>\n      <td>China (Mainland)</td>\n      <td>United States</td>\n      <td>--</td>\n      <td>ATHM</td>\n    </tr>\n    <tr>\n      <th>215</th>\n      <td>Hailiang Education Group Inc</td>\n      <td>HLG.AOI</td>\n      <td>US40522L1089</td>\n      <td>40522L108</td>\n      <td>American Depository Receipt</td>\n      <td>NYSE AMEX IMBALANCE</td>\n      <td>NaT</td>\n      <td>China (Mainland)</td>\n      <td>United States</td>\n      <td>--</td>\n      <td>HLG</td>\n    </tr>\n    <tr>\n      <th>358</th>\n      <td>LinkDoc Technology Ltd</td>\n      <td>LDOC.AOI</td>\n      <td>US53579L1035</td>\n      <td>53579L103</td>\n      <td>American Depository Receipt</td>\n      <td>NYSE AMEX IMBALANCE</td>\n      <td>NaT</td>\n      <td>China (Mainland)</td>\n      <td>United States</td>\n      <td>--</td>\n      <td>LDOC</td>\n    </tr>\n    <tr>\n      <th>377</th>\n      <td>Qiniu Ltd</td>\n      <td>QNIU.AOI</td>\n      <td>US74690C1036</td>\n      <td>74690C103</td>\n      <td>American Depository Receipt</td>\n      <td>NYSE AMEX IMBALANCE</td>\n      <td>NaT</td>\n      <td>China (Mainland)</td>\n      <td>United States</td>\n      <td>--</td>\n      <td>QNIU</td>\n    </tr>\n  </tbody>\n</table>\n</div>"
     },
     "execution_count": 210,
     "metadata": {},
     "output_type": "execute_result"
    }
   ],
   "source": [
    "stock_list[stock_list['Market Cap (USD)']=='--']"
   ],
   "metadata": {
    "collapsed": false,
    "pycharm": {
     "name": "#%%\n"
    }
   }
  },
  {
   "cell_type": "code",
   "execution_count": 21,
   "metadata": {
    "pycharm": {
     "name": "#%%\n"
    }
   },
   "outputs": [],
   "source": [
    "short_list = stock_list.head(10)"
   ]
  },
  {
   "cell_type": "code",
   "execution_count": 22,
   "metadata": {
    "pycharm": {
     "name": "#%%\n"
    }
   },
   "outputs": [
    {
     "data": {
      "text/plain": "               Issuer      RIC          ISIN CUSIP/CINS  \\\n0           Baidu Inc  BIDU.NB  US0567521085  056752108   \n1          JD.Com Inc    JD.NB  US47215P1066  47215P106   \n2         Li Auto Inc    LI.NB  US50202M1027  50202M102   \n3       Pinduoduo Inc   PDD.NB  US7223041028  722304102   \n4         NetEase Inc  NTES.NB  US64110W1027  64110W102   \n5  Trip.com Group Ltd  TCOM.NB  US89677Q1076  89677Q107   \n6           iQIYI Inc    IQ.NB  US46267X1081  46267X108   \n7   Futu Holdings Ltd  FUTU.NB  US36118L1061  36118L106   \n8        Bilibili Inc  BILI.NB  US0900401060  090040106   \n9          Weibo Corp    WB.NB  US9485961018  948596101   \n\n                Type of Equity                   Exchange Ex-Dividend Date  \\\n0  American Depository Receipt  NASDAQ OMX - NASDAQ BASIC              NaT   \n1  American Depository Receipt  NASDAQ OMX - NASDAQ BASIC       2022-05-19   \n2  American Depository Receipt  NASDAQ OMX - NASDAQ BASIC              NaT   \n3  American Depository Receipt  NASDAQ OMX - NASDAQ BASIC              NaT   \n4  American Depository Receipt  NASDAQ OMX - NASDAQ BASIC       2022-08-31   \n5  American Depository Receipt  NASDAQ OMX - NASDAQ BASIC              NaT   \n6  American Depository Receipt  NASDAQ OMX - NASDAQ BASIC              NaT   \n7  American Depository Receipt  NASDAQ OMX - NASDAQ BASIC              NaT   \n8  American Depository Receipt  NASDAQ OMX - NASDAQ BASIC              NaT   \n9  American Depository Receipt  NASDAQ OMX - NASDAQ BASIC              NaT   \n\n  Country of Issuer Country of Exchange Market Cap (USD) Ticker  \n0  China (Mainland)       United States      41282919788   BIDU  \n1  China (Mainland)       United States      84524079154     JD  \n2  China (Mainland)       United States      26345041598     LI  \n3  China (Mainland)       United States      76697634681    PDD  \n4  China (Mainland)       United States      51151440233   NTES  \n5  China (Mainland)       United States      17687947528   TCOM  \n6  China (Mainland)       United States       2303486890     IQ  \n7  China (Mainland)       United States       5600397105   FUTU  \n8  China (Mainland)       United States       6284827804   BILI  \n9  China (Mainland)       United States       4224675099     WB  ",
      "text/html": "<div>\n<style scoped>\n    .dataframe tbody tr th:only-of-type {\n        vertical-align: middle;\n    }\n\n    .dataframe tbody tr th {\n        vertical-align: top;\n    }\n\n    .dataframe thead th {\n        text-align: right;\n    }\n</style>\n<table border=\"1\" class=\"dataframe\">\n  <thead>\n    <tr style=\"text-align: right;\">\n      <th></th>\n      <th>Issuer</th>\n      <th>RIC</th>\n      <th>ISIN</th>\n      <th>CUSIP/CINS</th>\n      <th>Type of Equity</th>\n      <th>Exchange</th>\n      <th>Ex-Dividend Date</th>\n      <th>Country of Issuer</th>\n      <th>Country of Exchange</th>\n      <th>Market Cap (USD)</th>\n      <th>Ticker</th>\n    </tr>\n  </thead>\n  <tbody>\n    <tr>\n      <th>0</th>\n      <td>Baidu Inc</td>\n      <td>BIDU.NB</td>\n      <td>US0567521085</td>\n      <td>056752108</td>\n      <td>American Depository Receipt</td>\n      <td>NASDAQ OMX - NASDAQ BASIC</td>\n      <td>NaT</td>\n      <td>China (Mainland)</td>\n      <td>United States</td>\n      <td>41282919788</td>\n      <td>BIDU</td>\n    </tr>\n    <tr>\n      <th>1</th>\n      <td>JD.Com Inc</td>\n      <td>JD.NB</td>\n      <td>US47215P1066</td>\n      <td>47215P106</td>\n      <td>American Depository Receipt</td>\n      <td>NASDAQ OMX - NASDAQ BASIC</td>\n      <td>2022-05-19</td>\n      <td>China (Mainland)</td>\n      <td>United States</td>\n      <td>84524079154</td>\n      <td>JD</td>\n    </tr>\n    <tr>\n      <th>2</th>\n      <td>Li Auto Inc</td>\n      <td>LI.NB</td>\n      <td>US50202M1027</td>\n      <td>50202M102</td>\n      <td>American Depository Receipt</td>\n      <td>NASDAQ OMX - NASDAQ BASIC</td>\n      <td>NaT</td>\n      <td>China (Mainland)</td>\n      <td>United States</td>\n      <td>26345041598</td>\n      <td>LI</td>\n    </tr>\n    <tr>\n      <th>3</th>\n      <td>Pinduoduo Inc</td>\n      <td>PDD.NB</td>\n      <td>US7223041028</td>\n      <td>722304102</td>\n      <td>American Depository Receipt</td>\n      <td>NASDAQ OMX - NASDAQ BASIC</td>\n      <td>NaT</td>\n      <td>China (Mainland)</td>\n      <td>United States</td>\n      <td>76697634681</td>\n      <td>PDD</td>\n    </tr>\n    <tr>\n      <th>4</th>\n      <td>NetEase Inc</td>\n      <td>NTES.NB</td>\n      <td>US64110W1027</td>\n      <td>64110W102</td>\n      <td>American Depository Receipt</td>\n      <td>NASDAQ OMX - NASDAQ BASIC</td>\n      <td>2022-08-31</td>\n      <td>China (Mainland)</td>\n      <td>United States</td>\n      <td>51151440233</td>\n      <td>NTES</td>\n    </tr>\n    <tr>\n      <th>5</th>\n      <td>Trip.com Group Ltd</td>\n      <td>TCOM.NB</td>\n      <td>US89677Q1076</td>\n      <td>89677Q107</td>\n      <td>American Depository Receipt</td>\n      <td>NASDAQ OMX - NASDAQ BASIC</td>\n      <td>NaT</td>\n      <td>China (Mainland)</td>\n      <td>United States</td>\n      <td>17687947528</td>\n      <td>TCOM</td>\n    </tr>\n    <tr>\n      <th>6</th>\n      <td>iQIYI Inc</td>\n      <td>IQ.NB</td>\n      <td>US46267X1081</td>\n      <td>46267X108</td>\n      <td>American Depository Receipt</td>\n      <td>NASDAQ OMX - NASDAQ BASIC</td>\n      <td>NaT</td>\n      <td>China (Mainland)</td>\n      <td>United States</td>\n      <td>2303486890</td>\n      <td>IQ</td>\n    </tr>\n    <tr>\n      <th>7</th>\n      <td>Futu Holdings Ltd</td>\n      <td>FUTU.NB</td>\n      <td>US36118L1061</td>\n      <td>36118L106</td>\n      <td>American Depository Receipt</td>\n      <td>NASDAQ OMX - NASDAQ BASIC</td>\n      <td>NaT</td>\n      <td>China (Mainland)</td>\n      <td>United States</td>\n      <td>5600397105</td>\n      <td>FUTU</td>\n    </tr>\n    <tr>\n      <th>8</th>\n      <td>Bilibili Inc</td>\n      <td>BILI.NB</td>\n      <td>US0900401060</td>\n      <td>090040106</td>\n      <td>American Depository Receipt</td>\n      <td>NASDAQ OMX - NASDAQ BASIC</td>\n      <td>NaT</td>\n      <td>China (Mainland)</td>\n      <td>United States</td>\n      <td>6284827804</td>\n      <td>BILI</td>\n    </tr>\n    <tr>\n      <th>9</th>\n      <td>Weibo Corp</td>\n      <td>WB.NB</td>\n      <td>US9485961018</td>\n      <td>948596101</td>\n      <td>American Depository Receipt</td>\n      <td>NASDAQ OMX - NASDAQ BASIC</td>\n      <td>NaT</td>\n      <td>China (Mainland)</td>\n      <td>United States</td>\n      <td>4224675099</td>\n      <td>WB</td>\n    </tr>\n  </tbody>\n</table>\n</div>"
     },
     "execution_count": 22,
     "metadata": {},
     "output_type": "execute_result"
    }
   ],
   "source": [
    "short_list"
   ]
  },
  {
   "cell_type": "code",
   "execution_count": 23,
   "metadata": {
    "pycharm": {
     "name": "#%%\n"
    }
   },
   "outputs": [
    {
     "name": "stdout",
     "output_type": "stream",
     "text": [
      "[*********************100%***********************]  10 of 10 completed\n"
     ]
    },
    {
     "data": {
      "text/plain": "                               Close                                         \\\n                                BIDU       BILI       FUTU    IQ         JD   \nDate                                                                          \n2022-10-19 00:00:00-04:00  93.269997  11.030000  34.070000  2.13  41.220001   \n2022-10-20 00:00:00-04:00  93.370003  11.070000  34.090000  2.07  42.160000   \n2022-10-21 00:00:00-04:00  91.230003  11.050000  34.950001  2.03  42.150002   \n2022-10-24 00:00:00-04:00  79.750000   9.190000  32.180000  2.01  36.660000   \n2022-10-25 00:00:00-04:00  81.209999   9.930000  32.939999  2.20  37.770000   \n2022-10-26 00:00:00-04:00  84.190002  10.480000  34.860001  2.20  41.040001   \n2022-10-27 00:00:00-04:00  80.949997   9.520000  34.459999  2.07  39.500000   \n2022-10-28 00:00:00-04:00  78.540001   8.950000  33.849998  2.05  37.860001   \n2022-10-31 00:00:00-04:00  76.570000   8.920000  33.860001  2.02  37.290001   \n2022-11-01 00:00:00-04:00  78.230003   9.230000  35.500000  2.13  38.439999   \n2022-11-02 00:00:00-04:00  78.129997   9.260000  36.070000  2.14  39.840000   \n2022-11-03 00:00:00-04:00  78.150002   9.530000  37.590000  2.19  40.439999   \n2022-11-04 00:00:00-04:00  85.199997  11.710000  38.910000  2.44  44.380001   \n2022-11-07 00:00:00-05:00  85.019997  11.820000  40.220001  2.37  44.509998   \n2022-11-08 00:00:00-05:00  85.190002  11.560000  40.000000  2.27  45.490002   \n2022-11-09 00:00:00-05:00  79.480003  10.170000  38.610001  2.02  42.459999   \n2022-11-10 00:00:00-05:00  86.110001  11.710000  42.110001  2.31  46.029999   \n2022-11-11 00:00:00-05:00  89.459999  12.670000  45.610001  2.75  48.930000   \n2022-11-14 00:00:00-05:00  91.449997  12.880000  49.009998  2.66  50.849998   \n2022-11-15 00:00:00-05:00  99.699997  16.280001  53.860001  3.10  54.480000   \n2022-11-16 00:00:00-05:00  94.750000  15.460000  50.349998  2.85  53.490002   \n2022-11-17 00:00:00-05:00  99.580002  15.790000  52.259998  2.96  57.520000   \n2022-11-18 00:00:00-05:00  95.970001  14.720000  50.619999  2.78  56.070000   \n\n                                                                              \\\n                                  LI       NTES        PDD       TCOM     WB   \nDate                                                                           \n2022-10-19 00:00:00-04:00  16.799999  67.040001  54.490002  22.620001  12.73   \n2022-10-20 00:00:00-04:00  17.299999  64.690002  55.889999  23.260000  12.65   \n2022-10-21 00:00:00-04:00  17.770000  62.430000  58.970001  23.940001  12.25   \n2022-10-24 00:00:00-04:00  14.680000  56.279999  44.459999  20.360001  10.71   \n2022-10-25 00:00:00-04:00  15.900000  57.320000  47.529999  21.879999  11.30   \n2022-10-26 00:00:00-04:00  16.270000  58.820000  53.090000  23.320000  12.20   \n2022-10-27 00:00:00-04:00  14.985000  56.720001  53.110001  23.200001  11.79   \n2022-10-28 00:00:00-04:00  14.260000  55.410000  52.950001  22.830000  10.88   \n2022-10-31 00:00:00-04:00  13.620000  55.619999  54.830002  22.629999  11.32   \n2022-11-01 00:00:00-04:00  14.560000  59.570000  53.889999  24.540001  12.46   \n2022-11-02 00:00:00-04:00  16.320000  59.290001  53.610001  25.500000  12.31   \n2022-11-03 00:00:00-04:00  16.750000  59.150002  56.970001  26.520000  12.68   \n2022-11-04 00:00:00-04:00  18.309999  62.520000  61.889999  28.000000  13.16   \n2022-11-07 00:00:00-05:00  18.160000  62.630001  61.720001  26.990000  13.17   \n2022-11-08 00:00:00-05:00  18.469999  62.130001  62.919998  27.170000  13.12   \n2022-11-09 00:00:00-05:00  16.180000  59.220001  59.160000  25.000000  12.25   \n2022-11-10 00:00:00-05:00  17.410000  62.270000  64.050003  27.500000  13.01   \n2022-11-11 00:00:00-05:00  18.969999  64.760002  65.180000  28.840000  14.01   \n2022-11-14 00:00:00-05:00  17.959999  65.239998  65.389999  27.719999  13.76   \n2022-11-15 00:00:00-05:00  18.940001  71.599998  70.970001  29.280001  15.35   \n2022-11-16 00:00:00-05:00  17.770000  71.330002  67.559998  28.760000  14.81   \n2022-11-17 00:00:00-05:00  18.360001  71.000000  70.550003  29.170000  15.90   \n2022-11-18 00:00:00-05:00  17.879999  67.440002  70.150002  28.350000  14.40   \n\n                           ...    Volume                               \\\n                           ...      BIDU      BILI     FUTU        IQ   \nDate                       ...                                          \n2022-10-19 00:00:00-04:00  ...   6378000   9143500  1625000  12669000   \n2022-10-20 00:00:00-04:00  ...   5067400   6523000  1578500  12007700   \n2022-10-21 00:00:00-04:00  ...   5433500   7502600  1204000  19975900   \n2022-10-24 00:00:00-04:00  ...  16008500  20890700  8600200  27883200   \n2022-10-25 00:00:00-04:00  ...   5837700  12471800  3634000  18082900   \n2022-10-26 00:00:00-04:00  ...   5258300  15888300  3399100  14605800   \n2022-10-27 00:00:00-04:00  ...   3724200  10108800  1557900  10596300   \n2022-10-28 00:00:00-04:00  ...   4607000   9410700  1540100   8387900   \n2022-10-31 00:00:00-04:00  ...   4298800   6714200  1052600   6140400   \n2022-11-01 00:00:00-04:00  ...   4369500  12662300  2802300  14029300   \n2022-11-02 00:00:00-04:00  ...   4339100  10879200  1936700   7315900   \n2022-11-03 00:00:00-04:00  ...   2924400   8010700  2124400  15211200   \n2022-11-04 00:00:00-04:00  ...   4838400  21961700  3646700  24208800   \n2022-11-07 00:00:00-05:00  ...   3041000  16347400  1407900  10052700   \n2022-11-08 00:00:00-05:00  ...   2022400   9035700  1097900  11352300   \n2022-11-09 00:00:00-05:00  ...   3183400   9154000  1162000  10982400   \n2022-11-10 00:00:00-05:00  ...   3620800   9643800  1854500  15268300   \n2022-11-11 00:00:00-05:00  ...   3585500  10521800  2741200  22910400   \n2022-11-14 00:00:00-05:00  ...   2812900   7220900  3170800   9991700   \n2022-11-15 00:00:00-05:00  ...   6126500  24960300  5371000  22637100   \n2022-11-16 00:00:00-05:00  ...   2967300  13639200  3029700  15289600   \n2022-11-17 00:00:00-05:00  ...   3618400  13785700  2809200  10285500   \n2022-11-18 00:00:00-05:00  ...   2951000  10388200  1578500  13557700   \n\n                                                                            \\\n                                 JD        LI     NTES       PDD      TCOM   \nDate                                                                         \n2022-10-19 00:00:00-04:00  11761100  14375000  1285300  12230900   5112700   \n2022-10-20 00:00:00-04:00  10832700  12257400  3485100   8832700   4876900   \n2022-10-21 00:00:00-04:00   8515900   7584900  3790500  13696300   4303000   \n2022-10-24 00:00:00-04:00  29614400  37180000  5906400  73112000  11601900   \n2022-10-25 00:00:00-04:00  15122300  20487800  2865400  25890100   6816100   \n2022-10-26 00:00:00-04:00  22836100  12788700  4070900  28133300   6126400   \n2022-10-27 00:00:00-04:00  10699500  14480700  1889000  14764500   2949900   \n2022-10-28 00:00:00-04:00  13592200  12295500  2436000  13659000   4044600   \n2022-10-31 00:00:00-04:00   9762000  14726000  1865100  13403300   4808800   \n2022-11-01 00:00:00-04:00  12171600  21373900  2916100  16139000   6148300   \n2022-11-02 00:00:00-04:00  13751800  38737400  2739200  10571000   6921900   \n2022-11-03 00:00:00-04:00  11091800  18659300  1504300  12876400   6253400   \n2022-11-04 00:00:00-04:00  20365400  21830500  3519700  22531500  13294700   \n2022-11-07 00:00:00-05:00  10360500  13579600  1593300  16456400   8800800   \n2022-11-08 00:00:00-05:00   9351300   9945300  1349800  10251200   2230900   \n2022-11-09 00:00:00-05:00   9533900  15431800  1678400   9125700   4215700   \n2022-11-10 00:00:00-05:00  11966000  14257600  1915900  12182100   5946900   \n2022-11-11 00:00:00-05:00  12944500  14209200  1553000  12788600   9032900   \n2022-11-14 00:00:00-05:00  12662500  10693000  1331200  13099500   4452800   \n2022-11-15 00:00:00-05:00  13060500  12150100  3121100  15846800  11159000   \n2022-11-16 00:00:00-05:00   6782500   8232800  3585300   8174300   7172200   \n2022-11-17 00:00:00-05:00  15141200  10994700  4510300  13932100   8111300   \n2022-11-18 00:00:00-05:00  16758100   5713000  2535400   8056400   4914400   \n\n                                    \n                                WB  \nDate                                \n2022-10-19 00:00:00-04:00   779600  \n2022-10-20 00:00:00-04:00  1546200  \n2022-10-21 00:00:00-04:00   598700  \n2022-10-24 00:00:00-04:00  1894400  \n2022-10-25 00:00:00-04:00  1161000  \n2022-10-26 00:00:00-04:00  3365800  \n2022-10-27 00:00:00-04:00  2044800  \n2022-10-28 00:00:00-04:00  1002500  \n2022-10-31 00:00:00-04:00  2106500  \n2022-11-01 00:00:00-04:00  3047100  \n2022-11-02 00:00:00-04:00  1127500  \n2022-11-03 00:00:00-04:00   613200  \n2022-11-04 00:00:00-04:00  1526300  \n2022-11-07 00:00:00-05:00   884500  \n2022-11-08 00:00:00-05:00   547200  \n2022-11-09 00:00:00-05:00   833100  \n2022-11-10 00:00:00-05:00   946000  \n2022-11-11 00:00:00-05:00   905600  \n2022-11-14 00:00:00-05:00   823700  \n2022-11-15 00:00:00-05:00  1462500  \n2022-11-16 00:00:00-05:00  1060600  \n2022-11-17 00:00:00-05:00  1866100  \n2022-11-18 00:00:00-05:00   934400  \n\n[23 rows x 70 columns]",
      "text/html": "<div>\n<style scoped>\n    .dataframe tbody tr th:only-of-type {\n        vertical-align: middle;\n    }\n\n    .dataframe tbody tr th {\n        vertical-align: top;\n    }\n\n    .dataframe thead tr th {\n        text-align: left;\n    }\n\n    .dataframe thead tr:last-of-type th {\n        text-align: right;\n    }\n</style>\n<table border=\"1\" class=\"dataframe\">\n  <thead>\n    <tr>\n      <th></th>\n      <th colspan=\"10\" halign=\"left\">Close</th>\n      <th>...</th>\n      <th colspan=\"10\" halign=\"left\">Volume</th>\n    </tr>\n    <tr>\n      <th></th>\n      <th>BIDU</th>\n      <th>BILI</th>\n      <th>FUTU</th>\n      <th>IQ</th>\n      <th>JD</th>\n      <th>LI</th>\n      <th>NTES</th>\n      <th>PDD</th>\n      <th>TCOM</th>\n      <th>WB</th>\n      <th>...</th>\n      <th>BIDU</th>\n      <th>BILI</th>\n      <th>FUTU</th>\n      <th>IQ</th>\n      <th>JD</th>\n      <th>LI</th>\n      <th>NTES</th>\n      <th>PDD</th>\n      <th>TCOM</th>\n      <th>WB</th>\n    </tr>\n    <tr>\n      <th>Date</th>\n      <th></th>\n      <th></th>\n      <th></th>\n      <th></th>\n      <th></th>\n      <th></th>\n      <th></th>\n      <th></th>\n      <th></th>\n      <th></th>\n      <th></th>\n      <th></th>\n      <th></th>\n      <th></th>\n      <th></th>\n      <th></th>\n      <th></th>\n      <th></th>\n      <th></th>\n      <th></th>\n      <th></th>\n    </tr>\n  </thead>\n  <tbody>\n    <tr>\n      <th>2022-10-19 00:00:00-04:00</th>\n      <td>93.269997</td>\n      <td>11.030000</td>\n      <td>34.070000</td>\n      <td>2.13</td>\n      <td>41.220001</td>\n      <td>16.799999</td>\n      <td>67.040001</td>\n      <td>54.490002</td>\n      <td>22.620001</td>\n      <td>12.73</td>\n      <td>...</td>\n      <td>6378000</td>\n      <td>9143500</td>\n      <td>1625000</td>\n      <td>12669000</td>\n      <td>11761100</td>\n      <td>14375000</td>\n      <td>1285300</td>\n      <td>12230900</td>\n      <td>5112700</td>\n      <td>779600</td>\n    </tr>\n    <tr>\n      <th>2022-10-20 00:00:00-04:00</th>\n      <td>93.370003</td>\n      <td>11.070000</td>\n      <td>34.090000</td>\n      <td>2.07</td>\n      <td>42.160000</td>\n      <td>17.299999</td>\n      <td>64.690002</td>\n      <td>55.889999</td>\n      <td>23.260000</td>\n      <td>12.65</td>\n      <td>...</td>\n      <td>5067400</td>\n      <td>6523000</td>\n      <td>1578500</td>\n      <td>12007700</td>\n      <td>10832700</td>\n      <td>12257400</td>\n      <td>3485100</td>\n      <td>8832700</td>\n      <td>4876900</td>\n      <td>1546200</td>\n    </tr>\n    <tr>\n      <th>2022-10-21 00:00:00-04:00</th>\n      <td>91.230003</td>\n      <td>11.050000</td>\n      <td>34.950001</td>\n      <td>2.03</td>\n      <td>42.150002</td>\n      <td>17.770000</td>\n      <td>62.430000</td>\n      <td>58.970001</td>\n      <td>23.940001</td>\n      <td>12.25</td>\n      <td>...</td>\n      <td>5433500</td>\n      <td>7502600</td>\n      <td>1204000</td>\n      <td>19975900</td>\n      <td>8515900</td>\n      <td>7584900</td>\n      <td>3790500</td>\n      <td>13696300</td>\n      <td>4303000</td>\n      <td>598700</td>\n    </tr>\n    <tr>\n      <th>2022-10-24 00:00:00-04:00</th>\n      <td>79.750000</td>\n      <td>9.190000</td>\n      <td>32.180000</td>\n      <td>2.01</td>\n      <td>36.660000</td>\n      <td>14.680000</td>\n      <td>56.279999</td>\n      <td>44.459999</td>\n      <td>20.360001</td>\n      <td>10.71</td>\n      <td>...</td>\n      <td>16008500</td>\n      <td>20890700</td>\n      <td>8600200</td>\n      <td>27883200</td>\n      <td>29614400</td>\n      <td>37180000</td>\n      <td>5906400</td>\n      <td>73112000</td>\n      <td>11601900</td>\n      <td>1894400</td>\n    </tr>\n    <tr>\n      <th>2022-10-25 00:00:00-04:00</th>\n      <td>81.209999</td>\n      <td>9.930000</td>\n      <td>32.939999</td>\n      <td>2.20</td>\n      <td>37.770000</td>\n      <td>15.900000</td>\n      <td>57.320000</td>\n      <td>47.529999</td>\n      <td>21.879999</td>\n      <td>11.30</td>\n      <td>...</td>\n      <td>5837700</td>\n      <td>12471800</td>\n      <td>3634000</td>\n      <td>18082900</td>\n      <td>15122300</td>\n      <td>20487800</td>\n      <td>2865400</td>\n      <td>25890100</td>\n      <td>6816100</td>\n      <td>1161000</td>\n    </tr>\n    <tr>\n      <th>2022-10-26 00:00:00-04:00</th>\n      <td>84.190002</td>\n      <td>10.480000</td>\n      <td>34.860001</td>\n      <td>2.20</td>\n      <td>41.040001</td>\n      <td>16.270000</td>\n      <td>58.820000</td>\n      <td>53.090000</td>\n      <td>23.320000</td>\n      <td>12.20</td>\n      <td>...</td>\n      <td>5258300</td>\n      <td>15888300</td>\n      <td>3399100</td>\n      <td>14605800</td>\n      <td>22836100</td>\n      <td>12788700</td>\n      <td>4070900</td>\n      <td>28133300</td>\n      <td>6126400</td>\n      <td>3365800</td>\n    </tr>\n    <tr>\n      <th>2022-10-27 00:00:00-04:00</th>\n      <td>80.949997</td>\n      <td>9.520000</td>\n      <td>34.459999</td>\n      <td>2.07</td>\n      <td>39.500000</td>\n      <td>14.985000</td>\n      <td>56.720001</td>\n      <td>53.110001</td>\n      <td>23.200001</td>\n      <td>11.79</td>\n      <td>...</td>\n      <td>3724200</td>\n      <td>10108800</td>\n      <td>1557900</td>\n      <td>10596300</td>\n      <td>10699500</td>\n      <td>14480700</td>\n      <td>1889000</td>\n      <td>14764500</td>\n      <td>2949900</td>\n      <td>2044800</td>\n    </tr>\n    <tr>\n      <th>2022-10-28 00:00:00-04:00</th>\n      <td>78.540001</td>\n      <td>8.950000</td>\n      <td>33.849998</td>\n      <td>2.05</td>\n      <td>37.860001</td>\n      <td>14.260000</td>\n      <td>55.410000</td>\n      <td>52.950001</td>\n      <td>22.830000</td>\n      <td>10.88</td>\n      <td>...</td>\n      <td>4607000</td>\n      <td>9410700</td>\n      <td>1540100</td>\n      <td>8387900</td>\n      <td>13592200</td>\n      <td>12295500</td>\n      <td>2436000</td>\n      <td>13659000</td>\n      <td>4044600</td>\n      <td>1002500</td>\n    </tr>\n    <tr>\n      <th>2022-10-31 00:00:00-04:00</th>\n      <td>76.570000</td>\n      <td>8.920000</td>\n      <td>33.860001</td>\n      <td>2.02</td>\n      <td>37.290001</td>\n      <td>13.620000</td>\n      <td>55.619999</td>\n      <td>54.830002</td>\n      <td>22.629999</td>\n      <td>11.32</td>\n      <td>...</td>\n      <td>4298800</td>\n      <td>6714200</td>\n      <td>1052600</td>\n      <td>6140400</td>\n      <td>9762000</td>\n      <td>14726000</td>\n      <td>1865100</td>\n      <td>13403300</td>\n      <td>4808800</td>\n      <td>2106500</td>\n    </tr>\n    <tr>\n      <th>2022-11-01 00:00:00-04:00</th>\n      <td>78.230003</td>\n      <td>9.230000</td>\n      <td>35.500000</td>\n      <td>2.13</td>\n      <td>38.439999</td>\n      <td>14.560000</td>\n      <td>59.570000</td>\n      <td>53.889999</td>\n      <td>24.540001</td>\n      <td>12.46</td>\n      <td>...</td>\n      <td>4369500</td>\n      <td>12662300</td>\n      <td>2802300</td>\n      <td>14029300</td>\n      <td>12171600</td>\n      <td>21373900</td>\n      <td>2916100</td>\n      <td>16139000</td>\n      <td>6148300</td>\n      <td>3047100</td>\n    </tr>\n    <tr>\n      <th>2022-11-02 00:00:00-04:00</th>\n      <td>78.129997</td>\n      <td>9.260000</td>\n      <td>36.070000</td>\n      <td>2.14</td>\n      <td>39.840000</td>\n      <td>16.320000</td>\n      <td>59.290001</td>\n      <td>53.610001</td>\n      <td>25.500000</td>\n      <td>12.31</td>\n      <td>...</td>\n      <td>4339100</td>\n      <td>10879200</td>\n      <td>1936700</td>\n      <td>7315900</td>\n      <td>13751800</td>\n      <td>38737400</td>\n      <td>2739200</td>\n      <td>10571000</td>\n      <td>6921900</td>\n      <td>1127500</td>\n    </tr>\n    <tr>\n      <th>2022-11-03 00:00:00-04:00</th>\n      <td>78.150002</td>\n      <td>9.530000</td>\n      <td>37.590000</td>\n      <td>2.19</td>\n      <td>40.439999</td>\n      <td>16.750000</td>\n      <td>59.150002</td>\n      <td>56.970001</td>\n      <td>26.520000</td>\n      <td>12.68</td>\n      <td>...</td>\n      <td>2924400</td>\n      <td>8010700</td>\n      <td>2124400</td>\n      <td>15211200</td>\n      <td>11091800</td>\n      <td>18659300</td>\n      <td>1504300</td>\n      <td>12876400</td>\n      <td>6253400</td>\n      <td>613200</td>\n    </tr>\n    <tr>\n      <th>2022-11-04 00:00:00-04:00</th>\n      <td>85.199997</td>\n      <td>11.710000</td>\n      <td>38.910000</td>\n      <td>2.44</td>\n      <td>44.380001</td>\n      <td>18.309999</td>\n      <td>62.520000</td>\n      <td>61.889999</td>\n      <td>28.000000</td>\n      <td>13.16</td>\n      <td>...</td>\n      <td>4838400</td>\n      <td>21961700</td>\n      <td>3646700</td>\n      <td>24208800</td>\n      <td>20365400</td>\n      <td>21830500</td>\n      <td>3519700</td>\n      <td>22531500</td>\n      <td>13294700</td>\n      <td>1526300</td>\n    </tr>\n    <tr>\n      <th>2022-11-07 00:00:00-05:00</th>\n      <td>85.019997</td>\n      <td>11.820000</td>\n      <td>40.220001</td>\n      <td>2.37</td>\n      <td>44.509998</td>\n      <td>18.160000</td>\n      <td>62.630001</td>\n      <td>61.720001</td>\n      <td>26.990000</td>\n      <td>13.17</td>\n      <td>...</td>\n      <td>3041000</td>\n      <td>16347400</td>\n      <td>1407900</td>\n      <td>10052700</td>\n      <td>10360500</td>\n      <td>13579600</td>\n      <td>1593300</td>\n      <td>16456400</td>\n      <td>8800800</td>\n      <td>884500</td>\n    </tr>\n    <tr>\n      <th>2022-11-08 00:00:00-05:00</th>\n      <td>85.190002</td>\n      <td>11.560000</td>\n      <td>40.000000</td>\n      <td>2.27</td>\n      <td>45.490002</td>\n      <td>18.469999</td>\n      <td>62.130001</td>\n      <td>62.919998</td>\n      <td>27.170000</td>\n      <td>13.12</td>\n      <td>...</td>\n      <td>2022400</td>\n      <td>9035700</td>\n      <td>1097900</td>\n      <td>11352300</td>\n      <td>9351300</td>\n      <td>9945300</td>\n      <td>1349800</td>\n      <td>10251200</td>\n      <td>2230900</td>\n      <td>547200</td>\n    </tr>\n    <tr>\n      <th>2022-11-09 00:00:00-05:00</th>\n      <td>79.480003</td>\n      <td>10.170000</td>\n      <td>38.610001</td>\n      <td>2.02</td>\n      <td>42.459999</td>\n      <td>16.180000</td>\n      <td>59.220001</td>\n      <td>59.160000</td>\n      <td>25.000000</td>\n      <td>12.25</td>\n      <td>...</td>\n      <td>3183400</td>\n      <td>9154000</td>\n      <td>1162000</td>\n      <td>10982400</td>\n      <td>9533900</td>\n      <td>15431800</td>\n      <td>1678400</td>\n      <td>9125700</td>\n      <td>4215700</td>\n      <td>833100</td>\n    </tr>\n    <tr>\n      <th>2022-11-10 00:00:00-05:00</th>\n      <td>86.110001</td>\n      <td>11.710000</td>\n      <td>42.110001</td>\n      <td>2.31</td>\n      <td>46.029999</td>\n      <td>17.410000</td>\n      <td>62.270000</td>\n      <td>64.050003</td>\n      <td>27.500000</td>\n      <td>13.01</td>\n      <td>...</td>\n      <td>3620800</td>\n      <td>9643800</td>\n      <td>1854500</td>\n      <td>15268300</td>\n      <td>11966000</td>\n      <td>14257600</td>\n      <td>1915900</td>\n      <td>12182100</td>\n      <td>5946900</td>\n      <td>946000</td>\n    </tr>\n    <tr>\n      <th>2022-11-11 00:00:00-05:00</th>\n      <td>89.459999</td>\n      <td>12.670000</td>\n      <td>45.610001</td>\n      <td>2.75</td>\n      <td>48.930000</td>\n      <td>18.969999</td>\n      <td>64.760002</td>\n      <td>65.180000</td>\n      <td>28.840000</td>\n      <td>14.01</td>\n      <td>...</td>\n      <td>3585500</td>\n      <td>10521800</td>\n      <td>2741200</td>\n      <td>22910400</td>\n      <td>12944500</td>\n      <td>14209200</td>\n      <td>1553000</td>\n      <td>12788600</td>\n      <td>9032900</td>\n      <td>905600</td>\n    </tr>\n    <tr>\n      <th>2022-11-14 00:00:00-05:00</th>\n      <td>91.449997</td>\n      <td>12.880000</td>\n      <td>49.009998</td>\n      <td>2.66</td>\n      <td>50.849998</td>\n      <td>17.959999</td>\n      <td>65.239998</td>\n      <td>65.389999</td>\n      <td>27.719999</td>\n      <td>13.76</td>\n      <td>...</td>\n      <td>2812900</td>\n      <td>7220900</td>\n      <td>3170800</td>\n      <td>9991700</td>\n      <td>12662500</td>\n      <td>10693000</td>\n      <td>1331200</td>\n      <td>13099500</td>\n      <td>4452800</td>\n      <td>823700</td>\n    </tr>\n    <tr>\n      <th>2022-11-15 00:00:00-05:00</th>\n      <td>99.699997</td>\n      <td>16.280001</td>\n      <td>53.860001</td>\n      <td>3.10</td>\n      <td>54.480000</td>\n      <td>18.940001</td>\n      <td>71.599998</td>\n      <td>70.970001</td>\n      <td>29.280001</td>\n      <td>15.35</td>\n      <td>...</td>\n      <td>6126500</td>\n      <td>24960300</td>\n      <td>5371000</td>\n      <td>22637100</td>\n      <td>13060500</td>\n      <td>12150100</td>\n      <td>3121100</td>\n      <td>15846800</td>\n      <td>11159000</td>\n      <td>1462500</td>\n    </tr>\n    <tr>\n      <th>2022-11-16 00:00:00-05:00</th>\n      <td>94.750000</td>\n      <td>15.460000</td>\n      <td>50.349998</td>\n      <td>2.85</td>\n      <td>53.490002</td>\n      <td>17.770000</td>\n      <td>71.330002</td>\n      <td>67.559998</td>\n      <td>28.760000</td>\n      <td>14.81</td>\n      <td>...</td>\n      <td>2967300</td>\n      <td>13639200</td>\n      <td>3029700</td>\n      <td>15289600</td>\n      <td>6782500</td>\n      <td>8232800</td>\n      <td>3585300</td>\n      <td>8174300</td>\n      <td>7172200</td>\n      <td>1060600</td>\n    </tr>\n    <tr>\n      <th>2022-11-17 00:00:00-05:00</th>\n      <td>99.580002</td>\n      <td>15.790000</td>\n      <td>52.259998</td>\n      <td>2.96</td>\n      <td>57.520000</td>\n      <td>18.360001</td>\n      <td>71.000000</td>\n      <td>70.550003</td>\n      <td>29.170000</td>\n      <td>15.90</td>\n      <td>...</td>\n      <td>3618400</td>\n      <td>13785700</td>\n      <td>2809200</td>\n      <td>10285500</td>\n      <td>15141200</td>\n      <td>10994700</td>\n      <td>4510300</td>\n      <td>13932100</td>\n      <td>8111300</td>\n      <td>1866100</td>\n    </tr>\n    <tr>\n      <th>2022-11-18 00:00:00-05:00</th>\n      <td>95.970001</td>\n      <td>14.720000</td>\n      <td>50.619999</td>\n      <td>2.78</td>\n      <td>56.070000</td>\n      <td>17.879999</td>\n      <td>67.440002</td>\n      <td>70.150002</td>\n      <td>28.350000</td>\n      <td>14.40</td>\n      <td>...</td>\n      <td>2951000</td>\n      <td>10388200</td>\n      <td>1578500</td>\n      <td>13557700</td>\n      <td>16758100</td>\n      <td>5713000</td>\n      <td>2535400</td>\n      <td>8056400</td>\n      <td>4914400</td>\n      <td>934400</td>\n    </tr>\n  </tbody>\n</table>\n<p>23 rows × 70 columns</p>\n</div>"
     },
     "execution_count": 23,
     "metadata": {},
     "output_type": "execute_result"
    }
   ],
   "source": [
    "stocks = yf.Tickers(list(short_list.Ticker))\n",
    "stocks.history(period='1mo', interval='1d')"
   ]
  },
  {
   "cell_type": "code",
   "execution_count": 24,
   "metadata": {
    "pycharm": {
     "name": "#%%\n"
    }
   },
   "outputs": [
    {
     "name": "stdout",
     "output_type": "stream",
     "text": [
      "[*********************100%***********************]  10 of 10 completed\n"
     ]
    },
    {
     "data": {
      "text/plain": "                           Adj Close                                        \\\n                                BIDU    BILI       FUTU      IQ         JD   \n2022-11-18 04:00:00-05:00  97.000000  15.460  51.690000  2.8500  56.870000   \n2022-11-18 05:00:00-05:00  96.500000  15.480  51.650000  2.8900  58.040000   \n2022-11-18 06:00:00-05:00  96.990000  15.410  51.840000  2.9200  59.060000   \n2022-11-18 07:00:00-05:00  96.980000  15.520  51.760000  2.9600  60.540000   \n2022-11-18 08:00:00-05:00  96.720000  15.490  51.660000  2.9400  59.100000   \n2022-11-18 09:00:00-05:00  96.800000  15.790  51.760000  2.9400  59.200000   \n2022-11-18 09:30:00-05:00  96.550003  14.780  51.299999  2.7599  57.160000   \n2022-11-18 10:30:00-05:00  96.169998  14.340  50.709999  2.7150  55.219898   \n2022-11-18 11:30:00-05:00  95.839996  14.215  50.169998  2.7350  55.488602   \n2022-11-18 12:30:00-05:00  96.169998  14.550  50.570000  2.7350  56.070000   \n2022-11-18 13:30:00-05:00  95.970001  14.445  50.594398  2.7450  55.775002   \n2022-11-18 14:30:00-05:00  96.464996  14.525  50.730000  2.7450  55.830002   \n2022-11-18 15:30:00-05:00  95.879997  14.690  50.580002  2.7800  56.070000   \n2022-11-18 16:00:00-05:00  96.140000  14.670  50.630000  2.7800  56.080000   \n2022-11-18 17:00:00-05:00  96.100000  14.710  50.480000  2.7700  56.000000   \n2022-11-18 18:00:00-05:00  96.000000  14.620  50.680000  2.7700  56.040000   \n2022-11-18 19:00:00-05:00  96.150000  14.660  50.840000  2.7500  55.970000   \n\n                                                                               \\\n                                  LI       NTES        PDD       TCOM      WB   \n2022-11-18 04:00:00-05:00  18.100000  69.100000  69.360000  28.880000  15.400   \n2022-11-18 05:00:00-05:00  17.960000  69.000000  69.920000  28.500000  15.390   \n2022-11-18 06:00:00-05:00  18.170000  69.190000  70.400000  28.700000  15.760   \n2022-11-18 07:00:00-05:00  18.210000  69.950000  71.260000  28.650000  15.600   \n2022-11-18 08:00:00-05:00  18.270000  69.500000  71.098500  28.740000  15.650   \n2022-11-18 09:00:00-05:00  18.300000  69.450000  71.100000  28.800000  15.650   \n2022-11-18 09:30:00-05:00  17.865000  67.220001  69.900002  28.270000  14.915   \n2022-11-18 10:30:00-05:00  17.840000  67.099998  69.870003  28.139999  14.560   \n2022-11-18 11:30:00-05:00  17.745001  66.419998  69.790001  28.209999  14.295   \n2022-11-18 12:30:00-05:00  17.839899  67.129997  69.989998  28.295000  14.310   \n2022-11-18 13:30:00-05:00  17.750000  67.169998  70.230003  28.305000  14.270   \n2022-11-18 14:30:00-05:00  17.830000  67.485001  70.779999  28.565001  14.400   \n2022-11-18 15:30:00-05:00  17.870001  67.419998  70.120003  28.360001  14.440   \n2022-11-18 16:00:00-05:00  17.900000  67.680000  70.050000  28.350000  14.840   \n2022-11-18 17:00:00-05:00  17.910000  67.670000  70.060000  28.600000  14.500   \n2022-11-18 18:00:00-05:00  17.920000  67.570000  70.020000        NaN  14.400   \n2022-11-18 19:00:00-05:00  17.700000  67.310000  70.250000        NaN  14.500   \n\n                           ...   Volume                                     \\\n                           ...     BIDU     BILI    FUTU       IQ       JD   \n2022-11-18 04:00:00-05:00  ...        0        0       0        0        0   \n2022-11-18 05:00:00-05:00  ...        0        0       0        0        0   \n2022-11-18 06:00:00-05:00  ...        0        0       0        0        0   \n2022-11-18 07:00:00-05:00  ...        0        0       0        0        0   \n2022-11-18 08:00:00-05:00  ...        0        0       0        0        0   \n2022-11-18 09:00:00-05:00  ...        0        0       0        0        0   \n2022-11-18 09:30:00-05:00  ...  1134373  2946181  470759  4567732  8529142   \n2022-11-18 10:30:00-05:00  ...   252450  2781863  178270  2257333  2238043   \n2022-11-18 11:30:00-05:00  ...   319537  1174887  205803  1131915  1364054   \n2022-11-18 12:30:00-05:00  ...   118605   749405  155259   742124  1062778   \n2022-11-18 13:30:00-05:00  ...   162784   473400  119541   608614   751983   \n2022-11-18 14:30:00-05:00  ...   201423   572142  144407   925952   828670   \n2022-11-18 15:30:00-05:00  ...   455591  1199776  254416  2693168  1284336   \n2022-11-18 16:00:00-05:00  ...        0        0       0        0        0   \n2022-11-18 17:00:00-05:00  ...        0        0       0        0        0   \n2022-11-18 18:00:00-05:00  ...        0        0       0        0        0   \n2022-11-18 19:00:00-05:00  ...        0        0       0        0        0   \n\n                                                                        \n                                LI    NTES      PDD       TCOM      WB  \n2022-11-18 04:00:00-05:00        0       0        0        0.0       0  \n2022-11-18 05:00:00-05:00        0       0        0        0.0       0  \n2022-11-18 06:00:00-05:00        0       0        0        0.0       0  \n2022-11-18 07:00:00-05:00        0       0        0        0.0       0  \n2022-11-18 08:00:00-05:00        0       0        0        0.0       0  \n2022-11-18 09:00:00-05:00        0       0        0        0.0       0  \n2022-11-18 09:30:00-05:00  1812679  775396  3657979  1244427.0  124067  \n2022-11-18 10:30:00-05:00   576862  470143   904093   658895.0  153269  \n2022-11-18 11:30:00-05:00   472978  311309   616875   386706.0  162770  \n2022-11-18 12:30:00-05:00   329897  150174   481407   607921.0   83800  \n2022-11-18 13:30:00-05:00   239689  131970   434825   300069.0   70666  \n2022-11-18 14:30:00-05:00   434711  196817   513313   567651.0  107962  \n2022-11-18 15:30:00-05:00  1297120  386237   989780   899203.0  188620  \n2022-11-18 16:00:00-05:00        0       0        0        0.0       0  \n2022-11-18 17:00:00-05:00        0       0        0        0.0       0  \n2022-11-18 18:00:00-05:00        0       0        0        NaN       0  \n2022-11-18 19:00:00-05:00        0       0        0        NaN       0  \n\n[17 rows x 60 columns]",
      "text/html": "<div>\n<style scoped>\n    .dataframe tbody tr th:only-of-type {\n        vertical-align: middle;\n    }\n\n    .dataframe tbody tr th {\n        vertical-align: top;\n    }\n\n    .dataframe thead tr th {\n        text-align: left;\n    }\n</style>\n<table border=\"1\" class=\"dataframe\">\n  <thead>\n    <tr>\n      <th></th>\n      <th colspan=\"10\" halign=\"left\">Adj Close</th>\n      <th>...</th>\n      <th colspan=\"10\" halign=\"left\">Volume</th>\n    </tr>\n    <tr>\n      <th></th>\n      <th>BIDU</th>\n      <th>BILI</th>\n      <th>FUTU</th>\n      <th>IQ</th>\n      <th>JD</th>\n      <th>LI</th>\n      <th>NTES</th>\n      <th>PDD</th>\n      <th>TCOM</th>\n      <th>WB</th>\n      <th>...</th>\n      <th>BIDU</th>\n      <th>BILI</th>\n      <th>FUTU</th>\n      <th>IQ</th>\n      <th>JD</th>\n      <th>LI</th>\n      <th>NTES</th>\n      <th>PDD</th>\n      <th>TCOM</th>\n      <th>WB</th>\n    </tr>\n  </thead>\n  <tbody>\n    <tr>\n      <th>2022-11-18 04:00:00-05:00</th>\n      <td>97.000000</td>\n      <td>15.460</td>\n      <td>51.690000</td>\n      <td>2.8500</td>\n      <td>56.870000</td>\n      <td>18.100000</td>\n      <td>69.100000</td>\n      <td>69.360000</td>\n      <td>28.880000</td>\n      <td>15.400</td>\n      <td>...</td>\n      <td>0</td>\n      <td>0</td>\n      <td>0</td>\n      <td>0</td>\n      <td>0</td>\n      <td>0</td>\n      <td>0</td>\n      <td>0</td>\n      <td>0.0</td>\n      <td>0</td>\n    </tr>\n    <tr>\n      <th>2022-11-18 05:00:00-05:00</th>\n      <td>96.500000</td>\n      <td>15.480</td>\n      <td>51.650000</td>\n      <td>2.8900</td>\n      <td>58.040000</td>\n      <td>17.960000</td>\n      <td>69.000000</td>\n      <td>69.920000</td>\n      <td>28.500000</td>\n      <td>15.390</td>\n      <td>...</td>\n      <td>0</td>\n      <td>0</td>\n      <td>0</td>\n      <td>0</td>\n      <td>0</td>\n      <td>0</td>\n      <td>0</td>\n      <td>0</td>\n      <td>0.0</td>\n      <td>0</td>\n    </tr>\n    <tr>\n      <th>2022-11-18 06:00:00-05:00</th>\n      <td>96.990000</td>\n      <td>15.410</td>\n      <td>51.840000</td>\n      <td>2.9200</td>\n      <td>59.060000</td>\n      <td>18.170000</td>\n      <td>69.190000</td>\n      <td>70.400000</td>\n      <td>28.700000</td>\n      <td>15.760</td>\n      <td>...</td>\n      <td>0</td>\n      <td>0</td>\n      <td>0</td>\n      <td>0</td>\n      <td>0</td>\n      <td>0</td>\n      <td>0</td>\n      <td>0</td>\n      <td>0.0</td>\n      <td>0</td>\n    </tr>\n    <tr>\n      <th>2022-11-18 07:00:00-05:00</th>\n      <td>96.980000</td>\n      <td>15.520</td>\n      <td>51.760000</td>\n      <td>2.9600</td>\n      <td>60.540000</td>\n      <td>18.210000</td>\n      <td>69.950000</td>\n      <td>71.260000</td>\n      <td>28.650000</td>\n      <td>15.600</td>\n      <td>...</td>\n      <td>0</td>\n      <td>0</td>\n      <td>0</td>\n      <td>0</td>\n      <td>0</td>\n      <td>0</td>\n      <td>0</td>\n      <td>0</td>\n      <td>0.0</td>\n      <td>0</td>\n    </tr>\n    <tr>\n      <th>2022-11-18 08:00:00-05:00</th>\n      <td>96.720000</td>\n      <td>15.490</td>\n      <td>51.660000</td>\n      <td>2.9400</td>\n      <td>59.100000</td>\n      <td>18.270000</td>\n      <td>69.500000</td>\n      <td>71.098500</td>\n      <td>28.740000</td>\n      <td>15.650</td>\n      <td>...</td>\n      <td>0</td>\n      <td>0</td>\n      <td>0</td>\n      <td>0</td>\n      <td>0</td>\n      <td>0</td>\n      <td>0</td>\n      <td>0</td>\n      <td>0.0</td>\n      <td>0</td>\n    </tr>\n    <tr>\n      <th>2022-11-18 09:00:00-05:00</th>\n      <td>96.800000</td>\n      <td>15.790</td>\n      <td>51.760000</td>\n      <td>2.9400</td>\n      <td>59.200000</td>\n      <td>18.300000</td>\n      <td>69.450000</td>\n      <td>71.100000</td>\n      <td>28.800000</td>\n      <td>15.650</td>\n      <td>...</td>\n      <td>0</td>\n      <td>0</td>\n      <td>0</td>\n      <td>0</td>\n      <td>0</td>\n      <td>0</td>\n      <td>0</td>\n      <td>0</td>\n      <td>0.0</td>\n      <td>0</td>\n    </tr>\n    <tr>\n      <th>2022-11-18 09:30:00-05:00</th>\n      <td>96.550003</td>\n      <td>14.780</td>\n      <td>51.299999</td>\n      <td>2.7599</td>\n      <td>57.160000</td>\n      <td>17.865000</td>\n      <td>67.220001</td>\n      <td>69.900002</td>\n      <td>28.270000</td>\n      <td>14.915</td>\n      <td>...</td>\n      <td>1134373</td>\n      <td>2946181</td>\n      <td>470759</td>\n      <td>4567732</td>\n      <td>8529142</td>\n      <td>1812679</td>\n      <td>775396</td>\n      <td>3657979</td>\n      <td>1244427.0</td>\n      <td>124067</td>\n    </tr>\n    <tr>\n      <th>2022-11-18 10:30:00-05:00</th>\n      <td>96.169998</td>\n      <td>14.340</td>\n      <td>50.709999</td>\n      <td>2.7150</td>\n      <td>55.219898</td>\n      <td>17.840000</td>\n      <td>67.099998</td>\n      <td>69.870003</td>\n      <td>28.139999</td>\n      <td>14.560</td>\n      <td>...</td>\n      <td>252450</td>\n      <td>2781863</td>\n      <td>178270</td>\n      <td>2257333</td>\n      <td>2238043</td>\n      <td>576862</td>\n      <td>470143</td>\n      <td>904093</td>\n      <td>658895.0</td>\n      <td>153269</td>\n    </tr>\n    <tr>\n      <th>2022-11-18 11:30:00-05:00</th>\n      <td>95.839996</td>\n      <td>14.215</td>\n      <td>50.169998</td>\n      <td>2.7350</td>\n      <td>55.488602</td>\n      <td>17.745001</td>\n      <td>66.419998</td>\n      <td>69.790001</td>\n      <td>28.209999</td>\n      <td>14.295</td>\n      <td>...</td>\n      <td>319537</td>\n      <td>1174887</td>\n      <td>205803</td>\n      <td>1131915</td>\n      <td>1364054</td>\n      <td>472978</td>\n      <td>311309</td>\n      <td>616875</td>\n      <td>386706.0</td>\n      <td>162770</td>\n    </tr>\n    <tr>\n      <th>2022-11-18 12:30:00-05:00</th>\n      <td>96.169998</td>\n      <td>14.550</td>\n      <td>50.570000</td>\n      <td>2.7350</td>\n      <td>56.070000</td>\n      <td>17.839899</td>\n      <td>67.129997</td>\n      <td>69.989998</td>\n      <td>28.295000</td>\n      <td>14.310</td>\n      <td>...</td>\n      <td>118605</td>\n      <td>749405</td>\n      <td>155259</td>\n      <td>742124</td>\n      <td>1062778</td>\n      <td>329897</td>\n      <td>150174</td>\n      <td>481407</td>\n      <td>607921.0</td>\n      <td>83800</td>\n    </tr>\n    <tr>\n      <th>2022-11-18 13:30:00-05:00</th>\n      <td>95.970001</td>\n      <td>14.445</td>\n      <td>50.594398</td>\n      <td>2.7450</td>\n      <td>55.775002</td>\n      <td>17.750000</td>\n      <td>67.169998</td>\n      <td>70.230003</td>\n      <td>28.305000</td>\n      <td>14.270</td>\n      <td>...</td>\n      <td>162784</td>\n      <td>473400</td>\n      <td>119541</td>\n      <td>608614</td>\n      <td>751983</td>\n      <td>239689</td>\n      <td>131970</td>\n      <td>434825</td>\n      <td>300069.0</td>\n      <td>70666</td>\n    </tr>\n    <tr>\n      <th>2022-11-18 14:30:00-05:00</th>\n      <td>96.464996</td>\n      <td>14.525</td>\n      <td>50.730000</td>\n      <td>2.7450</td>\n      <td>55.830002</td>\n      <td>17.830000</td>\n      <td>67.485001</td>\n      <td>70.779999</td>\n      <td>28.565001</td>\n      <td>14.400</td>\n      <td>...</td>\n      <td>201423</td>\n      <td>572142</td>\n      <td>144407</td>\n      <td>925952</td>\n      <td>828670</td>\n      <td>434711</td>\n      <td>196817</td>\n      <td>513313</td>\n      <td>567651.0</td>\n      <td>107962</td>\n    </tr>\n    <tr>\n      <th>2022-11-18 15:30:00-05:00</th>\n      <td>95.879997</td>\n      <td>14.690</td>\n      <td>50.580002</td>\n      <td>2.7800</td>\n      <td>56.070000</td>\n      <td>17.870001</td>\n      <td>67.419998</td>\n      <td>70.120003</td>\n      <td>28.360001</td>\n      <td>14.440</td>\n      <td>...</td>\n      <td>455591</td>\n      <td>1199776</td>\n      <td>254416</td>\n      <td>2693168</td>\n      <td>1284336</td>\n      <td>1297120</td>\n      <td>386237</td>\n      <td>989780</td>\n      <td>899203.0</td>\n      <td>188620</td>\n    </tr>\n    <tr>\n      <th>2022-11-18 16:00:00-05:00</th>\n      <td>96.140000</td>\n      <td>14.670</td>\n      <td>50.630000</td>\n      <td>2.7800</td>\n      <td>56.080000</td>\n      <td>17.900000</td>\n      <td>67.680000</td>\n      <td>70.050000</td>\n      <td>28.350000</td>\n      <td>14.840</td>\n      <td>...</td>\n      <td>0</td>\n      <td>0</td>\n      <td>0</td>\n      <td>0</td>\n      <td>0</td>\n      <td>0</td>\n      <td>0</td>\n      <td>0</td>\n      <td>0.0</td>\n      <td>0</td>\n    </tr>\n    <tr>\n      <th>2022-11-18 17:00:00-05:00</th>\n      <td>96.100000</td>\n      <td>14.710</td>\n      <td>50.480000</td>\n      <td>2.7700</td>\n      <td>56.000000</td>\n      <td>17.910000</td>\n      <td>67.670000</td>\n      <td>70.060000</td>\n      <td>28.600000</td>\n      <td>14.500</td>\n      <td>...</td>\n      <td>0</td>\n      <td>0</td>\n      <td>0</td>\n      <td>0</td>\n      <td>0</td>\n      <td>0</td>\n      <td>0</td>\n      <td>0</td>\n      <td>0.0</td>\n      <td>0</td>\n    </tr>\n    <tr>\n      <th>2022-11-18 18:00:00-05:00</th>\n      <td>96.000000</td>\n      <td>14.620</td>\n      <td>50.680000</td>\n      <td>2.7700</td>\n      <td>56.040000</td>\n      <td>17.920000</td>\n      <td>67.570000</td>\n      <td>70.020000</td>\n      <td>NaN</td>\n      <td>14.400</td>\n      <td>...</td>\n      <td>0</td>\n      <td>0</td>\n      <td>0</td>\n      <td>0</td>\n      <td>0</td>\n      <td>0</td>\n      <td>0</td>\n      <td>0</td>\n      <td>NaN</td>\n      <td>0</td>\n    </tr>\n    <tr>\n      <th>2022-11-18 19:00:00-05:00</th>\n      <td>96.150000</td>\n      <td>14.660</td>\n      <td>50.840000</td>\n      <td>2.7500</td>\n      <td>55.970000</td>\n      <td>17.700000</td>\n      <td>67.310000</td>\n      <td>70.250000</td>\n      <td>NaN</td>\n      <td>14.500</td>\n      <td>...</td>\n      <td>0</td>\n      <td>0</td>\n      <td>0</td>\n      <td>0</td>\n      <td>0</td>\n      <td>0</td>\n      <td>0</td>\n      <td>0</td>\n      <td>NaN</td>\n      <td>0</td>\n    </tr>\n  </tbody>\n</table>\n<p>17 rows × 60 columns</p>\n</div>"
     },
     "execution_count": 24,
     "metadata": {},
     "output_type": "execute_result"
    }
   ],
   "source": [
    "yf.download(prepost=True, tickers=list(short_list.Ticker), period='1d', interval='1h')"
   ]
  },
  {
   "cell_type": "code",
   "execution_count": 25,
   "metadata": {
    "pycharm": {
     "name": "#%%\n"
    }
   },
   "outputs": [],
   "source": [
    "import plotly.graph_objects as go\n",
    "\n",
    "# fig = go.Figure(data=go.Scatter(x=jd_hist.index, y=jd_hist['Close'], mode='lines'))\n",
    "# fig.show()"
   ]
  },
  {
   "cell_type": "code",
   "execution_count": 25,
   "metadata": {
    "pycharm": {
     "name": "#%%\n"
    }
   },
   "outputs": [],
   "source": []
  },
  {
   "cell_type": "code",
   "execution_count": 26,
   "metadata": {
    "pycharm": {
     "name": "#%%\n"
    }
   },
   "outputs": [
    {
     "name": "stdout",
     "output_type": "stream",
     "text": [
      "[*********************100%***********************]  1 of 1 completed\n"
     ]
    }
   ],
   "source": [
    "data = yf.download(tickers='JD', start='2022-01-01', end='2022-06-30', interval='1h')"
   ]
  },
  {
   "cell_type": "code",
   "execution_count": 27,
   "metadata": {
    "pycharm": {
     "name": "#%%\n"
    }
   },
   "outputs": [
    {
     "data": {
      "text/plain": "                                Open       High        Low      Close  \\\n2022-01-03 09:30:00-05:00  68.900002  69.489998  66.870003  67.440002   \n2022-01-03 10:30:00-05:00  67.459999  68.669998  67.370003  68.370003   \n2022-01-03 11:30:00-05:00  68.370003  68.820000  67.839996  68.169998   \n2022-01-03 12:30:00-05:00  68.190002  68.489998  68.129997  68.425003   \n2022-01-03 13:30:00-05:00  68.430000  68.699997  68.239998  68.565002   \n...                              ...        ...        ...        ...   \n2022-06-29 11:30:00-04:00  63.924999  64.837997  63.834301  64.360001   \n2022-06-29 12:30:00-04:00  64.349998  64.739998  64.269997  64.400002   \n2022-06-29 13:30:00-04:00  64.400002  64.709999  64.209999  64.540001   \n2022-06-29 14:30:00-04:00  64.519997  64.662201  64.199997  64.660004   \n2022-06-29 15:30:00-04:00  64.669998  64.910004  64.489998  64.860001   \n\n                           Adj Close   Volume  \n2022-01-03 09:30:00-05:00  67.440002  3780738  \n2022-01-03 10:30:00-05:00  68.370003  1709814  \n2022-01-03 11:30:00-05:00  68.169998   866906  \n2022-01-03 12:30:00-05:00  68.425003   463075  \n2022-01-03 13:30:00-05:00  68.565002   418501  \n...                              ...      ...  \n2022-06-29 11:30:00-04:00  64.360001   640318  \n2022-06-29 12:30:00-04:00  64.400002   512697  \n2022-06-29 13:30:00-04:00  64.540001   400865  \n2022-06-29 14:30:00-04:00  64.660004   450826  \n2022-06-29 15:30:00-04:00  64.860001   879566  \n\n[861 rows x 6 columns]",
      "text/html": "<div>\n<style scoped>\n    .dataframe tbody tr th:only-of-type {\n        vertical-align: middle;\n    }\n\n    .dataframe tbody tr th {\n        vertical-align: top;\n    }\n\n    .dataframe thead th {\n        text-align: right;\n    }\n</style>\n<table border=\"1\" class=\"dataframe\">\n  <thead>\n    <tr style=\"text-align: right;\">\n      <th></th>\n      <th>Open</th>\n      <th>High</th>\n      <th>Low</th>\n      <th>Close</th>\n      <th>Adj Close</th>\n      <th>Volume</th>\n    </tr>\n  </thead>\n  <tbody>\n    <tr>\n      <th>2022-01-03 09:30:00-05:00</th>\n      <td>68.900002</td>\n      <td>69.489998</td>\n      <td>66.870003</td>\n      <td>67.440002</td>\n      <td>67.440002</td>\n      <td>3780738</td>\n    </tr>\n    <tr>\n      <th>2022-01-03 10:30:00-05:00</th>\n      <td>67.459999</td>\n      <td>68.669998</td>\n      <td>67.370003</td>\n      <td>68.370003</td>\n      <td>68.370003</td>\n      <td>1709814</td>\n    </tr>\n    <tr>\n      <th>2022-01-03 11:30:00-05:00</th>\n      <td>68.370003</td>\n      <td>68.820000</td>\n      <td>67.839996</td>\n      <td>68.169998</td>\n      <td>68.169998</td>\n      <td>866906</td>\n    </tr>\n    <tr>\n      <th>2022-01-03 12:30:00-05:00</th>\n      <td>68.190002</td>\n      <td>68.489998</td>\n      <td>68.129997</td>\n      <td>68.425003</td>\n      <td>68.425003</td>\n      <td>463075</td>\n    </tr>\n    <tr>\n      <th>2022-01-03 13:30:00-05:00</th>\n      <td>68.430000</td>\n      <td>68.699997</td>\n      <td>68.239998</td>\n      <td>68.565002</td>\n      <td>68.565002</td>\n      <td>418501</td>\n    </tr>\n    <tr>\n      <th>...</th>\n      <td>...</td>\n      <td>...</td>\n      <td>...</td>\n      <td>...</td>\n      <td>...</td>\n      <td>...</td>\n    </tr>\n    <tr>\n      <th>2022-06-29 11:30:00-04:00</th>\n      <td>63.924999</td>\n      <td>64.837997</td>\n      <td>63.834301</td>\n      <td>64.360001</td>\n      <td>64.360001</td>\n      <td>640318</td>\n    </tr>\n    <tr>\n      <th>2022-06-29 12:30:00-04:00</th>\n      <td>64.349998</td>\n      <td>64.739998</td>\n      <td>64.269997</td>\n      <td>64.400002</td>\n      <td>64.400002</td>\n      <td>512697</td>\n    </tr>\n    <tr>\n      <th>2022-06-29 13:30:00-04:00</th>\n      <td>64.400002</td>\n      <td>64.709999</td>\n      <td>64.209999</td>\n      <td>64.540001</td>\n      <td>64.540001</td>\n      <td>400865</td>\n    </tr>\n    <tr>\n      <th>2022-06-29 14:30:00-04:00</th>\n      <td>64.519997</td>\n      <td>64.662201</td>\n      <td>64.199997</td>\n      <td>64.660004</td>\n      <td>64.660004</td>\n      <td>450826</td>\n    </tr>\n    <tr>\n      <th>2022-06-29 15:30:00-04:00</th>\n      <td>64.669998</td>\n      <td>64.910004</td>\n      <td>64.489998</td>\n      <td>64.860001</td>\n      <td>64.860001</td>\n      <td>879566</td>\n    </tr>\n  </tbody>\n</table>\n<p>861 rows × 6 columns</p>\n</div>"
     },
     "execution_count": 27,
     "metadata": {},
     "output_type": "execute_result"
    }
   ],
   "source": [
    "data"
   ]
  },
  {
   "cell_type": "code",
   "execution_count": 28,
   "metadata": {
    "pycharm": {
     "name": "#%%\n"
    }
   },
   "outputs": [
    {
     "name": "stderr",
     "output_type": "stream",
     "text": [
      "/var/folders/hq/zj74p60n6sv9k3cnn88smg0c0000gn/T/ipykernel_21467/2064834986.py:2: SettingWithCopyWarning: \n",
      "A value is trying to be set on a copy of a slice from a DataFrame.\n",
      "Try using .loc[row_indexer,col_indexer] = value instead\n",
      "\n",
      "See the caveats in the documentation: https://pandas.pydata.org/pandas-docs/stable/user_guide/indexing.html#returning-a-view-versus-a-copy\n",
      "  data_9am['rate'] = (data_9am['Close'] - data_9am['Open']) / data_9am['Open']\n"
     ]
    }
   ],
   "source": [
    "data_9am = data.iloc[::7]\n",
    "data_9am['rate'] = (data_9am['Close'] - data_9am['Open']) / data_9am['Open']"
   ]
  },
  {
   "cell_type": "code",
   "execution_count": 29,
   "metadata": {
    "pycharm": {
     "name": "#%%\n"
    }
   },
   "outputs": [
    {
     "data": {
      "text/plain": "                                Open       High        Low      Close  \\\n2022-01-03 09:30:00-05:00  68.900002  69.489998  66.870003  67.440002   \n2022-01-04 09:30:00-05:00  67.699997  67.839996  63.560001  63.720001   \n2022-01-05 09:30:00-05:00  63.570000  65.169998  62.170399  65.000000   \n2022-01-06 09:30:00-05:00  65.250000  66.209999  63.665001  65.139999   \n2022-01-07 09:30:00-05:00  68.389999  69.680000  67.139999  68.290001   \n...                              ...        ...        ...        ...   \n2022-06-23 09:30:00-04:00  62.470001  64.029999  61.490002  63.139999   \n2022-06-24 09:30:00-04:00  63.090000  64.739998  62.599998  64.639999   \n2022-06-27 09:30:00-04:00  67.160004  68.290001  66.029999  66.480003   \n2022-06-28 09:30:00-04:00  65.699997  66.680000  65.239998  65.809998   \n2022-06-29 09:30:00-04:00  63.720001  64.900002  63.259899  64.449997   \n\n                           Adj Close   Volume      rate  \n2022-01-03 09:30:00-05:00  67.440002  3780738 -0.021190  \n2022-01-04 09:30:00-05:00  63.720001  6165040 -0.058789  \n2022-01-05 09:30:00-05:00  65.000000  7134761  0.022495  \n2022-01-06 09:30:00-05:00  65.139999  4180441 -0.001686  \n2022-01-07 09:30:00-05:00  68.290001  3412905 -0.001462  \n...                              ...      ...       ...  \n2022-06-23 09:30:00-04:00  63.139999  5110089  0.010725  \n2022-06-24 09:30:00-04:00  64.639999  3441802  0.024568  \n2022-06-27 09:30:00-04:00  66.480003  7224106 -0.010125  \n2022-06-28 09:30:00-04:00  65.809998  2905732  0.001674  \n2022-06-29 09:30:00-04:00  64.449997  2298634  0.011456  \n\n[123 rows x 7 columns]",
      "text/html": "<div>\n<style scoped>\n    .dataframe tbody tr th:only-of-type {\n        vertical-align: middle;\n    }\n\n    .dataframe tbody tr th {\n        vertical-align: top;\n    }\n\n    .dataframe thead th {\n        text-align: right;\n    }\n</style>\n<table border=\"1\" class=\"dataframe\">\n  <thead>\n    <tr style=\"text-align: right;\">\n      <th></th>\n      <th>Open</th>\n      <th>High</th>\n      <th>Low</th>\n      <th>Close</th>\n      <th>Adj Close</th>\n      <th>Volume</th>\n      <th>rate</th>\n    </tr>\n  </thead>\n  <tbody>\n    <tr>\n      <th>2022-01-03 09:30:00-05:00</th>\n      <td>68.900002</td>\n      <td>69.489998</td>\n      <td>66.870003</td>\n      <td>67.440002</td>\n      <td>67.440002</td>\n      <td>3780738</td>\n      <td>-0.021190</td>\n    </tr>\n    <tr>\n      <th>2022-01-04 09:30:00-05:00</th>\n      <td>67.699997</td>\n      <td>67.839996</td>\n      <td>63.560001</td>\n      <td>63.720001</td>\n      <td>63.720001</td>\n      <td>6165040</td>\n      <td>-0.058789</td>\n    </tr>\n    <tr>\n      <th>2022-01-05 09:30:00-05:00</th>\n      <td>63.570000</td>\n      <td>65.169998</td>\n      <td>62.170399</td>\n      <td>65.000000</td>\n      <td>65.000000</td>\n      <td>7134761</td>\n      <td>0.022495</td>\n    </tr>\n    <tr>\n      <th>2022-01-06 09:30:00-05:00</th>\n      <td>65.250000</td>\n      <td>66.209999</td>\n      <td>63.665001</td>\n      <td>65.139999</td>\n      <td>65.139999</td>\n      <td>4180441</td>\n      <td>-0.001686</td>\n    </tr>\n    <tr>\n      <th>2022-01-07 09:30:00-05:00</th>\n      <td>68.389999</td>\n      <td>69.680000</td>\n      <td>67.139999</td>\n      <td>68.290001</td>\n      <td>68.290001</td>\n      <td>3412905</td>\n      <td>-0.001462</td>\n    </tr>\n    <tr>\n      <th>...</th>\n      <td>...</td>\n      <td>...</td>\n      <td>...</td>\n      <td>...</td>\n      <td>...</td>\n      <td>...</td>\n      <td>...</td>\n    </tr>\n    <tr>\n      <th>2022-06-23 09:30:00-04:00</th>\n      <td>62.470001</td>\n      <td>64.029999</td>\n      <td>61.490002</td>\n      <td>63.139999</td>\n      <td>63.139999</td>\n      <td>5110089</td>\n      <td>0.010725</td>\n    </tr>\n    <tr>\n      <th>2022-06-24 09:30:00-04:00</th>\n      <td>63.090000</td>\n      <td>64.739998</td>\n      <td>62.599998</td>\n      <td>64.639999</td>\n      <td>64.639999</td>\n      <td>3441802</td>\n      <td>0.024568</td>\n    </tr>\n    <tr>\n      <th>2022-06-27 09:30:00-04:00</th>\n      <td>67.160004</td>\n      <td>68.290001</td>\n      <td>66.029999</td>\n      <td>66.480003</td>\n      <td>66.480003</td>\n      <td>7224106</td>\n      <td>-0.010125</td>\n    </tr>\n    <tr>\n      <th>2022-06-28 09:30:00-04:00</th>\n      <td>65.699997</td>\n      <td>66.680000</td>\n      <td>65.239998</td>\n      <td>65.809998</td>\n      <td>65.809998</td>\n      <td>2905732</td>\n      <td>0.001674</td>\n    </tr>\n    <tr>\n      <th>2022-06-29 09:30:00-04:00</th>\n      <td>63.720001</td>\n      <td>64.900002</td>\n      <td>63.259899</td>\n      <td>64.449997</td>\n      <td>64.449997</td>\n      <td>2298634</td>\n      <td>0.011456</td>\n    </tr>\n  </tbody>\n</table>\n<p>123 rows × 7 columns</p>\n</div>"
     },
     "execution_count": 29,
     "metadata": {},
     "output_type": "execute_result"
    }
   ],
   "source": [
    "data_9am\n"
   ]
  },
  {
   "cell_type": "code",
   "execution_count": 30,
   "metadata": {
    "pycharm": {
     "name": "#%%\n"
    }
   },
   "outputs": [
    {
     "data": {
      "text/plain": "0.020911391101894043"
     },
     "execution_count": 30,
     "metadata": {},
     "output_type": "execute_result"
    }
   ],
   "source": [
    "abs(data_9am.rate).mean()"
   ]
  },
  {
   "cell_type": "code",
   "execution_count": 31,
   "metadata": {
    "pycharm": {
     "name": "#%%\n"
    }
   },
   "outputs": [
    {
     "name": "stderr",
     "output_type": "stream",
     "text": [
      "/var/folders/hq/zj74p60n6sv9k3cnn88smg0c0000gn/T/ipykernel_21467/1204864440.py:3: SettingWithCopyWarning: \n",
      "A value is trying to be set on a copy of a slice from a DataFrame.\n",
      "Try using .loc[row_indexer,col_indexer] = value instead\n",
      "\n",
      "See the caveats in the documentation: https://pandas.pydata.org/pandas-docs/stable/user_guide/indexing.html#returning-a-view-versus-a-copy\n",
      "  data_10am.loc[:, 'rate'] = data_10am.apply(lambda row: (row.Close - row.Open) / row.Open, axis=1)\n"
     ]
    },
    {
     "data": {
      "text/plain": "                                Open       High        Low      Close  \\\n2022-01-03 10:30:00-05:00  67.459999  68.669998  67.370003  68.370003   \n2022-01-04 10:30:00-05:00  63.730000  63.970001  63.110001  63.770000   \n2022-01-05 10:30:00-05:00  65.000000  65.588699  64.980003  65.040001   \n2022-01-06 10:30:00-05:00  65.099998  67.445000  65.070099  66.989998   \n2022-01-07 10:30:00-05:00  68.250000  68.989998  67.614998  68.910004   \n...                              ...        ...        ...        ...   \n2022-06-23 10:30:00-04:00  63.220001  63.660000  61.949799  62.009998   \n2022-06-24 10:30:00-04:00  64.650002  64.839996  63.900002  64.360001   \n2022-06-27 10:30:00-04:00  66.459999  66.745003  65.905998  66.129997   \n2022-06-28 10:30:00-04:00  65.800003  65.800003  64.184799  64.209999   \n2022-06-29 10:30:00-04:00  64.459999  64.739998  63.889999  63.919998   \n\n                           Adj Close   Volume      rate  \n2022-01-03 10:30:00-05:00  68.370003  1709814  0.013490  \n2022-01-04 10:30:00-05:00  63.770000  2778278  0.000628  \n2022-01-05 10:30:00-05:00  65.040001  1927821  0.000615  \n2022-01-06 10:30:00-05:00  66.989998  2075013  0.029032  \n2022-01-07 10:30:00-05:00  68.910004  1531062  0.009670  \n...                              ...      ...       ...  \n2022-06-23 10:30:00-04:00  62.009998  1897972 -0.019140  \n2022-06-24 10:30:00-04:00  64.360001  1916380 -0.004486  \n2022-06-27 10:30:00-04:00  66.129997  1738413 -0.004965  \n2022-06-28 10:30:00-04:00  64.209999  1195847 -0.024164  \n2022-06-29 10:30:00-04:00  63.919998   766703 -0.008377  \n\n[123 rows x 7 columns]",
      "text/html": "<div>\n<style scoped>\n    .dataframe tbody tr th:only-of-type {\n        vertical-align: middle;\n    }\n\n    .dataframe tbody tr th {\n        vertical-align: top;\n    }\n\n    .dataframe thead th {\n        text-align: right;\n    }\n</style>\n<table border=\"1\" class=\"dataframe\">\n  <thead>\n    <tr style=\"text-align: right;\">\n      <th></th>\n      <th>Open</th>\n      <th>High</th>\n      <th>Low</th>\n      <th>Close</th>\n      <th>Adj Close</th>\n      <th>Volume</th>\n      <th>rate</th>\n    </tr>\n  </thead>\n  <tbody>\n    <tr>\n      <th>2022-01-03 10:30:00-05:00</th>\n      <td>67.459999</td>\n      <td>68.669998</td>\n      <td>67.370003</td>\n      <td>68.370003</td>\n      <td>68.370003</td>\n      <td>1709814</td>\n      <td>0.013490</td>\n    </tr>\n    <tr>\n      <th>2022-01-04 10:30:00-05:00</th>\n      <td>63.730000</td>\n      <td>63.970001</td>\n      <td>63.110001</td>\n      <td>63.770000</td>\n      <td>63.770000</td>\n      <td>2778278</td>\n      <td>0.000628</td>\n    </tr>\n    <tr>\n      <th>2022-01-05 10:30:00-05:00</th>\n      <td>65.000000</td>\n      <td>65.588699</td>\n      <td>64.980003</td>\n      <td>65.040001</td>\n      <td>65.040001</td>\n      <td>1927821</td>\n      <td>0.000615</td>\n    </tr>\n    <tr>\n      <th>2022-01-06 10:30:00-05:00</th>\n      <td>65.099998</td>\n      <td>67.445000</td>\n      <td>65.070099</td>\n      <td>66.989998</td>\n      <td>66.989998</td>\n      <td>2075013</td>\n      <td>0.029032</td>\n    </tr>\n    <tr>\n      <th>2022-01-07 10:30:00-05:00</th>\n      <td>68.250000</td>\n      <td>68.989998</td>\n      <td>67.614998</td>\n      <td>68.910004</td>\n      <td>68.910004</td>\n      <td>1531062</td>\n      <td>0.009670</td>\n    </tr>\n    <tr>\n      <th>...</th>\n      <td>...</td>\n      <td>...</td>\n      <td>...</td>\n      <td>...</td>\n      <td>...</td>\n      <td>...</td>\n      <td>...</td>\n    </tr>\n    <tr>\n      <th>2022-06-23 10:30:00-04:00</th>\n      <td>63.220001</td>\n      <td>63.660000</td>\n      <td>61.949799</td>\n      <td>62.009998</td>\n      <td>62.009998</td>\n      <td>1897972</td>\n      <td>-0.019140</td>\n    </tr>\n    <tr>\n      <th>2022-06-24 10:30:00-04:00</th>\n      <td>64.650002</td>\n      <td>64.839996</td>\n      <td>63.900002</td>\n      <td>64.360001</td>\n      <td>64.360001</td>\n      <td>1916380</td>\n      <td>-0.004486</td>\n    </tr>\n    <tr>\n      <th>2022-06-27 10:30:00-04:00</th>\n      <td>66.459999</td>\n      <td>66.745003</td>\n      <td>65.905998</td>\n      <td>66.129997</td>\n      <td>66.129997</td>\n      <td>1738413</td>\n      <td>-0.004965</td>\n    </tr>\n    <tr>\n      <th>2022-06-28 10:30:00-04:00</th>\n      <td>65.800003</td>\n      <td>65.800003</td>\n      <td>64.184799</td>\n      <td>64.209999</td>\n      <td>64.209999</td>\n      <td>1195847</td>\n      <td>-0.024164</td>\n    </tr>\n    <tr>\n      <th>2022-06-29 10:30:00-04:00</th>\n      <td>64.459999</td>\n      <td>64.739998</td>\n      <td>63.889999</td>\n      <td>63.919998</td>\n      <td>63.919998</td>\n      <td>766703</td>\n      <td>-0.008377</td>\n    </tr>\n  </tbody>\n</table>\n<p>123 rows × 7 columns</p>\n</div>"
     },
     "execution_count": 31,
     "metadata": {},
     "output_type": "execute_result"
    }
   ],
   "source": [
    "data_10am = data.iloc[1::7]\n",
    "# data_10am['rate'] = (data_10am['Close'] - data_10am['Open'])/data_10am['Open']\n",
    "data_10am.loc[:, 'rate'] = data_10am.apply(lambda row: (row.Close - row.Open) / row.Open, axis=1)\n",
    "data_10am"
   ]
  },
  {
   "cell_type": "code",
   "execution_count": 32,
   "metadata": {
    "pycharm": {
     "name": "#%%\n"
    }
   },
   "outputs": [
    {
     "data": {
      "text/plain": "0.009991736558126412"
     },
     "execution_count": 32,
     "metadata": {},
     "output_type": "execute_result"
    }
   ],
   "source": [
    "abs(data_10am.rate).mean()"
   ]
  },
  {
   "cell_type": "markdown",
   "metadata": {
    "pycharm": {
     "name": "#%% md\n"
    }
   },
   "source": [
    "# Test if the market overreact during the pre-market and the first hour"
   ]
  },
  {
   "cell_type": "code",
   "execution_count": 33,
   "metadata": {
    "pycharm": {
     "name": "#%%\n"
    }
   },
   "outputs": [
    {
     "data": {
      "text/plain": "                                Open       High        Low      Close  \\\n2022-01-03 09:30:00-05:00  68.900002  69.489998  66.870003  67.440002   \n2022-01-03 10:30:00-05:00  67.459999  68.669998  67.370003  68.370003   \n2022-01-03 11:30:00-05:00  68.370003  68.820000  67.839996  68.169998   \n2022-01-03 12:30:00-05:00  68.190002  68.489998  68.129997  68.425003   \n2022-01-03 13:30:00-05:00  68.430000  68.699997  68.239998  68.565002   \n...                              ...        ...        ...        ...   \n2022-06-29 11:30:00-04:00  63.924999  64.837997  63.834301  64.360001   \n2022-06-29 12:30:00-04:00  64.349998  64.739998  64.269997  64.400002   \n2022-06-29 13:30:00-04:00  64.400002  64.709999  64.209999  64.540001   \n2022-06-29 14:30:00-04:00  64.519997  64.662201  64.199997  64.660004   \n2022-06-29 15:30:00-04:00  64.669998  64.910004  64.489998  64.860001   \n\n                           Adj Close   Volume  \n2022-01-03 09:30:00-05:00  67.440002  3780738  \n2022-01-03 10:30:00-05:00  68.370003  1709814  \n2022-01-03 11:30:00-05:00  68.169998   866906  \n2022-01-03 12:30:00-05:00  68.425003   463075  \n2022-01-03 13:30:00-05:00  68.565002   418501  \n...                              ...      ...  \n2022-06-29 11:30:00-04:00  64.360001   640318  \n2022-06-29 12:30:00-04:00  64.400002   512697  \n2022-06-29 13:30:00-04:00  64.540001   400865  \n2022-06-29 14:30:00-04:00  64.660004   450826  \n2022-06-29 15:30:00-04:00  64.860001   879566  \n\n[861 rows x 6 columns]",
      "text/html": "<div>\n<style scoped>\n    .dataframe tbody tr th:only-of-type {\n        vertical-align: middle;\n    }\n\n    .dataframe tbody tr th {\n        vertical-align: top;\n    }\n\n    .dataframe thead th {\n        text-align: right;\n    }\n</style>\n<table border=\"1\" class=\"dataframe\">\n  <thead>\n    <tr style=\"text-align: right;\">\n      <th></th>\n      <th>Open</th>\n      <th>High</th>\n      <th>Low</th>\n      <th>Close</th>\n      <th>Adj Close</th>\n      <th>Volume</th>\n    </tr>\n  </thead>\n  <tbody>\n    <tr>\n      <th>2022-01-03 09:30:00-05:00</th>\n      <td>68.900002</td>\n      <td>69.489998</td>\n      <td>66.870003</td>\n      <td>67.440002</td>\n      <td>67.440002</td>\n      <td>3780738</td>\n    </tr>\n    <tr>\n      <th>2022-01-03 10:30:00-05:00</th>\n      <td>67.459999</td>\n      <td>68.669998</td>\n      <td>67.370003</td>\n      <td>68.370003</td>\n      <td>68.370003</td>\n      <td>1709814</td>\n    </tr>\n    <tr>\n      <th>2022-01-03 11:30:00-05:00</th>\n      <td>68.370003</td>\n      <td>68.820000</td>\n      <td>67.839996</td>\n      <td>68.169998</td>\n      <td>68.169998</td>\n      <td>866906</td>\n    </tr>\n    <tr>\n      <th>2022-01-03 12:30:00-05:00</th>\n      <td>68.190002</td>\n      <td>68.489998</td>\n      <td>68.129997</td>\n      <td>68.425003</td>\n      <td>68.425003</td>\n      <td>463075</td>\n    </tr>\n    <tr>\n      <th>2022-01-03 13:30:00-05:00</th>\n      <td>68.430000</td>\n      <td>68.699997</td>\n      <td>68.239998</td>\n      <td>68.565002</td>\n      <td>68.565002</td>\n      <td>418501</td>\n    </tr>\n    <tr>\n      <th>...</th>\n      <td>...</td>\n      <td>...</td>\n      <td>...</td>\n      <td>...</td>\n      <td>...</td>\n      <td>...</td>\n    </tr>\n    <tr>\n      <th>2022-06-29 11:30:00-04:00</th>\n      <td>63.924999</td>\n      <td>64.837997</td>\n      <td>63.834301</td>\n      <td>64.360001</td>\n      <td>64.360001</td>\n      <td>640318</td>\n    </tr>\n    <tr>\n      <th>2022-06-29 12:30:00-04:00</th>\n      <td>64.349998</td>\n      <td>64.739998</td>\n      <td>64.269997</td>\n      <td>64.400002</td>\n      <td>64.400002</td>\n      <td>512697</td>\n    </tr>\n    <tr>\n      <th>2022-06-29 13:30:00-04:00</th>\n      <td>64.400002</td>\n      <td>64.709999</td>\n      <td>64.209999</td>\n      <td>64.540001</td>\n      <td>64.540001</td>\n      <td>400865</td>\n    </tr>\n    <tr>\n      <th>2022-06-29 14:30:00-04:00</th>\n      <td>64.519997</td>\n      <td>64.662201</td>\n      <td>64.199997</td>\n      <td>64.660004</td>\n      <td>64.660004</td>\n      <td>450826</td>\n    </tr>\n    <tr>\n      <th>2022-06-29 15:30:00-04:00</th>\n      <td>64.669998</td>\n      <td>64.910004</td>\n      <td>64.489998</td>\n      <td>64.860001</td>\n      <td>64.860001</td>\n      <td>879566</td>\n    </tr>\n  </tbody>\n</table>\n<p>861 rows × 6 columns</p>\n</div>"
     },
     "execution_count": 33,
     "metadata": {},
     "output_type": "execute_result"
    }
   ],
   "source": [
    "data"
   ]
  },
  {
   "cell_type": "code",
   "execution_count": 34,
   "metadata": {
    "pycharm": {
     "name": "#%%\n"
    }
   },
   "outputs": [],
   "source": [
    "data_3pm = data.iloc[6::7]"
   ]
  },
  {
   "cell_type": "markdown",
   "metadata": {
    "pycharm": {
     "name": "#%% md\n"
    }
   },
   "source": [
    "# 重新开始！"
   ]
  },
  {
   "cell_type": "markdown",
   "metadata": {
    "pycharm": {
     "name": "#%% md\n"
    }
   },
   "source": [
    "取JD分时数据，包括premarket"
   ]
  },
  {
   "cell_type": "code",
   "execution_count": 67,
   "metadata": {
    "pycharm": {
     "name": "#%%\n"
    }
   },
   "outputs": [
    {
     "data": {
      "text/html": [
       "<div>\n",
       "<style scoped>\n",
       "    .dataframe tbody tr th:only-of-type {\n",
       "        vertical-align: middle;\n",
       "    }\n",
       "\n",
       "    .dataframe tbody tr th {\n",
       "        vertical-align: top;\n",
       "    }\n",
       "\n",
       "    .dataframe thead th {\n",
       "        text-align: right;\n",
       "    }\n",
       "</style>\n",
       "<table border=\"1\" class=\"dataframe\">\n",
       "  <thead>\n",
       "    <tr style=\"text-align: right;\">\n",
       "      <th></th>\n",
       "      <th>Open</th>\n",
       "      <th>High</th>\n",
       "      <th>Low</th>\n",
       "      <th>Close</th>\n",
       "      <th>Volume</th>\n",
       "      <th>Dividends</th>\n",
       "      <th>Stock Splits</th>\n",
       "    </tr>\n",
       "  </thead>\n",
       "  <tbody>\n",
       "    <tr>\n",
       "      <th>2022-08-12 04:00:00-04:00</th>\n",
       "      <td>56.790000</td>\n",
       "      <td>56.800000</td>\n",
       "      <td>56.640000</td>\n",
       "      <td>56.800000</td>\n",
       "      <td>0</td>\n",
       "      <td>0</td>\n",
       "      <td>0</td>\n",
       "    </tr>\n",
       "    <tr>\n",
       "      <th>2022-08-12 05:00:00-04:00</th>\n",
       "      <td>56.980000</td>\n",
       "      <td>57.390000</td>\n",
       "      <td>55.290000</td>\n",
       "      <td>55.540000</td>\n",
       "      <td>0</td>\n",
       "      <td>0</td>\n",
       "      <td>0</td>\n",
       "    </tr>\n",
       "    <tr>\n",
       "      <th>2022-08-12 06:00:00-04:00</th>\n",
       "      <td>55.530000</td>\n",
       "      <td>55.770000</td>\n",
       "      <td>54.800000</td>\n",
       "      <td>55.280000</td>\n",
       "      <td>0</td>\n",
       "      <td>0</td>\n",
       "      <td>0</td>\n",
       "    </tr>\n",
       "    <tr>\n",
       "      <th>2022-08-12 07:00:00-04:00</th>\n",
       "      <td>55.200000</td>\n",
       "      <td>55.280000</td>\n",
       "      <td>54.970000</td>\n",
       "      <td>55.220000</td>\n",
       "      <td>0</td>\n",
       "      <td>0</td>\n",
       "      <td>0</td>\n",
       "    </tr>\n",
       "    <tr>\n",
       "      <th>2022-08-12 08:00:00-04:00</th>\n",
       "      <td>55.190000</td>\n",
       "      <td>55.300000</td>\n",
       "      <td>54.550000</td>\n",
       "      <td>54.980000</td>\n",
       "      <td>0</td>\n",
       "      <td>0</td>\n",
       "      <td>0</td>\n",
       "    </tr>\n",
       "    <tr>\n",
       "      <th>...</th>\n",
       "      <td>...</td>\n",
       "      <td>...</td>\n",
       "      <td>...</td>\n",
       "      <td>...</td>\n",
       "      <td>...</td>\n",
       "      <td>...</td>\n",
       "      <td>...</td>\n",
       "    </tr>\n",
       "    <tr>\n",
       "      <th>2022-11-11 15:30:00-05:00</th>\n",
       "      <td>48.775002</td>\n",
       "      <td>48.959999</td>\n",
       "      <td>48.764999</td>\n",
       "      <td>48.939999</td>\n",
       "      <td>1072942</td>\n",
       "      <td>0</td>\n",
       "      <td>0</td>\n",
       "    </tr>\n",
       "    <tr>\n",
       "      <th>2022-11-11 16:00:00-05:00</th>\n",
       "      <td>48.930000</td>\n",
       "      <td>49.090000</td>\n",
       "      <td>45.500000</td>\n",
       "      <td>49.050000</td>\n",
       "      <td>0</td>\n",
       "      <td>0</td>\n",
       "      <td>0</td>\n",
       "    </tr>\n",
       "    <tr>\n",
       "      <th>2022-11-11 17:00:00-05:00</th>\n",
       "      <td>49.030000</td>\n",
       "      <td>49.090000</td>\n",
       "      <td>48.900000</td>\n",
       "      <td>48.900000</td>\n",
       "      <td>0</td>\n",
       "      <td>0</td>\n",
       "      <td>0</td>\n",
       "    </tr>\n",
       "    <tr>\n",
       "      <th>2022-11-11 18:00:00-05:00</th>\n",
       "      <td>48.950000</td>\n",
       "      <td>49.050000</td>\n",
       "      <td>48.900000</td>\n",
       "      <td>48.950000</td>\n",
       "      <td>0</td>\n",
       "      <td>0</td>\n",
       "      <td>0</td>\n",
       "    </tr>\n",
       "    <tr>\n",
       "      <th>2022-11-11 19:00:00-05:00</th>\n",
       "      <td>49.050000</td>\n",
       "      <td>49.050000</td>\n",
       "      <td>48.910000</td>\n",
       "      <td>48.940000</td>\n",
       "      <td>0</td>\n",
       "      <td>0</td>\n",
       "      <td>0</td>\n",
       "    </tr>\n",
       "  </tbody>\n",
       "</table>\n",
       "<p>1101 rows × 7 columns</p>\n",
       "</div>"
      ],
      "text/plain": [
       "                                Open       High        Low      Close  \\\n",
       "2022-08-12 04:00:00-04:00  56.790000  56.800000  56.640000  56.800000   \n",
       "2022-08-12 05:00:00-04:00  56.980000  57.390000  55.290000  55.540000   \n",
       "2022-08-12 06:00:00-04:00  55.530000  55.770000  54.800000  55.280000   \n",
       "2022-08-12 07:00:00-04:00  55.200000  55.280000  54.970000  55.220000   \n",
       "2022-08-12 08:00:00-04:00  55.190000  55.300000  54.550000  54.980000   \n",
       "...                              ...        ...        ...        ...   \n",
       "2022-11-11 15:30:00-05:00  48.775002  48.959999  48.764999  48.939999   \n",
       "2022-11-11 16:00:00-05:00  48.930000  49.090000  45.500000  49.050000   \n",
       "2022-11-11 17:00:00-05:00  49.030000  49.090000  48.900000  48.900000   \n",
       "2022-11-11 18:00:00-05:00  48.950000  49.050000  48.900000  48.950000   \n",
       "2022-11-11 19:00:00-05:00  49.050000  49.050000  48.910000  48.940000   \n",
       "\n",
       "                            Volume  Dividends  Stock Splits  \n",
       "2022-08-12 04:00:00-04:00        0          0             0  \n",
       "2022-08-12 05:00:00-04:00        0          0             0  \n",
       "2022-08-12 06:00:00-04:00        0          0             0  \n",
       "2022-08-12 07:00:00-04:00        0          0             0  \n",
       "2022-08-12 08:00:00-04:00        0          0             0  \n",
       "...                            ...        ...           ...  \n",
       "2022-11-11 15:30:00-05:00  1072942          0             0  \n",
       "2022-11-11 16:00:00-05:00        0          0             0  \n",
       "2022-11-11 17:00:00-05:00        0          0             0  \n",
       "2022-11-11 18:00:00-05:00        0          0             0  \n",
       "2022-11-11 19:00:00-05:00        0          0             0  \n",
       "\n",
       "[1101 rows x 7 columns]"
      ]
     },
     "execution_count": 67,
     "metadata": {},
     "output_type": "execute_result"
    }
   ],
   "source": [
    "# jd = yf.Ticker('JD')\n",
    "# jd_hist = jd.history(prepost=True, period='3mo', interval='1h')\n"
   ]
  },
  {
   "cell_type": "code",
   "execution_count": 87,
   "metadata": {
    "pycharm": {
     "name": "#%%\n"
    }
   },
   "outputs": [
    {
     "name": "stdout",
     "output_type": "stream",
     "text": [
      "[*********************100%***********************]  1 of 1 completed\n"
     ]
    }
   ],
   "source": [
    "data = yf.download(tickers='JD', start='2022-01-01', end='2022-06-30', interval='1h', prepost=True)\n",
    "jd_hist = data"
   ]
  },
  {
   "cell_type": "markdown",
   "metadata": {
    "pycharm": {
     "name": "#%% md\n"
    }
   },
   "source": [
    "算9:30之前(premarket)的return"
   ]
  },
  {
   "cell_type": "code",
   "execution_count": 88,
   "metadata": {
    "pycharm": {
     "name": "#%%\n"
    }
   },
   "outputs": [],
   "source": [
    "# 复制一下\n",
    "jd_hist_calc_premarket = jd_hist.copy()"
   ]
  },
  {
   "cell_type": "code",
   "execution_count": 89,
   "metadata": {
    "pycharm": {
     "name": "#%%\n"
    }
   },
   "outputs": [],
   "source": [
    "jd_hist_calc_premarket['time'] = jd_hist_calc_premarket.index.time"
   ]
  },
  {
   "cell_type": "code",
   "execution_count": 90,
   "metadata": {
    "pycharm": {
     "name": "#%%\n"
    }
   },
   "outputs": [],
   "source": [
    "jd_hist_calc_premarket['date'] = jd_hist_calc_premarket.index.date"
   ]
  },
  {
   "cell_type": "code",
   "execution_count": 91,
   "metadata": {
    "pycharm": {
     "name": "#%%\n"
    }
   },
   "outputs": [
    {
     "data": {
      "text/plain": "                                Open       High        Low      Close  \\\n2022-01-03 04:00:00-05:00  69.750000  69.900000  68.010000  68.630000   \n2022-01-03 05:00:00-05:00  68.720000  69.050000  68.630000  69.020000   \n2022-01-03 06:00:00-05:00  68.920000  69.200000  68.840000  69.000000   \n2022-01-03 07:00:00-05:00  69.010000  69.700000  68.960000  69.350000   \n2022-01-03 08:00:00-05:00  69.340000  69.980000  69.210000  69.750000   \n...                              ...        ...        ...        ...   \n2022-06-29 15:30:00-04:00  64.669998  64.910004  64.489998  64.860001   \n2022-06-29 16:00:00-04:00  64.850000  64.980000  64.250000  64.920000   \n2022-06-29 17:00:00-04:00  64.850000  64.920000  64.760000  64.854000   \n2022-06-29 18:00:00-04:00  64.850000  64.920000  64.750100  64.920000   \n2022-06-29 19:00:00-04:00  64.900000  65.000000  64.520000  65.000000   \n\n                           Adj Close  Volume      time        date  \n2022-01-03 04:00:00-05:00  68.630000       0  04:00:00  2022-01-03  \n2022-01-03 05:00:00-05:00  69.020000       0  05:00:00  2022-01-03  \n2022-01-03 06:00:00-05:00  69.000000       0  06:00:00  2022-01-03  \n2022-01-03 07:00:00-05:00  69.350000       0  07:00:00  2022-01-03  \n2022-01-03 08:00:00-05:00  69.750000       0  08:00:00  2022-01-03  \n...                              ...     ...       ...         ...  \n2022-06-29 15:30:00-04:00  64.860001  879566  15:30:00  2022-06-29  \n2022-06-29 16:00:00-04:00  64.920000       0  16:00:00  2022-06-29  \n2022-06-29 17:00:00-04:00  64.854000       0  17:00:00  2022-06-29  \n2022-06-29 18:00:00-04:00  64.920000       0  18:00:00  2022-06-29  \n2022-06-29 19:00:00-04:00  65.000000       0  19:00:00  2022-06-29  \n\n[2042 rows x 8 columns]",
      "text/html": "<div>\n<style scoped>\n    .dataframe tbody tr th:only-of-type {\n        vertical-align: middle;\n    }\n\n    .dataframe tbody tr th {\n        vertical-align: top;\n    }\n\n    .dataframe thead th {\n        text-align: right;\n    }\n</style>\n<table border=\"1\" class=\"dataframe\">\n  <thead>\n    <tr style=\"text-align: right;\">\n      <th></th>\n      <th>Open</th>\n      <th>High</th>\n      <th>Low</th>\n      <th>Close</th>\n      <th>Adj Close</th>\n      <th>Volume</th>\n      <th>time</th>\n      <th>date</th>\n    </tr>\n  </thead>\n  <tbody>\n    <tr>\n      <th>2022-01-03 04:00:00-05:00</th>\n      <td>69.750000</td>\n      <td>69.900000</td>\n      <td>68.010000</td>\n      <td>68.630000</td>\n      <td>68.630000</td>\n      <td>0</td>\n      <td>04:00:00</td>\n      <td>2022-01-03</td>\n    </tr>\n    <tr>\n      <th>2022-01-03 05:00:00-05:00</th>\n      <td>68.720000</td>\n      <td>69.050000</td>\n      <td>68.630000</td>\n      <td>69.020000</td>\n      <td>69.020000</td>\n      <td>0</td>\n      <td>05:00:00</td>\n      <td>2022-01-03</td>\n    </tr>\n    <tr>\n      <th>2022-01-03 06:00:00-05:00</th>\n      <td>68.920000</td>\n      <td>69.200000</td>\n      <td>68.840000</td>\n      <td>69.000000</td>\n      <td>69.000000</td>\n      <td>0</td>\n      <td>06:00:00</td>\n      <td>2022-01-03</td>\n    </tr>\n    <tr>\n      <th>2022-01-03 07:00:00-05:00</th>\n      <td>69.010000</td>\n      <td>69.700000</td>\n      <td>68.960000</td>\n      <td>69.350000</td>\n      <td>69.350000</td>\n      <td>0</td>\n      <td>07:00:00</td>\n      <td>2022-01-03</td>\n    </tr>\n    <tr>\n      <th>2022-01-03 08:00:00-05:00</th>\n      <td>69.340000</td>\n      <td>69.980000</td>\n      <td>69.210000</td>\n      <td>69.750000</td>\n      <td>69.750000</td>\n      <td>0</td>\n      <td>08:00:00</td>\n      <td>2022-01-03</td>\n    </tr>\n    <tr>\n      <th>...</th>\n      <td>...</td>\n      <td>...</td>\n      <td>...</td>\n      <td>...</td>\n      <td>...</td>\n      <td>...</td>\n      <td>...</td>\n      <td>...</td>\n    </tr>\n    <tr>\n      <th>2022-06-29 15:30:00-04:00</th>\n      <td>64.669998</td>\n      <td>64.910004</td>\n      <td>64.489998</td>\n      <td>64.860001</td>\n      <td>64.860001</td>\n      <td>879566</td>\n      <td>15:30:00</td>\n      <td>2022-06-29</td>\n    </tr>\n    <tr>\n      <th>2022-06-29 16:00:00-04:00</th>\n      <td>64.850000</td>\n      <td>64.980000</td>\n      <td>64.250000</td>\n      <td>64.920000</td>\n      <td>64.920000</td>\n      <td>0</td>\n      <td>16:00:00</td>\n      <td>2022-06-29</td>\n    </tr>\n    <tr>\n      <th>2022-06-29 17:00:00-04:00</th>\n      <td>64.850000</td>\n      <td>64.920000</td>\n      <td>64.760000</td>\n      <td>64.854000</td>\n      <td>64.854000</td>\n      <td>0</td>\n      <td>17:00:00</td>\n      <td>2022-06-29</td>\n    </tr>\n    <tr>\n      <th>2022-06-29 18:00:00-04:00</th>\n      <td>64.850000</td>\n      <td>64.920000</td>\n      <td>64.750100</td>\n      <td>64.920000</td>\n      <td>64.920000</td>\n      <td>0</td>\n      <td>18:00:00</td>\n      <td>2022-06-29</td>\n    </tr>\n    <tr>\n      <th>2022-06-29 19:00:00-04:00</th>\n      <td>64.900000</td>\n      <td>65.000000</td>\n      <td>64.520000</td>\n      <td>65.000000</td>\n      <td>65.000000</td>\n      <td>0</td>\n      <td>19:00:00</td>\n      <td>2022-06-29</td>\n    </tr>\n  </tbody>\n</table>\n<p>2042 rows × 8 columns</p>\n</div>"
     },
     "execution_count": 91,
     "metadata": {},
     "output_type": "execute_result"
    }
   ],
   "source": [
    "jd_hist_calc_premarket"
   ]
  },
  {
   "cell_type": "code",
   "execution_count": 92,
   "metadata": {
    "pycharm": {
     "name": "#%%\n"
    }
   },
   "outputs": [],
   "source": [
    "jd_930_4 = jd_hist_calc_premarket[(jd_hist_calc_premarket.time == datetime.time(hour=4)) | (\n",
    "        jd_hist_calc_premarket.time == datetime.time(hour=9, minute=0))]"
   ]
  },
  {
   "cell_type": "code",
   "execution_count": 93,
   "metadata": {
    "pycharm": {
     "name": "#%%\n"
    }
   },
   "outputs": [
    {
     "data": {
      "text/plain": "                            Open   High    Low  Close  Adj Close  Volume  \\\n2022-01-03 04:00:00-05:00  69.75  69.90  68.01  68.63      68.63       0   \n2022-01-03 09:00:00-05:00  70.07  70.07  68.76  69.21      69.21       0   \n2022-01-04 04:00:00-05:00  68.60  68.61  67.73  68.01      68.01       0   \n2022-01-04 09:00:00-05:00  67.95  68.05  67.50  67.84      67.84       0   \n2022-01-05 04:00:00-05:00  63.68  63.70  63.00  63.30      63.30       0   \n...                          ...    ...    ...    ...        ...     ...   \n2022-06-27 09:00:00-04:00  66.73  67.30  64.01  67.02      67.02       0   \n2022-06-28 04:00:00-04:00  65.55  66.23  65.55  66.06      66.06       0   \n2022-06-28 09:00:00-04:00  65.65  66.29  65.58  65.75      65.75       0   \n2022-06-29 04:00:00-04:00  63.87  64.32  63.64  63.65      63.65       0   \n2022-06-29 09:00:00-04:00  64.63  64.70  63.53  63.79      63.79       0   \n\n                               time        date  \n2022-01-03 04:00:00-05:00  04:00:00  2022-01-03  \n2022-01-03 09:00:00-05:00  09:00:00  2022-01-03  \n2022-01-04 04:00:00-05:00  04:00:00  2022-01-04  \n2022-01-04 09:00:00-05:00  09:00:00  2022-01-04  \n2022-01-05 04:00:00-05:00  04:00:00  2022-01-05  \n...                             ...         ...  \n2022-06-27 09:00:00-04:00  09:00:00  2022-06-27  \n2022-06-28 04:00:00-04:00  04:00:00  2022-06-28  \n2022-06-28 09:00:00-04:00  09:00:00  2022-06-28  \n2022-06-29 04:00:00-04:00  04:00:00  2022-06-29  \n2022-06-29 09:00:00-04:00  09:00:00  2022-06-29  \n\n[246 rows x 8 columns]",
      "text/html": "<div>\n<style scoped>\n    .dataframe tbody tr th:only-of-type {\n        vertical-align: middle;\n    }\n\n    .dataframe tbody tr th {\n        vertical-align: top;\n    }\n\n    .dataframe thead th {\n        text-align: right;\n    }\n</style>\n<table border=\"1\" class=\"dataframe\">\n  <thead>\n    <tr style=\"text-align: right;\">\n      <th></th>\n      <th>Open</th>\n      <th>High</th>\n      <th>Low</th>\n      <th>Close</th>\n      <th>Adj Close</th>\n      <th>Volume</th>\n      <th>time</th>\n      <th>date</th>\n    </tr>\n  </thead>\n  <tbody>\n    <tr>\n      <th>2022-01-03 04:00:00-05:00</th>\n      <td>69.75</td>\n      <td>69.90</td>\n      <td>68.01</td>\n      <td>68.63</td>\n      <td>68.63</td>\n      <td>0</td>\n      <td>04:00:00</td>\n      <td>2022-01-03</td>\n    </tr>\n    <tr>\n      <th>2022-01-03 09:00:00-05:00</th>\n      <td>70.07</td>\n      <td>70.07</td>\n      <td>68.76</td>\n      <td>69.21</td>\n      <td>69.21</td>\n      <td>0</td>\n      <td>09:00:00</td>\n      <td>2022-01-03</td>\n    </tr>\n    <tr>\n      <th>2022-01-04 04:00:00-05:00</th>\n      <td>68.60</td>\n      <td>68.61</td>\n      <td>67.73</td>\n      <td>68.01</td>\n      <td>68.01</td>\n      <td>0</td>\n      <td>04:00:00</td>\n      <td>2022-01-04</td>\n    </tr>\n    <tr>\n      <th>2022-01-04 09:00:00-05:00</th>\n      <td>67.95</td>\n      <td>68.05</td>\n      <td>67.50</td>\n      <td>67.84</td>\n      <td>67.84</td>\n      <td>0</td>\n      <td>09:00:00</td>\n      <td>2022-01-04</td>\n    </tr>\n    <tr>\n      <th>2022-01-05 04:00:00-05:00</th>\n      <td>63.68</td>\n      <td>63.70</td>\n      <td>63.00</td>\n      <td>63.30</td>\n      <td>63.30</td>\n      <td>0</td>\n      <td>04:00:00</td>\n      <td>2022-01-05</td>\n    </tr>\n    <tr>\n      <th>...</th>\n      <td>...</td>\n      <td>...</td>\n      <td>...</td>\n      <td>...</td>\n      <td>...</td>\n      <td>...</td>\n      <td>...</td>\n      <td>...</td>\n    </tr>\n    <tr>\n      <th>2022-06-27 09:00:00-04:00</th>\n      <td>66.73</td>\n      <td>67.30</td>\n      <td>64.01</td>\n      <td>67.02</td>\n      <td>67.02</td>\n      <td>0</td>\n      <td>09:00:00</td>\n      <td>2022-06-27</td>\n    </tr>\n    <tr>\n      <th>2022-06-28 04:00:00-04:00</th>\n      <td>65.55</td>\n      <td>66.23</td>\n      <td>65.55</td>\n      <td>66.06</td>\n      <td>66.06</td>\n      <td>0</td>\n      <td>04:00:00</td>\n      <td>2022-06-28</td>\n    </tr>\n    <tr>\n      <th>2022-06-28 09:00:00-04:00</th>\n      <td>65.65</td>\n      <td>66.29</td>\n      <td>65.58</td>\n      <td>65.75</td>\n      <td>65.75</td>\n      <td>0</td>\n      <td>09:00:00</td>\n      <td>2022-06-28</td>\n    </tr>\n    <tr>\n      <th>2022-06-29 04:00:00-04:00</th>\n      <td>63.87</td>\n      <td>64.32</td>\n      <td>63.64</td>\n      <td>63.65</td>\n      <td>63.65</td>\n      <td>0</td>\n      <td>04:00:00</td>\n      <td>2022-06-29</td>\n    </tr>\n    <tr>\n      <th>2022-06-29 09:00:00-04:00</th>\n      <td>64.63</td>\n      <td>64.70</td>\n      <td>63.53</td>\n      <td>63.79</td>\n      <td>63.79</td>\n      <td>0</td>\n      <td>09:00:00</td>\n      <td>2022-06-29</td>\n    </tr>\n  </tbody>\n</table>\n<p>246 rows × 8 columns</p>\n</div>"
     },
     "execution_count": 93,
     "metadata": {},
     "output_type": "execute_result"
    }
   ],
   "source": [
    "jd_930_4"
   ]
  },
  {
   "cell_type": "code",
   "execution_count": 94,
   "metadata": {
    "pycharm": {
     "name": "#%%\n"
    }
   },
   "outputs": [],
   "source": [
    "temp = dict()\n",
    "for each_date in jd_930_4.date.unique():\n",
    "    pre_open = float(jd_930_4[(jd_930_4.time == datetime.time(hour=4)) & (jd_930_4.date == each_date)]['Open'])\n",
    "    pre_close = float(\n",
    "        jd_930_4[(jd_930_4.time == datetime.time(hour=9, minute=0)) & (jd_930_4.date == each_date)]['Close'])\n",
    "    temp[each_date] = (pre_close - pre_open) / pre_open"
   ]
  },
  {
   "cell_type": "code",
   "execution_count": 95,
   "metadata": {
    "pycharm": {
     "name": "#%%\n"
    }
   },
   "outputs": [],
   "source": [
    "jd_premarket_ret = pd.DataFrame.from_dict(data=temp, orient='index', columns=['Premarket Return'])"
   ]
  },
  {
   "cell_type": "code",
   "execution_count": 96,
   "metadata": {
    "pycharm": {
     "name": "#%%\n"
    }
   },
   "outputs": [
    {
     "data": {
      "text/plain": "            Premarket Return\n2022-01-03         -0.007742\n2022-01-04         -0.011079\n2022-01-05         -0.002513\n2022-01-06         -0.000766\n2022-01-07         -0.002631\n...                      ...\n2022-06-23          0.022951\n2022-06-24          0.002701\n2022-06-27          0.002393\n2022-06-28          0.003051\n2022-06-29         -0.001253\n\n[123 rows x 1 columns]",
      "text/html": "<div>\n<style scoped>\n    .dataframe tbody tr th:only-of-type {\n        vertical-align: middle;\n    }\n\n    .dataframe tbody tr th {\n        vertical-align: top;\n    }\n\n    .dataframe thead th {\n        text-align: right;\n    }\n</style>\n<table border=\"1\" class=\"dataframe\">\n  <thead>\n    <tr style=\"text-align: right;\">\n      <th></th>\n      <th>Premarket Return</th>\n    </tr>\n  </thead>\n  <tbody>\n    <tr>\n      <th>2022-01-03</th>\n      <td>-0.007742</td>\n    </tr>\n    <tr>\n      <th>2022-01-04</th>\n      <td>-0.011079</td>\n    </tr>\n    <tr>\n      <th>2022-01-05</th>\n      <td>-0.002513</td>\n    </tr>\n    <tr>\n      <th>2022-01-06</th>\n      <td>-0.000766</td>\n    </tr>\n    <tr>\n      <th>2022-01-07</th>\n      <td>-0.002631</td>\n    </tr>\n    <tr>\n      <th>...</th>\n      <td>...</td>\n    </tr>\n    <tr>\n      <th>2022-06-23</th>\n      <td>0.022951</td>\n    </tr>\n    <tr>\n      <th>2022-06-24</th>\n      <td>0.002701</td>\n    </tr>\n    <tr>\n      <th>2022-06-27</th>\n      <td>0.002393</td>\n    </tr>\n    <tr>\n      <th>2022-06-28</th>\n      <td>0.003051</td>\n    </tr>\n    <tr>\n      <th>2022-06-29</th>\n      <td>-0.001253</td>\n    </tr>\n  </tbody>\n</table>\n<p>123 rows × 1 columns</p>\n</div>"
     },
     "execution_count": 96,
     "metadata": {},
     "output_type": "execute_result"
    }
   ],
   "source": [
    "jd_premarket_ret"
   ]
  },
  {
   "cell_type": "code",
   "execution_count": 149,
   "metadata": {
    "pycharm": {
     "name": "#%%\n"
    }
   },
   "outputs": [],
   "source": [
    "jd_premarket_movement = jd_premarket_ret[abs(jd_premarket_ret['Premarket Return']) > 0.05].copy()"
   ]
  },
  {
   "cell_type": "code",
   "execution_count": 150,
   "metadata": {
    "pycharm": {
     "name": "#%%\n"
    }
   },
   "outputs": [
    {
     "data": {
      "text/plain": "            Premarket Return\n2022-03-10         -0.133987\n2022-03-14         -0.101483\n2022-03-16          0.139139\n2022-04-01          0.063487\n2022-04-29          0.114896",
      "text/html": "<div>\n<style scoped>\n    .dataframe tbody tr th:only-of-type {\n        vertical-align: middle;\n    }\n\n    .dataframe tbody tr th {\n        vertical-align: top;\n    }\n\n    .dataframe thead th {\n        text-align: right;\n    }\n</style>\n<table border=\"1\" class=\"dataframe\">\n  <thead>\n    <tr style=\"text-align: right;\">\n      <th></th>\n      <th>Premarket Return</th>\n    </tr>\n  </thead>\n  <tbody>\n    <tr>\n      <th>2022-03-10</th>\n      <td>-0.133987</td>\n    </tr>\n    <tr>\n      <th>2022-03-14</th>\n      <td>-0.101483</td>\n    </tr>\n    <tr>\n      <th>2022-03-16</th>\n      <td>0.139139</td>\n    </tr>\n    <tr>\n      <th>2022-04-01</th>\n      <td>0.063487</td>\n    </tr>\n    <tr>\n      <th>2022-04-29</th>\n      <td>0.114896</td>\n    </tr>\n  </tbody>\n</table>\n</div>"
     },
     "execution_count": 150,
     "metadata": {},
     "output_type": "execute_result"
    }
   ],
   "source": [
    "jd_premarket_movement"
   ]
  },
  {
   "cell_type": "markdown",
   "metadata": {
    "pycharm": {
     "name": "#%% md\n"
    }
   },
   "source": [
    "算9:30-10:30的收益"
   ]
  },
  {
   "cell_type": "code",
   "execution_count": 99,
   "metadata": {
    "pycharm": {
     "name": "#%%\n"
    }
   },
   "outputs": [],
   "source": [
    "jd_1030_930 = jd_hist_calc_premarket[jd_hist_calc_premarket.time == datetime.time(hour=9, minute=30)].copy()"
   ]
  },
  {
   "cell_type": "code",
   "execution_count": 100,
   "metadata": {
    "pycharm": {
     "name": "#%%\n"
    }
   },
   "outputs": [
    {
     "data": {
      "text/plain": "                                Open       High        Low      Close  \\\n2022-01-03 09:30:00-05:00  68.900002  69.489998  66.870003  67.440002   \n2022-01-04 09:30:00-05:00  67.699997  67.839996  63.560001  63.720001   \n2022-01-05 09:30:00-05:00  63.570000  65.169998  62.170399  65.000000   \n2022-01-06 09:30:00-05:00  65.250000  66.209999  63.665001  65.139999   \n2022-01-07 09:30:00-05:00  68.389999  69.680000  67.139999  68.290001   \n...                              ...        ...        ...        ...   \n2022-06-23 09:30:00-04:00  62.470001  64.029999  61.490002  63.139999   \n2022-06-24 09:30:00-04:00  63.090000  64.739998  62.599998  64.639999   \n2022-06-27 09:30:00-04:00  67.160004  68.290001  66.029999  66.480003   \n2022-06-28 09:30:00-04:00  65.699997  66.680000  65.239998  65.809998   \n2022-06-29 09:30:00-04:00  63.720001  64.900002  63.259899  64.449997   \n\n                           Adj Close   Volume      time        date  \n2022-01-03 09:30:00-05:00  67.440002  3780738  09:30:00  2022-01-03  \n2022-01-04 09:30:00-05:00  63.720001  6165040  09:30:00  2022-01-04  \n2022-01-05 09:30:00-05:00  65.000000  7134761  09:30:00  2022-01-05  \n2022-01-06 09:30:00-05:00  65.139999  4180441  09:30:00  2022-01-06  \n2022-01-07 09:30:00-05:00  68.290001  3412905  09:30:00  2022-01-07  \n...                              ...      ...       ...         ...  \n2022-06-23 09:30:00-04:00  63.139999  5110089  09:30:00  2022-06-23  \n2022-06-24 09:30:00-04:00  64.639999  3441802  09:30:00  2022-06-24  \n2022-06-27 09:30:00-04:00  66.480003  7224106  09:30:00  2022-06-27  \n2022-06-28 09:30:00-04:00  65.809998  2905732  09:30:00  2022-06-28  \n2022-06-29 09:30:00-04:00  64.449997  2298634  09:30:00  2022-06-29  \n\n[123 rows x 8 columns]",
      "text/html": "<div>\n<style scoped>\n    .dataframe tbody tr th:only-of-type {\n        vertical-align: middle;\n    }\n\n    .dataframe tbody tr th {\n        vertical-align: top;\n    }\n\n    .dataframe thead th {\n        text-align: right;\n    }\n</style>\n<table border=\"1\" class=\"dataframe\">\n  <thead>\n    <tr style=\"text-align: right;\">\n      <th></th>\n      <th>Open</th>\n      <th>High</th>\n      <th>Low</th>\n      <th>Close</th>\n      <th>Adj Close</th>\n      <th>Volume</th>\n      <th>time</th>\n      <th>date</th>\n    </tr>\n  </thead>\n  <tbody>\n    <tr>\n      <th>2022-01-03 09:30:00-05:00</th>\n      <td>68.900002</td>\n      <td>69.489998</td>\n      <td>66.870003</td>\n      <td>67.440002</td>\n      <td>67.440002</td>\n      <td>3780738</td>\n      <td>09:30:00</td>\n      <td>2022-01-03</td>\n    </tr>\n    <tr>\n      <th>2022-01-04 09:30:00-05:00</th>\n      <td>67.699997</td>\n      <td>67.839996</td>\n      <td>63.560001</td>\n      <td>63.720001</td>\n      <td>63.720001</td>\n      <td>6165040</td>\n      <td>09:30:00</td>\n      <td>2022-01-04</td>\n    </tr>\n    <tr>\n      <th>2022-01-05 09:30:00-05:00</th>\n      <td>63.570000</td>\n      <td>65.169998</td>\n      <td>62.170399</td>\n      <td>65.000000</td>\n      <td>65.000000</td>\n      <td>7134761</td>\n      <td>09:30:00</td>\n      <td>2022-01-05</td>\n    </tr>\n    <tr>\n      <th>2022-01-06 09:30:00-05:00</th>\n      <td>65.250000</td>\n      <td>66.209999</td>\n      <td>63.665001</td>\n      <td>65.139999</td>\n      <td>65.139999</td>\n      <td>4180441</td>\n      <td>09:30:00</td>\n      <td>2022-01-06</td>\n    </tr>\n    <tr>\n      <th>2022-01-07 09:30:00-05:00</th>\n      <td>68.389999</td>\n      <td>69.680000</td>\n      <td>67.139999</td>\n      <td>68.290001</td>\n      <td>68.290001</td>\n      <td>3412905</td>\n      <td>09:30:00</td>\n      <td>2022-01-07</td>\n    </tr>\n    <tr>\n      <th>...</th>\n      <td>...</td>\n      <td>...</td>\n      <td>...</td>\n      <td>...</td>\n      <td>...</td>\n      <td>...</td>\n      <td>...</td>\n      <td>...</td>\n    </tr>\n    <tr>\n      <th>2022-06-23 09:30:00-04:00</th>\n      <td>62.470001</td>\n      <td>64.029999</td>\n      <td>61.490002</td>\n      <td>63.139999</td>\n      <td>63.139999</td>\n      <td>5110089</td>\n      <td>09:30:00</td>\n      <td>2022-06-23</td>\n    </tr>\n    <tr>\n      <th>2022-06-24 09:30:00-04:00</th>\n      <td>63.090000</td>\n      <td>64.739998</td>\n      <td>62.599998</td>\n      <td>64.639999</td>\n      <td>64.639999</td>\n      <td>3441802</td>\n      <td>09:30:00</td>\n      <td>2022-06-24</td>\n    </tr>\n    <tr>\n      <th>2022-06-27 09:30:00-04:00</th>\n      <td>67.160004</td>\n      <td>68.290001</td>\n      <td>66.029999</td>\n      <td>66.480003</td>\n      <td>66.480003</td>\n      <td>7224106</td>\n      <td>09:30:00</td>\n      <td>2022-06-27</td>\n    </tr>\n    <tr>\n      <th>2022-06-28 09:30:00-04:00</th>\n      <td>65.699997</td>\n      <td>66.680000</td>\n      <td>65.239998</td>\n      <td>65.809998</td>\n      <td>65.809998</td>\n      <td>2905732</td>\n      <td>09:30:00</td>\n      <td>2022-06-28</td>\n    </tr>\n    <tr>\n      <th>2022-06-29 09:30:00-04:00</th>\n      <td>63.720001</td>\n      <td>64.900002</td>\n      <td>63.259899</td>\n      <td>64.449997</td>\n      <td>64.449997</td>\n      <td>2298634</td>\n      <td>09:30:00</td>\n      <td>2022-06-29</td>\n    </tr>\n  </tbody>\n</table>\n<p>123 rows × 8 columns</p>\n</div>"
     },
     "execution_count": 100,
     "metadata": {},
     "output_type": "execute_result"
    }
   ],
   "source": [
    "jd_1030_930"
   ]
  },
  {
   "cell_type": "code",
   "execution_count": 101,
   "metadata": {
    "pycharm": {
     "name": "#%%\n"
    }
   },
   "outputs": [],
   "source": [
    "jd_1030_930['return'] = (jd_1030_930['Close'] - jd_1030_930['Open']) / jd_1030_930['Open']"
   ]
  },
  {
   "cell_type": "code",
   "execution_count": 102,
   "metadata": {
    "pycharm": {
     "name": "#%%\n"
    }
   },
   "outputs": [],
   "source": [
    "jd_first_hour = jd_1030_930[abs(jd_1030_930['return']) > 0.05][['date', 'return']]"
   ]
  },
  {
   "cell_type": "code",
   "execution_count": 103,
   "metadata": {
    "pycharm": {
     "name": "#%%\n"
    }
   },
   "outputs": [
    {
     "data": {
      "text/plain": "              return\ndate                \n2022-01-04 -0.058789\n2022-01-11  0.053521\n2022-03-11 -0.076084\n2022-03-14  0.052007\n2022-03-15  0.145053\n2022-03-18  0.067517\n2022-03-21 -0.065461\n2022-05-09 -0.058505",
      "text/html": "<div>\n<style scoped>\n    .dataframe tbody tr th:only-of-type {\n        vertical-align: middle;\n    }\n\n    .dataframe tbody tr th {\n        vertical-align: top;\n    }\n\n    .dataframe thead th {\n        text-align: right;\n    }\n</style>\n<table border=\"1\" class=\"dataframe\">\n  <thead>\n    <tr style=\"text-align: right;\">\n      <th></th>\n      <th>return</th>\n    </tr>\n    <tr>\n      <th>date</th>\n      <th></th>\n    </tr>\n  </thead>\n  <tbody>\n    <tr>\n      <th>2022-01-04</th>\n      <td>-0.058789</td>\n    </tr>\n    <tr>\n      <th>2022-01-11</th>\n      <td>0.053521</td>\n    </tr>\n    <tr>\n      <th>2022-03-11</th>\n      <td>-0.076084</td>\n    </tr>\n    <tr>\n      <th>2022-03-14</th>\n      <td>0.052007</td>\n    </tr>\n    <tr>\n      <th>2022-03-15</th>\n      <td>0.145053</td>\n    </tr>\n    <tr>\n      <th>2022-03-18</th>\n      <td>0.067517</td>\n    </tr>\n    <tr>\n      <th>2022-03-21</th>\n      <td>-0.065461</td>\n    </tr>\n    <tr>\n      <th>2022-05-09</th>\n      <td>-0.058505</td>\n    </tr>\n  </tbody>\n</table>\n</div>"
     },
     "execution_count": 103,
     "metadata": {},
     "output_type": "execute_result"
    }
   ],
   "source": [
    "jd_first_hour.set_index('date')"
   ]
  },
  {
   "cell_type": "markdown",
   "source": [
    "↑ 上面算完了pre-market和9:30-10:30的，接下来算第二天卖掉的收益\n",
    "1. 拿到第二天的日期（要一个日期list）\n",
    "2. 把 premarket 和第一个小时的分开\n",
    "3."
   ],
   "metadata": {
    "collapsed": false,
    "pycharm": {
     "name": "#%% md\n"
    }
   }
  },
  {
   "cell_type": "code",
   "execution_count": 104,
   "outputs": [
    {
     "name": "stdout",
     "output_type": "stream",
     "text": [
      "[*********************100%***********************]  1 of 1 completed\n"
     ]
    }
   ],
   "source": [
    "# trading days list\n",
    "trading_days = list(yf.download('^GSPC', start='2018-01-01', interval='1d').index.date)"
   ],
   "metadata": {
    "collapsed": false,
    "pycharm": {
     "name": "#%%\n"
    }
   }
  },
  {
   "cell_type": "code",
   "execution_count": 105,
   "outputs": [],
   "source": [
    "def get_next_trading_date(curr_date):\n",
    "    return trading_days[trading_days.index(curr_date) + 1]"
   ],
   "metadata": {
    "collapsed": false,
    "pycharm": {
     "name": "#%%\n"
    }
   }
  },
  {
   "cell_type": "code",
   "execution_count": 106,
   "outputs": [
    {
     "name": "stdout",
     "output_type": "stream",
     "text": [
      "2018-01-04\n"
     ]
    }
   ],
   "source": [
    "print(get_next_trading_date(datetime.date(2018, 1, 3)))"
   ],
   "metadata": {
    "collapsed": false,
    "pycharm": {
     "name": "#%%\n"
    }
   }
  },
  {
   "cell_type": "code",
   "execution_count": 111,
   "outputs": [],
   "source": [
    "jd_first_hour['next_trading_date'] = jd_first_hour.apply(lambda d: get_next_trading_date(d.name.date()), axis=1)"
   ],
   "metadata": {
    "collapsed": false,
    "pycharm": {
     "name": "#%%\n"
    }
   }
  },
  {
   "cell_type": "code",
   "execution_count": 136,
   "outputs": [],
   "source": [
    "jd_first_hour['this_1030'] = jd_first_hour.apply(lambda row: jd_hist_calc_premarket[\n",
    "    (jd_hist_calc_premarket['date'] == row['date']) & (\n",
    "            jd_hist_calc_premarket['time'] == datetime.time(hour=10, minute=30))].iloc[0, 0], axis=1)\n",
    "# iloc[0,0]: 取10:30的open"
   ],
   "metadata": {
    "collapsed": false,
    "pycharm": {
     "name": "#%%\n"
    }
   }
  },
  {
   "cell_type": "code",
   "execution_count": 137,
   "outputs": [
    {
     "data": {
      "text/plain": "                                Open       High        Low      Close  \\\n2022-01-03 04:00:00-05:00  69.750000  69.900000  68.010000  68.630000   \n2022-01-03 05:00:00-05:00  68.720000  69.050000  68.630000  69.020000   \n2022-01-03 06:00:00-05:00  68.920000  69.200000  68.840000  69.000000   \n2022-01-03 07:00:00-05:00  69.010000  69.700000  68.960000  69.350000   \n2022-01-03 08:00:00-05:00  69.340000  69.980000  69.210000  69.750000   \n...                              ...        ...        ...        ...   \n2022-06-29 15:30:00-04:00  64.669998  64.910004  64.489998  64.860001   \n2022-06-29 16:00:00-04:00  64.850000  64.980000  64.250000  64.920000   \n2022-06-29 17:00:00-04:00  64.850000  64.920000  64.760000  64.854000   \n2022-06-29 18:00:00-04:00  64.850000  64.920000  64.750100  64.920000   \n2022-06-29 19:00:00-04:00  64.900000  65.000000  64.520000  65.000000   \n\n                           Adj Close  Volume      time        date  \n2022-01-03 04:00:00-05:00  68.630000       0  04:00:00  2022-01-03  \n2022-01-03 05:00:00-05:00  69.020000       0  05:00:00  2022-01-03  \n2022-01-03 06:00:00-05:00  69.000000       0  06:00:00  2022-01-03  \n2022-01-03 07:00:00-05:00  69.350000       0  07:00:00  2022-01-03  \n2022-01-03 08:00:00-05:00  69.750000       0  08:00:00  2022-01-03  \n...                              ...     ...       ...         ...  \n2022-06-29 15:30:00-04:00  64.860001  879566  15:30:00  2022-06-29  \n2022-06-29 16:00:00-04:00  64.920000       0  16:00:00  2022-06-29  \n2022-06-29 17:00:00-04:00  64.854000       0  17:00:00  2022-06-29  \n2022-06-29 18:00:00-04:00  64.920000       0  18:00:00  2022-06-29  \n2022-06-29 19:00:00-04:00  65.000000       0  19:00:00  2022-06-29  \n\n[2042 rows x 8 columns]",
      "text/html": "<div>\n<style scoped>\n    .dataframe tbody tr th:only-of-type {\n        vertical-align: middle;\n    }\n\n    .dataframe tbody tr th {\n        vertical-align: top;\n    }\n\n    .dataframe thead th {\n        text-align: right;\n    }\n</style>\n<table border=\"1\" class=\"dataframe\">\n  <thead>\n    <tr style=\"text-align: right;\">\n      <th></th>\n      <th>Open</th>\n      <th>High</th>\n      <th>Low</th>\n      <th>Close</th>\n      <th>Adj Close</th>\n      <th>Volume</th>\n      <th>time</th>\n      <th>date</th>\n    </tr>\n  </thead>\n  <tbody>\n    <tr>\n      <th>2022-01-03 04:00:00-05:00</th>\n      <td>69.750000</td>\n      <td>69.900000</td>\n      <td>68.010000</td>\n      <td>68.630000</td>\n      <td>68.630000</td>\n      <td>0</td>\n      <td>04:00:00</td>\n      <td>2022-01-03</td>\n    </tr>\n    <tr>\n      <th>2022-01-03 05:00:00-05:00</th>\n      <td>68.720000</td>\n      <td>69.050000</td>\n      <td>68.630000</td>\n      <td>69.020000</td>\n      <td>69.020000</td>\n      <td>0</td>\n      <td>05:00:00</td>\n      <td>2022-01-03</td>\n    </tr>\n    <tr>\n      <th>2022-01-03 06:00:00-05:00</th>\n      <td>68.920000</td>\n      <td>69.200000</td>\n      <td>68.840000</td>\n      <td>69.000000</td>\n      <td>69.000000</td>\n      <td>0</td>\n      <td>06:00:00</td>\n      <td>2022-01-03</td>\n    </tr>\n    <tr>\n      <th>2022-01-03 07:00:00-05:00</th>\n      <td>69.010000</td>\n      <td>69.700000</td>\n      <td>68.960000</td>\n      <td>69.350000</td>\n      <td>69.350000</td>\n      <td>0</td>\n      <td>07:00:00</td>\n      <td>2022-01-03</td>\n    </tr>\n    <tr>\n      <th>2022-01-03 08:00:00-05:00</th>\n      <td>69.340000</td>\n      <td>69.980000</td>\n      <td>69.210000</td>\n      <td>69.750000</td>\n      <td>69.750000</td>\n      <td>0</td>\n      <td>08:00:00</td>\n      <td>2022-01-03</td>\n    </tr>\n    <tr>\n      <th>...</th>\n      <td>...</td>\n      <td>...</td>\n      <td>...</td>\n      <td>...</td>\n      <td>...</td>\n      <td>...</td>\n      <td>...</td>\n      <td>...</td>\n    </tr>\n    <tr>\n      <th>2022-06-29 15:30:00-04:00</th>\n      <td>64.669998</td>\n      <td>64.910004</td>\n      <td>64.489998</td>\n      <td>64.860001</td>\n      <td>64.860001</td>\n      <td>879566</td>\n      <td>15:30:00</td>\n      <td>2022-06-29</td>\n    </tr>\n    <tr>\n      <th>2022-06-29 16:00:00-04:00</th>\n      <td>64.850000</td>\n      <td>64.980000</td>\n      <td>64.250000</td>\n      <td>64.920000</td>\n      <td>64.920000</td>\n      <td>0</td>\n      <td>16:00:00</td>\n      <td>2022-06-29</td>\n    </tr>\n    <tr>\n      <th>2022-06-29 17:00:00-04:00</th>\n      <td>64.850000</td>\n      <td>64.920000</td>\n      <td>64.760000</td>\n      <td>64.854000</td>\n      <td>64.854000</td>\n      <td>0</td>\n      <td>17:00:00</td>\n      <td>2022-06-29</td>\n    </tr>\n    <tr>\n      <th>2022-06-29 18:00:00-04:00</th>\n      <td>64.850000</td>\n      <td>64.920000</td>\n      <td>64.750100</td>\n      <td>64.920000</td>\n      <td>64.920000</td>\n      <td>0</td>\n      <td>18:00:00</td>\n      <td>2022-06-29</td>\n    </tr>\n    <tr>\n      <th>2022-06-29 19:00:00-04:00</th>\n      <td>64.900000</td>\n      <td>65.000000</td>\n      <td>64.520000</td>\n      <td>65.000000</td>\n      <td>65.000000</td>\n      <td>0</td>\n      <td>19:00:00</td>\n      <td>2022-06-29</td>\n    </tr>\n  </tbody>\n</table>\n<p>2042 rows × 8 columns</p>\n</div>"
     },
     "execution_count": 137,
     "metadata": {},
     "output_type": "execute_result"
    }
   ],
   "source": [
    "jd_hist_calc_premarket"
   ],
   "metadata": {
    "collapsed": false,
    "pycharm": {
     "name": "#%%\n"
    }
   }
  },
  {
   "cell_type": "code",
   "execution_count": 135,
   "outputs": [
    {
     "data": {
      "text/plain": "2022-01-04 09:30:00-05:00    63.730000\n2022-01-11 09:30:00-05:00    74.809998\n2022-03-11 09:30:00-05:00    49.790001\n2022-03-14 09:30:00-04:00    45.230000\n2022-03-15 09:30:00-04:00    47.680000\n2022-03-18 09:30:00-04:00    65.279999\n2022-03-21 09:30:00-04:00    58.430000\n2022-05-09 09:30:00-04:00    50.549999\ndtype: float64"
     },
     "execution_count": 135,
     "metadata": {},
     "output_type": "execute_result"
    }
   ],
   "source": [
    "# 取10:30的open\n",
    "# jd_first_hour.apply(lambda row: jd_hist_calc_premarket[(jd_hist_calc_premarket['date']==row['date']) & (jd_hist_calc_premarket['time']==datetime.time(hour=10,minute=30))].iloc[0,0],axis=1)\n"
   ],
   "metadata": {
    "collapsed": false,
    "pycharm": {
     "name": "#%%\n"
    }
   }
  },
  {
   "cell_type": "code",
   "execution_count": 139,
   "outputs": [],
   "source": [
    "jd_first_hour['next_1030'] = jd_first_hour.apply(lambda row: jd_hist_calc_premarket[\n",
    "    (jd_hist_calc_premarket['date'] == row['next_trading_date']) & (\n",
    "            jd_hist_calc_premarket['time'] == datetime.time(hour=10, minute=30))].iloc[0, 0], axis=1)"
   ],
   "metadata": {
    "collapsed": false,
    "pycharm": {
     "name": "#%%\n"
    }
   }
  },
  {
   "cell_type": "code",
   "execution_count": 141,
   "outputs": [],
   "source": [
    "jd_first_hour['strategy_return'] = (jd_first_hour.next_1030 - jd_first_hour.this_1030) / jd_first_hour.this_1030"
   ],
   "metadata": {
    "collapsed": false,
    "pycharm": {
     "name": "#%%\n"
    }
   }
  },
  {
   "cell_type": "code",
   "execution_count": 144,
   "outputs": [
    {
     "data": {
      "text/plain": "                                 date    return next_trading_date  this_1030  \\\n2022-01-04 09:30:00-05:00  2022-01-04 -0.058789        2022-01-05  63.730000   \n2022-03-11 09:30:00-05:00  2022-03-11 -0.076084        2022-03-14  49.790001   \n2022-03-21 09:30:00-04:00  2022-03-21 -0.065461        2022-03-22  58.430000   \n2022-05-09 09:30:00-04:00  2022-05-09 -0.058505        2022-05-10  50.549999   \n\n                           next_1030  strategy_return  \n2022-01-04 09:30:00-05:00  65.000000         0.019928  \n2022-03-11 09:30:00-05:00  45.230000        -0.091585  \n2022-03-21 09:30:00-04:00  64.750000         0.108164  \n2022-05-09 09:30:00-04:00  52.869999         0.045895  ",
      "text/html": "<div>\n<style scoped>\n    .dataframe tbody tr th:only-of-type {\n        vertical-align: middle;\n    }\n\n    .dataframe tbody tr th {\n        vertical-align: top;\n    }\n\n    .dataframe thead th {\n        text-align: right;\n    }\n</style>\n<table border=\"1\" class=\"dataframe\">\n  <thead>\n    <tr style=\"text-align: right;\">\n      <th></th>\n      <th>date</th>\n      <th>return</th>\n      <th>next_trading_date</th>\n      <th>this_1030</th>\n      <th>next_1030</th>\n      <th>strategy_return</th>\n    </tr>\n  </thead>\n  <tbody>\n    <tr>\n      <th>2022-01-04 09:30:00-05:00</th>\n      <td>2022-01-04</td>\n      <td>-0.058789</td>\n      <td>2022-01-05</td>\n      <td>63.730000</td>\n      <td>65.000000</td>\n      <td>0.019928</td>\n    </tr>\n    <tr>\n      <th>2022-03-11 09:30:00-05:00</th>\n      <td>2022-03-11</td>\n      <td>-0.076084</td>\n      <td>2022-03-14</td>\n      <td>49.790001</td>\n      <td>45.230000</td>\n      <td>-0.091585</td>\n    </tr>\n    <tr>\n      <th>2022-03-21 09:30:00-04:00</th>\n      <td>2022-03-21</td>\n      <td>-0.065461</td>\n      <td>2022-03-22</td>\n      <td>58.430000</td>\n      <td>64.750000</td>\n      <td>0.108164</td>\n    </tr>\n    <tr>\n      <th>2022-05-09 09:30:00-04:00</th>\n      <td>2022-05-09</td>\n      <td>-0.058505</td>\n      <td>2022-05-10</td>\n      <td>50.549999</td>\n      <td>52.869999</td>\n      <td>0.045895</td>\n    </tr>\n  </tbody>\n</table>\n</div>"
     },
     "execution_count": 144,
     "metadata": {},
     "output_type": "execute_result"
    }
   ],
   "source": [
    "# 只看前一天跌了的\n",
    "jd_first_hour[jd_first_hour['return'] < 0]"
   ],
   "metadata": {
    "collapsed": false,
    "pycharm": {
     "name": "#%%\n"
    }
   }
  },
  {
   "cell_type": "code",
   "execution_count": 157,
   "outputs": [
    {
     "data": {
      "text/plain": "            Premarket Return next_trading_date  this_1030  next_1030  \\\n2022-03-10         -0.133987        2022-03-11  54.615002  49.790001   \n2022-03-14         -0.101483        2022-03-15  45.230000  47.680000   \n\n            strategy_return  \n2022-03-10        -0.088346  \n2022-03-14         0.054168  ",
      "text/html": "<div>\n<style scoped>\n    .dataframe tbody tr th:only-of-type {\n        vertical-align: middle;\n    }\n\n    .dataframe tbody tr th {\n        vertical-align: top;\n    }\n\n    .dataframe thead th {\n        text-align: right;\n    }\n</style>\n<table border=\"1\" class=\"dataframe\">\n  <thead>\n    <tr style=\"text-align: right;\">\n      <th></th>\n      <th>Premarket Return</th>\n      <th>next_trading_date</th>\n      <th>this_1030</th>\n      <th>next_1030</th>\n      <th>strategy_return</th>\n    </tr>\n  </thead>\n  <tbody>\n    <tr>\n      <th>2022-03-10</th>\n      <td>-0.133987</td>\n      <td>2022-03-11</td>\n      <td>54.615002</td>\n      <td>49.790001</td>\n      <td>-0.088346</td>\n    </tr>\n    <tr>\n      <th>2022-03-14</th>\n      <td>-0.101483</td>\n      <td>2022-03-15</td>\n      <td>45.230000</td>\n      <td>47.680000</td>\n      <td>0.054168</td>\n    </tr>\n  </tbody>\n</table>\n</div>"
     },
     "execution_count": 157,
     "metadata": {},
     "output_type": "execute_result"
    }
   ],
   "source": [
    "# premarket重复一遍类似的\n",
    "jd_premarket_movement[jd_premarket_movement['Premarket Return']<0]"
   ],
   "metadata": {
    "collapsed": false,
    "pycharm": {
     "name": "#%%\n"
    }
   }
  },
  {
   "cell_type": "code",
   "execution_count": 151,
   "outputs": [],
   "source": [
    "jd_premarket_movement['next_trading_date'] = jd_premarket_movement.apply(lambda d: get_next_trading_date(d.name),\n",
    "                                                                         axis=1)\n",
    "jd_premarket_movement['this_1030'] = jd_premarket_movement.apply(lambda row: jd_hist_calc_premarket[\n",
    "    (jd_hist_calc_premarket['date'] == row.name) &\n",
    "    (jd_hist_calc_premarket['time'] == datetime.time(hour=10, minute=30))\n",
    "    ].iloc[0, 0], axis=1)\n",
    "jd_premarket_movement['next_1030'] = jd_premarket_movement.apply(lambda row: jd_hist_calc_premarket[\n",
    "    (jd_hist_calc_premarket['date'] == row['next_trading_date']) & (\n",
    "            jd_hist_calc_premarket['time'] == datetime.time(hour=10, minute=30))].iloc[0, 0], axis=1)"
   ],
   "metadata": {
    "collapsed": false,
    "pycharm": {
     "name": "#%%\n"
    }
   }
  },
  {
   "cell_type": "code",
   "execution_count": 155,
   "outputs": [],
   "source": [
    "jd_premarket_movement['strategy_return'] = (jd_premarket_movement.next_1030 - jd_premarket_movement.this_1030) / jd_premarket_movement.this_1030"
   ],
   "metadata": {
    "collapsed": false,
    "pycharm": {
     "name": "#%%\n"
    }
   }
  },
  {
   "cell_type": "markdown",
   "source": [
    "# 准备批量处理数据\n",
    "call一次API，拆分数据，存到一个dict"
   ],
   "metadata": {
    "collapsed": false,
    "pycharm": {
     "name": "#%% md\n"
    }
   }
  },
  {
   "cell_type": "code",
   "execution_count": 165,
   "outputs": [],
   "source": [
    "tickers = list(stock_list['Ticker'].head(10))"
   ],
   "metadata": {
    "collapsed": false,
    "pycharm": {
     "name": "#%%\n"
    }
   }
  },
  {
   "cell_type": "code",
   "execution_count": 166,
   "outputs": [
    {
     "name": "stdout",
     "output_type": "stream",
     "text": [
      "[*********************100%***********************]  10 of 10 completed\n"
     ]
    }
   ],
   "source": [
    "temp = yf.download(tickers,start='2022-11-14',end='2022-11-18',interval='1h')"
   ],
   "metadata": {
    "collapsed": false,
    "pycharm": {
     "name": "#%%\n"
    }
   }
  },
  {
   "cell_type": "code",
   "execution_count": 167,
   "outputs": [
    {
     "data": {
      "text/plain": "                            Adj Close                                \\\n                                 BIDU       BILI       FUTU      IQ   \n2022-11-14 09:30:00-05:00   91.169998  13.110000  48.564999  2.7250   \n2022-11-14 10:30:00-05:00   91.830002  13.040000  48.669998  2.7350   \n2022-11-14 11:30:00-05:00   91.639999  13.020000  48.959999  2.7100   \n2022-11-14 12:30:00-05:00   91.870003  13.120000  49.439999  2.7299   \n2022-11-14 13:30:00-05:00   92.519997  13.080000  49.119999  2.7390   \n2022-11-14 14:30:00-05:00   92.480003  13.065000  49.180000  2.7150   \n2022-11-14 15:30:00-05:00   91.459999  12.880000  49.009998  2.6600   \n2022-11-15 09:30:00-05:00   98.064598  15.639700  52.080002  3.0100   \n2022-11-15 10:30:00-05:00   99.745003  16.180000  51.380001  3.1000   \n2022-11-15 11:30:00-05:00  101.190002  16.660000  53.320000  3.2093   \n2022-11-15 12:30:00-05:00   99.669998  16.280001  52.785000  3.1705   \n2022-11-15 13:30:00-05:00   99.559998  16.378000  53.549999  3.1600   \n2022-11-15 14:30:00-05:00   99.980003  16.410000  53.549999  3.1200   \n2022-11-15 15:30:00-05:00   99.760002  16.280001  53.840000  3.0950   \n2022-11-16 09:30:00-05:00   95.629997  15.925000  51.240002  2.8615   \n2022-11-16 10:30:00-05:00   94.970001  15.595000  51.145000  2.7900   \n2022-11-16 11:30:00-05:00   94.620003  15.400000  50.645000  2.8000   \n2022-11-16 12:30:00-05:00   95.080002  15.820000  50.665001  2.8400   \n2022-11-16 13:30:00-05:00   94.839996  15.725000  50.630001  2.8750   \n2022-11-16 14:30:00-05:00   94.629997  15.490000  50.474998  2.8550   \n2022-11-16 15:30:00-05:00   94.750000  15.460000  50.360001  2.8600   \n2022-11-17 09:30:00-05:00   97.849998  16.219999  52.320000  2.9100   \n2022-11-17 10:30:00-05:00   98.410004  15.995000  53.224998  2.9350   \n2022-11-17 11:30:00-05:00   98.889999  15.865000  52.455002  2.9400   \n2022-11-17 12:30:00-05:00   99.260002  15.849900  52.770000  2.9600   \n2022-11-17 13:30:00-05:00   98.660004  15.549400  52.380001  2.9650   \n2022-11-17 14:30:00-05:00   98.669998  15.640000  52.131901  2.9400   \n2022-11-17 15:30:00-05:00   99.620003  15.800000  52.259998  2.9597   \n\n                                                                       \\\n                                  JD         LI       NTES        PDD   \n2022-11-14 09:30:00-05:00  51.279999  18.790001  65.669998  65.320000   \n2022-11-14 10:30:00-05:00  51.380001  18.295000  65.925003  65.455002   \n2022-11-14 11:30:00-05:00  51.389999  18.280001  65.660004  65.709999   \n2022-11-14 12:30:00-05:00  51.217701  18.305000  65.669998  65.529999   \n2022-11-14 13:30:00-05:00  51.369999  18.344999  65.870003  65.510002   \n2022-11-14 14:30:00-05:00  51.070000  18.129999  65.559998  65.510002   \n2022-11-14 15:30:00-05:00  50.840000  17.969999  65.300003  65.410004   \n2022-11-15 09:30:00-05:00  55.470001  19.170000  70.559998  71.120003   \n2022-11-15 10:30:00-05:00  54.849998  19.531200  71.934998  71.449997   \n2022-11-15 11:30:00-05:00  54.930000  19.240000  72.355003  72.059998   \n2022-11-15 12:30:00-05:00  54.259998  18.885000  71.550003  71.372002   \n2022-11-15 13:30:00-05:00  54.259998  19.040001  71.894997  71.230003   \n2022-11-15 14:30:00-05:00  54.465000  18.905001  72.165001  71.120003   \n2022-11-15 15:30:00-05:00  54.480000  18.940001  71.610001  70.949997   \n2022-11-16 09:30:00-05:00  53.220001  17.715000  73.419998  68.209999   \n2022-11-16 10:30:00-05:00  53.580002  17.865000  72.730003  67.989998   \n2022-11-16 11:30:00-05:00  53.490002  17.815001  71.820000  68.160004   \n2022-11-16 12:30:00-05:00  53.580002  17.805000  71.610001  68.070000   \n2022-11-16 13:30:00-05:00  53.470001  17.795000  71.459999  67.800003   \n2022-11-16 14:30:00-05:00  53.485001  17.700001  71.430000  67.834999   \n2022-11-16 15:30:00-05:00  53.490002  17.760000  71.330002  67.570000   \n2022-11-17 09:30:00-05:00  56.020000  17.915001  73.809998  70.830002   \n2022-11-17 10:30:00-05:00  56.299999  17.990000  71.379997  71.250000   \n2022-11-17 11:30:00-05:00  56.880001  18.110001  70.739998  70.690002   \n2022-11-17 12:30:00-05:00  57.701698  18.299999  70.959999  70.500000   \n2022-11-17 13:30:00-05:00  57.169998  18.090000  70.660004  70.099998   \n2022-11-17 14:30:00-05:00  57.529999  18.190001  71.199997  70.150002   \n2022-11-17 15:30:00-05:00  57.520000  18.370001  71.029999  70.519997   \n\n                                               ...   Volume                    \\\n                                TCOM       WB  ...     BIDU     BILI     FUTU   \n2022-11-14 09:30:00-05:00  28.230000  13.9850  ...   665184  3497116  1414322   \n2022-11-14 10:30:00-05:00  28.200001  13.9100  ...   617787  1088872   761753   \n2022-11-14 11:30:00-05:00  28.230000  13.8975  ...   318208   601742   189044   \n2022-11-14 12:30:00-05:00  28.240000  13.8550  ...   154888   365177   119648   \n2022-11-14 13:30:00-05:00  28.135000  13.9050  ...   138920   343533   192309   \n2022-11-14 14:30:00-05:00  28.055000  13.8850  ...   294874   476738   129173   \n2022-11-14 15:30:00-05:00  27.730000  13.7500  ...   405736   625043   231841   \n2022-11-15 09:30:00-05:00  29.780001  14.8450  ...  1735293  7170883  2828125   \n2022-11-15 10:30:00-05:00  29.969999  15.2800  ...   918513  5694345   641899   \n2022-11-15 11:30:00-05:00  30.120001  15.6500  ...   790283  3206886   581693   \n2022-11-15 12:30:00-05:00  29.690001  15.3550  ...   626453  2699973   374794   \n2022-11-15 13:30:00-05:00  29.400000  15.3500  ...   621089  2150758   268278   \n2022-11-15 14:30:00-05:00  29.285000  15.3900  ...   454332  1364063   182129   \n2022-11-15 15:30:00-05:00  29.299999  15.3300  ...   680560  2200078   351100   \n2022-11-16 09:30:00-05:00  29.160000  14.9000  ...   950743  6705836  1064611   \n2022-11-16 10:30:00-05:00  29.200001  14.8000  ...   449891  2106023   400284   \n2022-11-16 11:30:00-05:00  29.570000  14.6200  ...   210297   893880   335031   \n2022-11-16 12:30:00-05:00  29.160000  14.7900  ...   263290  1169120   213616   \n2022-11-16 13:30:00-05:00  28.965000  14.8150  ...   191247   696407   271023   \n2022-11-16 14:30:00-05:00  29.020000  14.7650  ...   211681   647233   190726   \n2022-11-16 15:30:00-05:00  28.750000  14.8500  ...   413330  1183445   279624   \n2022-11-17 09:30:00-05:00  29.590000  14.1900  ...  1135089  5366461  1072087   \n2022-11-17 10:30:00-05:00  29.650000  14.8700  ...   537768  2543623   750560   \n2022-11-17 11:30:00-05:00  29.459999  15.3800  ...   425512  1403986   248312   \n2022-11-17 12:30:00-05:00  29.490000  15.7700  ...   175185   931307   142734   \n2022-11-17 13:30:00-05:00  29.155001  15.9000  ...   212366   841994   132426   \n2022-11-17 14:30:00-05:00  29.110001  15.7450  ...   288763  1068525   162991   \n2022-11-17 15:30:00-05:00  29.170000  15.9050  ...   366265  1390571   234709   \n\n                                                                        \\\n                                IQ       JD       LI     NTES      PDD   \n2022-11-14 09:30:00-05:00  5214904  4642935  4754699   377585  5676797   \n2022-11-14 10:30:00-05:00  1177465  1750419  1547755   185084  1374029   \n2022-11-14 11:30:00-05:00   814400  1411555   759246   134492  1080760   \n2022-11-14 12:30:00-05:00   329466   555166   492668    81616   527792   \n2022-11-14 13:30:00-05:00   410907   724087   543665    92728  1908686   \n2022-11-14 14:30:00-05:00   544696  1134743   913573   110514   526850   \n2022-11-14 15:30:00-05:00  1108976  1972526  1416993   270589  1055634   \n2022-11-15 09:30:00-05:00  9189825  4640724  4476117   927300  7360175   \n2022-11-15 10:30:00-05:00  5479054  1915564  1914626   528642  1803566   \n2022-11-15 11:30:00-05:00  2039656  1305327  1458836   341045  1711582   \n2022-11-15 12:30:00-05:00  1863974   841822   861490   221501  1213170   \n2022-11-15 13:30:00-05:00  1372617  1321804   989854   256329  1565539   \n2022-11-15 14:30:00-05:00   873469   976079   872193   247788   786384   \n2022-11-15 15:30:00-05:00  1432128  1659681  1283856   462955  1007074   \n2022-11-16 09:30:00-05:00  5276488  1914989  2839094  1548645  3904136   \n2022-11-16 10:30:00-05:00  2889529   854674  1483676   466870  1103008   \n2022-11-16 11:30:00-05:00  1478622   519277   809300   433594   488899   \n2022-11-16 12:30:00-05:00  1280298   514636   543127   186368   564041   \n2022-11-16 13:30:00-05:00  1332934   495255   459263   209856   363778   \n2022-11-16 14:30:00-05:00  1386847   580676   657198   214671   379274   \n2022-11-16 15:30:00-05:00  1391485  1414325  1045530   363121   743040   \n2022-11-17 09:30:00-05:00  4848231  3077251  3572028  1914669  4468544   \n2022-11-17 10:30:00-05:00  1297602  4224300  1771072   618906  2801445   \n2022-11-17 11:30:00-05:00  1020850  1953864  1373818   739161  1128572   \n2022-11-17 12:30:00-05:00  1038673  1251931   814785   438011   552388   \n2022-11-17 13:30:00-05:00   427030  1218816   667954   154112  1616000   \n2022-11-17 14:30:00-05:00   455002  1340995   564976   188658   700903   \n2022-11-17 15:30:00-05:00  1020106  1610985  1099477   332011   895105   \n\n                                            \n                              TCOM      WB  \n2022-11-14 09:30:00-05:00  1299430  316344  \n2022-11-14 10:30:00-05:00   614292   66778  \n2022-11-14 11:30:00-05:00   355552  109742  \n2022-11-14 12:30:00-05:00   238999   48464  \n2022-11-14 13:30:00-05:00   350581   52579  \n2022-11-14 14:30:00-05:00   427112   58076  \n2022-11-14 15:30:00-05:00   897721  116109  \n2022-11-15 09:30:00-05:00  5260205  399050  \n2022-11-15 10:30:00-05:00  1025495  274074  \n2022-11-15 11:30:00-05:00  1034932  205215  \n2022-11-15 12:30:00-05:00   871180  122158  \n2022-11-15 13:30:00-05:00   632356  107141  \n2022-11-15 14:30:00-05:00   727550   98330  \n2022-11-15 15:30:00-05:00  1313250  204487  \n2022-11-16 09:30:00-05:00  1709119  120863  \n2022-11-16 10:30:00-05:00   931589  129624  \n2022-11-16 11:30:00-05:00   873553   77304  \n2022-11-16 12:30:00-05:00   594814   98683  \n2022-11-16 13:30:00-05:00   542655  121296  \n2022-11-16 14:30:00-05:00   595230  123416  \n2022-11-16 15:30:00-05:00  1469894  328237  \n2022-11-17 09:30:00-05:00  1873388  642839  \n2022-11-17 10:30:00-05:00  1486969  278917  \n2022-11-17 11:30:00-05:00   871525  195281  \n2022-11-17 12:30:00-05:00   540148  126322  \n2022-11-17 13:30:00-05:00   546484  130185  \n2022-11-17 14:30:00-05:00   940307  155005  \n2022-11-17 15:30:00-05:00  1551187  289030  \n\n[28 rows x 60 columns]",
      "text/html": "<div>\n<style scoped>\n    .dataframe tbody tr th:only-of-type {\n        vertical-align: middle;\n    }\n\n    .dataframe tbody tr th {\n        vertical-align: top;\n    }\n\n    .dataframe thead tr th {\n        text-align: left;\n    }\n</style>\n<table border=\"1\" class=\"dataframe\">\n  <thead>\n    <tr>\n      <th></th>\n      <th colspan=\"10\" halign=\"left\">Adj Close</th>\n      <th>...</th>\n      <th colspan=\"10\" halign=\"left\">Volume</th>\n    </tr>\n    <tr>\n      <th></th>\n      <th>BIDU</th>\n      <th>BILI</th>\n      <th>FUTU</th>\n      <th>IQ</th>\n      <th>JD</th>\n      <th>LI</th>\n      <th>NTES</th>\n      <th>PDD</th>\n      <th>TCOM</th>\n      <th>WB</th>\n      <th>...</th>\n      <th>BIDU</th>\n      <th>BILI</th>\n      <th>FUTU</th>\n      <th>IQ</th>\n      <th>JD</th>\n      <th>LI</th>\n      <th>NTES</th>\n      <th>PDD</th>\n      <th>TCOM</th>\n      <th>WB</th>\n    </tr>\n  </thead>\n  <tbody>\n    <tr>\n      <th>2022-11-14 09:30:00-05:00</th>\n      <td>91.169998</td>\n      <td>13.110000</td>\n      <td>48.564999</td>\n      <td>2.7250</td>\n      <td>51.279999</td>\n      <td>18.790001</td>\n      <td>65.669998</td>\n      <td>65.320000</td>\n      <td>28.230000</td>\n      <td>13.9850</td>\n      <td>...</td>\n      <td>665184</td>\n      <td>3497116</td>\n      <td>1414322</td>\n      <td>5214904</td>\n      <td>4642935</td>\n      <td>4754699</td>\n      <td>377585</td>\n      <td>5676797</td>\n      <td>1299430</td>\n      <td>316344</td>\n    </tr>\n    <tr>\n      <th>2022-11-14 10:30:00-05:00</th>\n      <td>91.830002</td>\n      <td>13.040000</td>\n      <td>48.669998</td>\n      <td>2.7350</td>\n      <td>51.380001</td>\n      <td>18.295000</td>\n      <td>65.925003</td>\n      <td>65.455002</td>\n      <td>28.200001</td>\n      <td>13.9100</td>\n      <td>...</td>\n      <td>617787</td>\n      <td>1088872</td>\n      <td>761753</td>\n      <td>1177465</td>\n      <td>1750419</td>\n      <td>1547755</td>\n      <td>185084</td>\n      <td>1374029</td>\n      <td>614292</td>\n      <td>66778</td>\n    </tr>\n    <tr>\n      <th>2022-11-14 11:30:00-05:00</th>\n      <td>91.639999</td>\n      <td>13.020000</td>\n      <td>48.959999</td>\n      <td>2.7100</td>\n      <td>51.389999</td>\n      <td>18.280001</td>\n      <td>65.660004</td>\n      <td>65.709999</td>\n      <td>28.230000</td>\n      <td>13.8975</td>\n      <td>...</td>\n      <td>318208</td>\n      <td>601742</td>\n      <td>189044</td>\n      <td>814400</td>\n      <td>1411555</td>\n      <td>759246</td>\n      <td>134492</td>\n      <td>1080760</td>\n      <td>355552</td>\n      <td>109742</td>\n    </tr>\n    <tr>\n      <th>2022-11-14 12:30:00-05:00</th>\n      <td>91.870003</td>\n      <td>13.120000</td>\n      <td>49.439999</td>\n      <td>2.7299</td>\n      <td>51.217701</td>\n      <td>18.305000</td>\n      <td>65.669998</td>\n      <td>65.529999</td>\n      <td>28.240000</td>\n      <td>13.8550</td>\n      <td>...</td>\n      <td>154888</td>\n      <td>365177</td>\n      <td>119648</td>\n      <td>329466</td>\n      <td>555166</td>\n      <td>492668</td>\n      <td>81616</td>\n      <td>527792</td>\n      <td>238999</td>\n      <td>48464</td>\n    </tr>\n    <tr>\n      <th>2022-11-14 13:30:00-05:00</th>\n      <td>92.519997</td>\n      <td>13.080000</td>\n      <td>49.119999</td>\n      <td>2.7390</td>\n      <td>51.369999</td>\n      <td>18.344999</td>\n      <td>65.870003</td>\n      <td>65.510002</td>\n      <td>28.135000</td>\n      <td>13.9050</td>\n      <td>...</td>\n      <td>138920</td>\n      <td>343533</td>\n      <td>192309</td>\n      <td>410907</td>\n      <td>724087</td>\n      <td>543665</td>\n      <td>92728</td>\n      <td>1908686</td>\n      <td>350581</td>\n      <td>52579</td>\n    </tr>\n    <tr>\n      <th>2022-11-14 14:30:00-05:00</th>\n      <td>92.480003</td>\n      <td>13.065000</td>\n      <td>49.180000</td>\n      <td>2.7150</td>\n      <td>51.070000</td>\n      <td>18.129999</td>\n      <td>65.559998</td>\n      <td>65.510002</td>\n      <td>28.055000</td>\n      <td>13.8850</td>\n      <td>...</td>\n      <td>294874</td>\n      <td>476738</td>\n      <td>129173</td>\n      <td>544696</td>\n      <td>1134743</td>\n      <td>913573</td>\n      <td>110514</td>\n      <td>526850</td>\n      <td>427112</td>\n      <td>58076</td>\n    </tr>\n    <tr>\n      <th>2022-11-14 15:30:00-05:00</th>\n      <td>91.459999</td>\n      <td>12.880000</td>\n      <td>49.009998</td>\n      <td>2.6600</td>\n      <td>50.840000</td>\n      <td>17.969999</td>\n      <td>65.300003</td>\n      <td>65.410004</td>\n      <td>27.730000</td>\n      <td>13.7500</td>\n      <td>...</td>\n      <td>405736</td>\n      <td>625043</td>\n      <td>231841</td>\n      <td>1108976</td>\n      <td>1972526</td>\n      <td>1416993</td>\n      <td>270589</td>\n      <td>1055634</td>\n      <td>897721</td>\n      <td>116109</td>\n    </tr>\n    <tr>\n      <th>2022-11-15 09:30:00-05:00</th>\n      <td>98.064598</td>\n      <td>15.639700</td>\n      <td>52.080002</td>\n      <td>3.0100</td>\n      <td>55.470001</td>\n      <td>19.170000</td>\n      <td>70.559998</td>\n      <td>71.120003</td>\n      <td>29.780001</td>\n      <td>14.8450</td>\n      <td>...</td>\n      <td>1735293</td>\n      <td>7170883</td>\n      <td>2828125</td>\n      <td>9189825</td>\n      <td>4640724</td>\n      <td>4476117</td>\n      <td>927300</td>\n      <td>7360175</td>\n      <td>5260205</td>\n      <td>399050</td>\n    </tr>\n    <tr>\n      <th>2022-11-15 10:30:00-05:00</th>\n      <td>99.745003</td>\n      <td>16.180000</td>\n      <td>51.380001</td>\n      <td>3.1000</td>\n      <td>54.849998</td>\n      <td>19.531200</td>\n      <td>71.934998</td>\n      <td>71.449997</td>\n      <td>29.969999</td>\n      <td>15.2800</td>\n      <td>...</td>\n      <td>918513</td>\n      <td>5694345</td>\n      <td>641899</td>\n      <td>5479054</td>\n      <td>1915564</td>\n      <td>1914626</td>\n      <td>528642</td>\n      <td>1803566</td>\n      <td>1025495</td>\n      <td>274074</td>\n    </tr>\n    <tr>\n      <th>2022-11-15 11:30:00-05:00</th>\n      <td>101.190002</td>\n      <td>16.660000</td>\n      <td>53.320000</td>\n      <td>3.2093</td>\n      <td>54.930000</td>\n      <td>19.240000</td>\n      <td>72.355003</td>\n      <td>72.059998</td>\n      <td>30.120001</td>\n      <td>15.6500</td>\n      <td>...</td>\n      <td>790283</td>\n      <td>3206886</td>\n      <td>581693</td>\n      <td>2039656</td>\n      <td>1305327</td>\n      <td>1458836</td>\n      <td>341045</td>\n      <td>1711582</td>\n      <td>1034932</td>\n      <td>205215</td>\n    </tr>\n    <tr>\n      <th>2022-11-15 12:30:00-05:00</th>\n      <td>99.669998</td>\n      <td>16.280001</td>\n      <td>52.785000</td>\n      <td>3.1705</td>\n      <td>54.259998</td>\n      <td>18.885000</td>\n      <td>71.550003</td>\n      <td>71.372002</td>\n      <td>29.690001</td>\n      <td>15.3550</td>\n      <td>...</td>\n      <td>626453</td>\n      <td>2699973</td>\n      <td>374794</td>\n      <td>1863974</td>\n      <td>841822</td>\n      <td>861490</td>\n      <td>221501</td>\n      <td>1213170</td>\n      <td>871180</td>\n      <td>122158</td>\n    </tr>\n    <tr>\n      <th>2022-11-15 13:30:00-05:00</th>\n      <td>99.559998</td>\n      <td>16.378000</td>\n      <td>53.549999</td>\n      <td>3.1600</td>\n      <td>54.259998</td>\n      <td>19.040001</td>\n      <td>71.894997</td>\n      <td>71.230003</td>\n      <td>29.400000</td>\n      <td>15.3500</td>\n      <td>...</td>\n      <td>621089</td>\n      <td>2150758</td>\n      <td>268278</td>\n      <td>1372617</td>\n      <td>1321804</td>\n      <td>989854</td>\n      <td>256329</td>\n      <td>1565539</td>\n      <td>632356</td>\n      <td>107141</td>\n    </tr>\n    <tr>\n      <th>2022-11-15 14:30:00-05:00</th>\n      <td>99.980003</td>\n      <td>16.410000</td>\n      <td>53.549999</td>\n      <td>3.1200</td>\n      <td>54.465000</td>\n      <td>18.905001</td>\n      <td>72.165001</td>\n      <td>71.120003</td>\n      <td>29.285000</td>\n      <td>15.3900</td>\n      <td>...</td>\n      <td>454332</td>\n      <td>1364063</td>\n      <td>182129</td>\n      <td>873469</td>\n      <td>976079</td>\n      <td>872193</td>\n      <td>247788</td>\n      <td>786384</td>\n      <td>727550</td>\n      <td>98330</td>\n    </tr>\n    <tr>\n      <th>2022-11-15 15:30:00-05:00</th>\n      <td>99.760002</td>\n      <td>16.280001</td>\n      <td>53.840000</td>\n      <td>3.0950</td>\n      <td>54.480000</td>\n      <td>18.940001</td>\n      <td>71.610001</td>\n      <td>70.949997</td>\n      <td>29.299999</td>\n      <td>15.3300</td>\n      <td>...</td>\n      <td>680560</td>\n      <td>2200078</td>\n      <td>351100</td>\n      <td>1432128</td>\n      <td>1659681</td>\n      <td>1283856</td>\n      <td>462955</td>\n      <td>1007074</td>\n      <td>1313250</td>\n      <td>204487</td>\n    </tr>\n    <tr>\n      <th>2022-11-16 09:30:00-05:00</th>\n      <td>95.629997</td>\n      <td>15.925000</td>\n      <td>51.240002</td>\n      <td>2.8615</td>\n      <td>53.220001</td>\n      <td>17.715000</td>\n      <td>73.419998</td>\n      <td>68.209999</td>\n      <td>29.160000</td>\n      <td>14.9000</td>\n      <td>...</td>\n      <td>950743</td>\n      <td>6705836</td>\n      <td>1064611</td>\n      <td>5276488</td>\n      <td>1914989</td>\n      <td>2839094</td>\n      <td>1548645</td>\n      <td>3904136</td>\n      <td>1709119</td>\n      <td>120863</td>\n    </tr>\n    <tr>\n      <th>2022-11-16 10:30:00-05:00</th>\n      <td>94.970001</td>\n      <td>15.595000</td>\n      <td>51.145000</td>\n      <td>2.7900</td>\n      <td>53.580002</td>\n      <td>17.865000</td>\n      <td>72.730003</td>\n      <td>67.989998</td>\n      <td>29.200001</td>\n      <td>14.8000</td>\n      <td>...</td>\n      <td>449891</td>\n      <td>2106023</td>\n      <td>400284</td>\n      <td>2889529</td>\n      <td>854674</td>\n      <td>1483676</td>\n      <td>466870</td>\n      <td>1103008</td>\n      <td>931589</td>\n      <td>129624</td>\n    </tr>\n    <tr>\n      <th>2022-11-16 11:30:00-05:00</th>\n      <td>94.620003</td>\n      <td>15.400000</td>\n      <td>50.645000</td>\n      <td>2.8000</td>\n      <td>53.490002</td>\n      <td>17.815001</td>\n      <td>71.820000</td>\n      <td>68.160004</td>\n      <td>29.570000</td>\n      <td>14.6200</td>\n      <td>...</td>\n      <td>210297</td>\n      <td>893880</td>\n      <td>335031</td>\n      <td>1478622</td>\n      <td>519277</td>\n      <td>809300</td>\n      <td>433594</td>\n      <td>488899</td>\n      <td>873553</td>\n      <td>77304</td>\n    </tr>\n    <tr>\n      <th>2022-11-16 12:30:00-05:00</th>\n      <td>95.080002</td>\n      <td>15.820000</td>\n      <td>50.665001</td>\n      <td>2.8400</td>\n      <td>53.580002</td>\n      <td>17.805000</td>\n      <td>71.610001</td>\n      <td>68.070000</td>\n      <td>29.160000</td>\n      <td>14.7900</td>\n      <td>...</td>\n      <td>263290</td>\n      <td>1169120</td>\n      <td>213616</td>\n      <td>1280298</td>\n      <td>514636</td>\n      <td>543127</td>\n      <td>186368</td>\n      <td>564041</td>\n      <td>594814</td>\n      <td>98683</td>\n    </tr>\n    <tr>\n      <th>2022-11-16 13:30:00-05:00</th>\n      <td>94.839996</td>\n      <td>15.725000</td>\n      <td>50.630001</td>\n      <td>2.8750</td>\n      <td>53.470001</td>\n      <td>17.795000</td>\n      <td>71.459999</td>\n      <td>67.800003</td>\n      <td>28.965000</td>\n      <td>14.8150</td>\n      <td>...</td>\n      <td>191247</td>\n      <td>696407</td>\n      <td>271023</td>\n      <td>1332934</td>\n      <td>495255</td>\n      <td>459263</td>\n      <td>209856</td>\n      <td>363778</td>\n      <td>542655</td>\n      <td>121296</td>\n    </tr>\n    <tr>\n      <th>2022-11-16 14:30:00-05:00</th>\n      <td>94.629997</td>\n      <td>15.490000</td>\n      <td>50.474998</td>\n      <td>2.8550</td>\n      <td>53.485001</td>\n      <td>17.700001</td>\n      <td>71.430000</td>\n      <td>67.834999</td>\n      <td>29.020000</td>\n      <td>14.7650</td>\n      <td>...</td>\n      <td>211681</td>\n      <td>647233</td>\n      <td>190726</td>\n      <td>1386847</td>\n      <td>580676</td>\n      <td>657198</td>\n      <td>214671</td>\n      <td>379274</td>\n      <td>595230</td>\n      <td>123416</td>\n    </tr>\n    <tr>\n      <th>2022-11-16 15:30:00-05:00</th>\n      <td>94.750000</td>\n      <td>15.460000</td>\n      <td>50.360001</td>\n      <td>2.8600</td>\n      <td>53.490002</td>\n      <td>17.760000</td>\n      <td>71.330002</td>\n      <td>67.570000</td>\n      <td>28.750000</td>\n      <td>14.8500</td>\n      <td>...</td>\n      <td>413330</td>\n      <td>1183445</td>\n      <td>279624</td>\n      <td>1391485</td>\n      <td>1414325</td>\n      <td>1045530</td>\n      <td>363121</td>\n      <td>743040</td>\n      <td>1469894</td>\n      <td>328237</td>\n    </tr>\n    <tr>\n      <th>2022-11-17 09:30:00-05:00</th>\n      <td>97.849998</td>\n      <td>16.219999</td>\n      <td>52.320000</td>\n      <td>2.9100</td>\n      <td>56.020000</td>\n      <td>17.915001</td>\n      <td>73.809998</td>\n      <td>70.830002</td>\n      <td>29.590000</td>\n      <td>14.1900</td>\n      <td>...</td>\n      <td>1135089</td>\n      <td>5366461</td>\n      <td>1072087</td>\n      <td>4848231</td>\n      <td>3077251</td>\n      <td>3572028</td>\n      <td>1914669</td>\n      <td>4468544</td>\n      <td>1873388</td>\n      <td>642839</td>\n    </tr>\n    <tr>\n      <th>2022-11-17 10:30:00-05:00</th>\n      <td>98.410004</td>\n      <td>15.995000</td>\n      <td>53.224998</td>\n      <td>2.9350</td>\n      <td>56.299999</td>\n      <td>17.990000</td>\n      <td>71.379997</td>\n      <td>71.250000</td>\n      <td>29.650000</td>\n      <td>14.8700</td>\n      <td>...</td>\n      <td>537768</td>\n      <td>2543623</td>\n      <td>750560</td>\n      <td>1297602</td>\n      <td>4224300</td>\n      <td>1771072</td>\n      <td>618906</td>\n      <td>2801445</td>\n      <td>1486969</td>\n      <td>278917</td>\n    </tr>\n    <tr>\n      <th>2022-11-17 11:30:00-05:00</th>\n      <td>98.889999</td>\n      <td>15.865000</td>\n      <td>52.455002</td>\n      <td>2.9400</td>\n      <td>56.880001</td>\n      <td>18.110001</td>\n      <td>70.739998</td>\n      <td>70.690002</td>\n      <td>29.459999</td>\n      <td>15.3800</td>\n      <td>...</td>\n      <td>425512</td>\n      <td>1403986</td>\n      <td>248312</td>\n      <td>1020850</td>\n      <td>1953864</td>\n      <td>1373818</td>\n      <td>739161</td>\n      <td>1128572</td>\n      <td>871525</td>\n      <td>195281</td>\n    </tr>\n    <tr>\n      <th>2022-11-17 12:30:00-05:00</th>\n      <td>99.260002</td>\n      <td>15.849900</td>\n      <td>52.770000</td>\n      <td>2.9600</td>\n      <td>57.701698</td>\n      <td>18.299999</td>\n      <td>70.959999</td>\n      <td>70.500000</td>\n      <td>29.490000</td>\n      <td>15.7700</td>\n      <td>...</td>\n      <td>175185</td>\n      <td>931307</td>\n      <td>142734</td>\n      <td>1038673</td>\n      <td>1251931</td>\n      <td>814785</td>\n      <td>438011</td>\n      <td>552388</td>\n      <td>540148</td>\n      <td>126322</td>\n    </tr>\n    <tr>\n      <th>2022-11-17 13:30:00-05:00</th>\n      <td>98.660004</td>\n      <td>15.549400</td>\n      <td>52.380001</td>\n      <td>2.9650</td>\n      <td>57.169998</td>\n      <td>18.090000</td>\n      <td>70.660004</td>\n      <td>70.099998</td>\n      <td>29.155001</td>\n      <td>15.9000</td>\n      <td>...</td>\n      <td>212366</td>\n      <td>841994</td>\n      <td>132426</td>\n      <td>427030</td>\n      <td>1218816</td>\n      <td>667954</td>\n      <td>154112</td>\n      <td>1616000</td>\n      <td>546484</td>\n      <td>130185</td>\n    </tr>\n    <tr>\n      <th>2022-11-17 14:30:00-05:00</th>\n      <td>98.669998</td>\n      <td>15.640000</td>\n      <td>52.131901</td>\n      <td>2.9400</td>\n      <td>57.529999</td>\n      <td>18.190001</td>\n      <td>71.199997</td>\n      <td>70.150002</td>\n      <td>29.110001</td>\n      <td>15.7450</td>\n      <td>...</td>\n      <td>288763</td>\n      <td>1068525</td>\n      <td>162991</td>\n      <td>455002</td>\n      <td>1340995</td>\n      <td>564976</td>\n      <td>188658</td>\n      <td>700903</td>\n      <td>940307</td>\n      <td>155005</td>\n    </tr>\n    <tr>\n      <th>2022-11-17 15:30:00-05:00</th>\n      <td>99.620003</td>\n      <td>15.800000</td>\n      <td>52.259998</td>\n      <td>2.9597</td>\n      <td>57.520000</td>\n      <td>18.370001</td>\n      <td>71.029999</td>\n      <td>70.519997</td>\n      <td>29.170000</td>\n      <td>15.9050</td>\n      <td>...</td>\n      <td>366265</td>\n      <td>1390571</td>\n      <td>234709</td>\n      <td>1020106</td>\n      <td>1610985</td>\n      <td>1099477</td>\n      <td>332011</td>\n      <td>895105</td>\n      <td>1551187</td>\n      <td>289030</td>\n    </tr>\n  </tbody>\n</table>\n<p>28 rows × 60 columns</p>\n</div>"
     },
     "execution_count": 167,
     "metadata": {},
     "output_type": "execute_result"
    }
   ],
   "source": [
    "temp"
   ],
   "metadata": {
    "collapsed": false,
    "pycharm": {
     "name": "#%%\n"
    }
   }
  },
  {
   "cell_type": "code",
   "execution_count": 205,
   "outputs": [
    {
     "name": "stdout",
     "output_type": "stream",
     "text": [
      "\n",
      "1 Failed download:\n",
      "- QNIU: No data found, symbol may be delisted\n",
      "\n",
      "1 Failed download:\n",
      "- LDOC: No data found for this date range, symbol may be delisted\n",
      "\n",
      "1 Failed download:\n",
      "- HLG: No data found, symbol may be delisted\n",
      "\n",
      "1 Failed download:\n",
      "- FEDU: No data found for this date range, symbol may be delisted\n",
      "\n",
      "1 Failed download:\n",
      "- FHS: No data found for this date range, symbol may be delisted\n",
      "\n",
      "1 Failed download:\n",
      "- LDOC: No data found for this date range, symbol may be delisted\n",
      "\n",
      "1 Failed download:\n",
      "- QNIU: No data found, symbol may be delisted\n"
     ]
    }
   ],
   "source": [
    "test_name_dict=dict()\n",
    "for each_stock in list(stock_list['Ticker']):\n",
    "    temp = yf.download(each_stock,period=\"1d\",interval=\"1d\",progress=False)\n",
    "    test_name_dict[each_stock] = temp.iloc[0,3] if len(temp)>0 else -1\n"
   ],
   "metadata": {
    "collapsed": false,
    "pycharm": {
     "name": "#%%\n"
    }
   }
  },
  {
   "cell_type": "code",
   "execution_count": 211,
   "outputs": [
    {
     "data": {
      "text/plain": "['QNIU', 'LDOC', 'HLG', 'FEDU', 'FHS']"
     },
     "execution_count": 211,
     "metadata": {},
     "output_type": "execute_result"
    }
   ],
   "source": [
    "\n",
    "[k for k,v in test_name_dict.items() if v == -1]\n"
   ],
   "metadata": {
    "collapsed": false,
    "pycharm": {
     "name": "#%%\n"
    }
   }
  },
  {
   "cell_type": "code",
   "execution_count": 204,
   "outputs": [
    {
     "data": {
      "text/plain": "217"
     },
     "execution_count": 204,
     "metadata": {},
     "output_type": "execute_result"
    }
   ],
   "source": [
    "len(list(stock_list['Ticker']))"
   ],
   "metadata": {
    "collapsed": false,
    "pycharm": {
     "name": "#%%\n"
    }
   }
  },
  {
   "cell_type": "code",
   "execution_count": null,
   "outputs": [],
   "source": [
    "'''\n",
    "QNIU\n",
    "LDOC\n",
    "ATHM\n",
    "HLG\n",
    "LDOC\n",
    "QNIU\n",
    "'''"
   ],
   "metadata": {
    "collapsed": false,
    "pycharm": {
     "name": "#%%\n"
    }
   }
  }
 ],
 "metadata": {
  "kernelspec": {
   "display_name": "Python 3 (ipykernel)",
   "language": "python",
   "name": "python3"
  },
  "language_info": {
   "codemirror_mode": {
    "name": "ipython",
    "version": 3
   },
   "file_extension": ".py",
   "mimetype": "text/x-python",
   "name": "python",
   "nbconvert_exporter": "python",
   "pygments_lexer": "ipython3",
   "version": "3.9.13"
  }
 },
 "nbformat": 4,
 "nbformat_minor": 1
}