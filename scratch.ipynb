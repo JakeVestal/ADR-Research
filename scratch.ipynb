{
 "cells": [
  {
   "cell_type": "code",
   "execution_count": 7,
   "metadata": {
    "pycharm": {
     "name": "#%%\n"
    }
   },
   "outputs": [],
   "source": [
    "import datetime\n",
    "\n",
    "import pandas as pd\n",
    "import yfinance as yf\n"
   ]
  },
  {
   "cell_type": "code",
   "execution_count": 8,
   "metadata": {
    "pycharm": {
     "name": "#%%\n"
    }
   },
   "outputs": [],
   "source": [
    "stock_list = pd.read_excel('US Chinese Stocks.xlsx')\n"
   ]
  },
  {
   "cell_type": "code",
   "execution_count": 9,
   "metadata": {
    "pycharm": {
     "name": "#%%\n"
    }
   },
   "outputs": [],
   "source": [
    "stock_list = stock_list[stock_list.ISIN.notna()]"
   ]
  },
  {
   "cell_type": "code",
   "execution_count": 10,
   "metadata": {
    "pycharm": {
     "name": "#%%\n"
    }
   },
   "outputs": [],
   "source": [
    "stock_list['Ticker'] = stock_list['RIC'].str.split('.').str[0]"
   ]
  },
  {
   "cell_type": "code",
   "execution_count": 11,
   "outputs": [],
   "source": [
    "stock_list=stock_list[stock_list['Type of Equity']=='American Depository Receipt']"
   ],
   "metadata": {
    "collapsed": false,
    "pycharm": {
     "name": "#%%\n"
    }
   }
  },
  {
   "cell_type": "code",
   "execution_count": 12,
   "outputs": [
    {
     "data": {
      "text/plain": "                           Issuer       RIC          ISIN CUSIP/CINS  \\\n175                     Qiniu Ltd   QNIU.NB  US74690C1036  74690C103   \n179        LinkDoc Technology Ltd   LDOC.NB  US53579L1035  53579L103   \n214                  Autohome Inc  ATHM.AOI  US05278C1071  05278C107   \n215  Hailiang Education Group Inc   HLG.AOI  US40522L1089  40522L108   \n358        LinkDoc Technology Ltd  LDOC.AOI  US53579L1035  53579L103   \n377                     Qiniu Ltd  QNIU.AOI  US74690C1036  74690C103   \n\n                  Type of Equity                   Exchange Ex-Dividend Date  \\\n175  American Depository Receipt  NASDAQ OMX - NASDAQ BASIC              NaT   \n179  American Depository Receipt  NASDAQ OMX - NASDAQ BASIC              NaT   \n214  American Depository Receipt        NYSE AMEX IMBALANCE              NaT   \n215  American Depository Receipt        NYSE AMEX IMBALANCE              NaT   \n358  American Depository Receipt        NYSE AMEX IMBALANCE              NaT   \n377  American Depository Receipt        NYSE AMEX IMBALANCE              NaT   \n\n    Country of Issuer Country of Exchange Market Cap (USD) Ticker  \n175  China (Mainland)       United States               --   QNIU  \n179  China (Mainland)       United States               --   LDOC  \n214  China (Mainland)       United States               --   ATHM  \n215  China (Mainland)       United States               --    HLG  \n358  China (Mainland)       United States               --   LDOC  \n377  China (Mainland)       United States               --   QNIU  ",
      "text/html": "<div>\n<style scoped>\n    .dataframe tbody tr th:only-of-type {\n        vertical-align: middle;\n    }\n\n    .dataframe tbody tr th {\n        vertical-align: top;\n    }\n\n    .dataframe thead th {\n        text-align: right;\n    }\n</style>\n<table border=\"1\" class=\"dataframe\">\n  <thead>\n    <tr style=\"text-align: right;\">\n      <th></th>\n      <th>Issuer</th>\n      <th>RIC</th>\n      <th>ISIN</th>\n      <th>CUSIP/CINS</th>\n      <th>Type of Equity</th>\n      <th>Exchange</th>\n      <th>Ex-Dividend Date</th>\n      <th>Country of Issuer</th>\n      <th>Country of Exchange</th>\n      <th>Market Cap (USD)</th>\n      <th>Ticker</th>\n    </tr>\n  </thead>\n  <tbody>\n    <tr>\n      <th>175</th>\n      <td>Qiniu Ltd</td>\n      <td>QNIU.NB</td>\n      <td>US74690C1036</td>\n      <td>74690C103</td>\n      <td>American Depository Receipt</td>\n      <td>NASDAQ OMX - NASDAQ BASIC</td>\n      <td>NaT</td>\n      <td>China (Mainland)</td>\n      <td>United States</td>\n      <td>--</td>\n      <td>QNIU</td>\n    </tr>\n    <tr>\n      <th>179</th>\n      <td>LinkDoc Technology Ltd</td>\n      <td>LDOC.NB</td>\n      <td>US53579L1035</td>\n      <td>53579L103</td>\n      <td>American Depository Receipt</td>\n      <td>NASDAQ OMX - NASDAQ BASIC</td>\n      <td>NaT</td>\n      <td>China (Mainland)</td>\n      <td>United States</td>\n      <td>--</td>\n      <td>LDOC</td>\n    </tr>\n    <tr>\n      <th>214</th>\n      <td>Autohome Inc</td>\n      <td>ATHM.AOI</td>\n      <td>US05278C1071</td>\n      <td>05278C107</td>\n      <td>American Depository Receipt</td>\n      <td>NYSE AMEX IMBALANCE</td>\n      <td>NaT</td>\n      <td>China (Mainland)</td>\n      <td>United States</td>\n      <td>--</td>\n      <td>ATHM</td>\n    </tr>\n    <tr>\n      <th>215</th>\n      <td>Hailiang Education Group Inc</td>\n      <td>HLG.AOI</td>\n      <td>US40522L1089</td>\n      <td>40522L108</td>\n      <td>American Depository Receipt</td>\n      <td>NYSE AMEX IMBALANCE</td>\n      <td>NaT</td>\n      <td>China (Mainland)</td>\n      <td>United States</td>\n      <td>--</td>\n      <td>HLG</td>\n    </tr>\n    <tr>\n      <th>358</th>\n      <td>LinkDoc Technology Ltd</td>\n      <td>LDOC.AOI</td>\n      <td>US53579L1035</td>\n      <td>53579L103</td>\n      <td>American Depository Receipt</td>\n      <td>NYSE AMEX IMBALANCE</td>\n      <td>NaT</td>\n      <td>China (Mainland)</td>\n      <td>United States</td>\n      <td>--</td>\n      <td>LDOC</td>\n    </tr>\n    <tr>\n      <th>377</th>\n      <td>Qiniu Ltd</td>\n      <td>QNIU.AOI</td>\n      <td>US74690C1036</td>\n      <td>74690C103</td>\n      <td>American Depository Receipt</td>\n      <td>NYSE AMEX IMBALANCE</td>\n      <td>NaT</td>\n      <td>China (Mainland)</td>\n      <td>United States</td>\n      <td>--</td>\n      <td>QNIU</td>\n    </tr>\n  </tbody>\n</table>\n</div>"
     },
     "execution_count": 12,
     "metadata": {},
     "output_type": "execute_result"
    }
   ],
   "source": [
    "stock_list[stock_list['Market Cap (USD)']=='--']"
   ],
   "metadata": {
    "collapsed": false,
    "pycharm": {
     "name": "#%%\n"
    }
   }
  },
  {
   "cell_type": "code",
   "execution_count": 13,
   "metadata": {
    "pycharm": {
     "name": "#%%\n"
    }
   },
   "outputs": [],
   "source": [
    "short_list = stock_list.head(10)"
   ]
  },
  {
   "cell_type": "code",
   "execution_count": 14,
   "metadata": {
    "pycharm": {
     "name": "#%%\n"
    }
   },
   "outputs": [
    {
     "data": {
      "text/plain": "               Issuer      RIC          ISIN CUSIP/CINS  \\\n0           Baidu Inc  BIDU.NB  US0567521085  056752108   \n1          JD.Com Inc    JD.NB  US47215P1066  47215P106   \n2         Li Auto Inc    LI.NB  US50202M1027  50202M102   \n3       Pinduoduo Inc   PDD.NB  US7223041028  722304102   \n4         NetEase Inc  NTES.NB  US64110W1027  64110W102   \n5  Trip.com Group Ltd  TCOM.NB  US89677Q1076  89677Q107   \n6           iQIYI Inc    IQ.NB  US46267X1081  46267X108   \n7   Futu Holdings Ltd  FUTU.NB  US36118L1061  36118L106   \n8        Bilibili Inc  BILI.NB  US0900401060  090040106   \n9          Weibo Corp    WB.NB  US9485961018  948596101   \n\n                Type of Equity                   Exchange Ex-Dividend Date  \\\n0  American Depository Receipt  NASDAQ OMX - NASDAQ BASIC              NaT   \n1  American Depository Receipt  NASDAQ OMX - NASDAQ BASIC       2022-05-19   \n2  American Depository Receipt  NASDAQ OMX - NASDAQ BASIC              NaT   \n3  American Depository Receipt  NASDAQ OMX - NASDAQ BASIC              NaT   \n4  American Depository Receipt  NASDAQ OMX - NASDAQ BASIC       2022-08-31   \n5  American Depository Receipt  NASDAQ OMX - NASDAQ BASIC              NaT   \n6  American Depository Receipt  NASDAQ OMX - NASDAQ BASIC              NaT   \n7  American Depository Receipt  NASDAQ OMX - NASDAQ BASIC              NaT   \n8  American Depository Receipt  NASDAQ OMX - NASDAQ BASIC              NaT   \n9  American Depository Receipt  NASDAQ OMX - NASDAQ BASIC              NaT   \n\n  Country of Issuer Country of Exchange Market Cap (USD) Ticker  \n0  China (Mainland)       United States      41282919788   BIDU  \n1  China (Mainland)       United States      84524079154     JD  \n2  China (Mainland)       United States      26345041598     LI  \n3  China (Mainland)       United States      76697634681    PDD  \n4  China (Mainland)       United States      51151440233   NTES  \n5  China (Mainland)       United States      17687947528   TCOM  \n6  China (Mainland)       United States       2303486890     IQ  \n7  China (Mainland)       United States       5600397105   FUTU  \n8  China (Mainland)       United States       6284827804   BILI  \n9  China (Mainland)       United States       4224675099     WB  ",
      "text/html": "<div>\n<style scoped>\n    .dataframe tbody tr th:only-of-type {\n        vertical-align: middle;\n    }\n\n    .dataframe tbody tr th {\n        vertical-align: top;\n    }\n\n    .dataframe thead th {\n        text-align: right;\n    }\n</style>\n<table border=\"1\" class=\"dataframe\">\n  <thead>\n    <tr style=\"text-align: right;\">\n      <th></th>\n      <th>Issuer</th>\n      <th>RIC</th>\n      <th>ISIN</th>\n      <th>CUSIP/CINS</th>\n      <th>Type of Equity</th>\n      <th>Exchange</th>\n      <th>Ex-Dividend Date</th>\n      <th>Country of Issuer</th>\n      <th>Country of Exchange</th>\n      <th>Market Cap (USD)</th>\n      <th>Ticker</th>\n    </tr>\n  </thead>\n  <tbody>\n    <tr>\n      <th>0</th>\n      <td>Baidu Inc</td>\n      <td>BIDU.NB</td>\n      <td>US0567521085</td>\n      <td>056752108</td>\n      <td>American Depository Receipt</td>\n      <td>NASDAQ OMX - NASDAQ BASIC</td>\n      <td>NaT</td>\n      <td>China (Mainland)</td>\n      <td>United States</td>\n      <td>41282919788</td>\n      <td>BIDU</td>\n    </tr>\n    <tr>\n      <th>1</th>\n      <td>JD.Com Inc</td>\n      <td>JD.NB</td>\n      <td>US47215P1066</td>\n      <td>47215P106</td>\n      <td>American Depository Receipt</td>\n      <td>NASDAQ OMX - NASDAQ BASIC</td>\n      <td>2022-05-19</td>\n      <td>China (Mainland)</td>\n      <td>United States</td>\n      <td>84524079154</td>\n      <td>JD</td>\n    </tr>\n    <tr>\n      <th>2</th>\n      <td>Li Auto Inc</td>\n      <td>LI.NB</td>\n      <td>US50202M1027</td>\n      <td>50202M102</td>\n      <td>American Depository Receipt</td>\n      <td>NASDAQ OMX - NASDAQ BASIC</td>\n      <td>NaT</td>\n      <td>China (Mainland)</td>\n      <td>United States</td>\n      <td>26345041598</td>\n      <td>LI</td>\n    </tr>\n    <tr>\n      <th>3</th>\n      <td>Pinduoduo Inc</td>\n      <td>PDD.NB</td>\n      <td>US7223041028</td>\n      <td>722304102</td>\n      <td>American Depository Receipt</td>\n      <td>NASDAQ OMX - NASDAQ BASIC</td>\n      <td>NaT</td>\n      <td>China (Mainland)</td>\n      <td>United States</td>\n      <td>76697634681</td>\n      <td>PDD</td>\n    </tr>\n    <tr>\n      <th>4</th>\n      <td>NetEase Inc</td>\n      <td>NTES.NB</td>\n      <td>US64110W1027</td>\n      <td>64110W102</td>\n      <td>American Depository Receipt</td>\n      <td>NASDAQ OMX - NASDAQ BASIC</td>\n      <td>2022-08-31</td>\n      <td>China (Mainland)</td>\n      <td>United States</td>\n      <td>51151440233</td>\n      <td>NTES</td>\n    </tr>\n    <tr>\n      <th>5</th>\n      <td>Trip.com Group Ltd</td>\n      <td>TCOM.NB</td>\n      <td>US89677Q1076</td>\n      <td>89677Q107</td>\n      <td>American Depository Receipt</td>\n      <td>NASDAQ OMX - NASDAQ BASIC</td>\n      <td>NaT</td>\n      <td>China (Mainland)</td>\n      <td>United States</td>\n      <td>17687947528</td>\n      <td>TCOM</td>\n    </tr>\n    <tr>\n      <th>6</th>\n      <td>iQIYI Inc</td>\n      <td>IQ.NB</td>\n      <td>US46267X1081</td>\n      <td>46267X108</td>\n      <td>American Depository Receipt</td>\n      <td>NASDAQ OMX - NASDAQ BASIC</td>\n      <td>NaT</td>\n      <td>China (Mainland)</td>\n      <td>United States</td>\n      <td>2303486890</td>\n      <td>IQ</td>\n    </tr>\n    <tr>\n      <th>7</th>\n      <td>Futu Holdings Ltd</td>\n      <td>FUTU.NB</td>\n      <td>US36118L1061</td>\n      <td>36118L106</td>\n      <td>American Depository Receipt</td>\n      <td>NASDAQ OMX - NASDAQ BASIC</td>\n      <td>NaT</td>\n      <td>China (Mainland)</td>\n      <td>United States</td>\n      <td>5600397105</td>\n      <td>FUTU</td>\n    </tr>\n    <tr>\n      <th>8</th>\n      <td>Bilibili Inc</td>\n      <td>BILI.NB</td>\n      <td>US0900401060</td>\n      <td>090040106</td>\n      <td>American Depository Receipt</td>\n      <td>NASDAQ OMX - NASDAQ BASIC</td>\n      <td>NaT</td>\n      <td>China (Mainland)</td>\n      <td>United States</td>\n      <td>6284827804</td>\n      <td>BILI</td>\n    </tr>\n    <tr>\n      <th>9</th>\n      <td>Weibo Corp</td>\n      <td>WB.NB</td>\n      <td>US9485961018</td>\n      <td>948596101</td>\n      <td>American Depository Receipt</td>\n      <td>NASDAQ OMX - NASDAQ BASIC</td>\n      <td>NaT</td>\n      <td>China (Mainland)</td>\n      <td>United States</td>\n      <td>4224675099</td>\n      <td>WB</td>\n    </tr>\n  </tbody>\n</table>\n</div>"
     },
     "execution_count": 14,
     "metadata": {},
     "output_type": "execute_result"
    }
   ],
   "source": [
    "short_list"
   ]
  },
  {
   "cell_type": "code",
   "execution_count": 15,
   "metadata": {
    "pycharm": {
     "name": "#%%\n"
    }
   },
   "outputs": [
    {
     "name": "stdout",
     "output_type": "stream",
     "text": [
      "[*********************100%***********************]  10 of 10 completed\n"
     ]
    },
    {
     "data": {
      "text/plain": "                                Close                                         \\\n                                 BIDU       BILI       FUTU    IQ         JD   \nDate                                                                           \n2022-11-03 00:00:00-04:00   78.150002   9.530000  37.590000  2.19  40.439999   \n2022-11-04 00:00:00-04:00   85.199997  11.710000  38.910000  2.44  44.380001   \n2022-11-07 00:00:00-05:00   85.019997  11.820000  40.220001  2.37  44.509998   \n2022-11-08 00:00:00-05:00   85.190002  11.560000  40.000000  2.27  45.490002   \n2022-11-09 00:00:00-05:00   79.480003  10.170000  38.610001  2.02  42.459999   \n2022-11-10 00:00:00-05:00   86.110001  11.710000  42.110001  2.31  46.029999   \n2022-11-11 00:00:00-05:00   89.459999  12.670000  45.610001  2.75  48.930000   \n2022-11-14 00:00:00-05:00   91.449997  12.880000  49.009998  2.66  50.849998   \n2022-11-15 00:00:00-05:00   99.699997  16.280001  53.860001  3.10  54.480000   \n2022-11-16 00:00:00-05:00   94.750000  15.460000  50.349998  2.85  53.490002   \n2022-11-17 00:00:00-05:00   99.580002  15.790000  52.259998  2.96  57.520000   \n2022-11-18 00:00:00-05:00   95.970001  14.720000  50.619999  2.78  56.070000   \n2022-11-21 00:00:00-05:00   94.559998  13.520000  50.400002  2.84  52.500000   \n2022-11-22 00:00:00-05:00   95.080002  13.150000  54.389999  2.43  51.560001   \n2022-11-23 00:00:00-05:00   97.000000  13.280000  56.380001  2.48  52.259998   \n2022-11-25 00:00:00-05:00   93.360001  12.330000  52.709999  2.44  49.480000   \n2022-11-28 00:00:00-05:00   94.639999  12.590000  53.490002  2.66  49.910000   \n2022-11-29 00:00:00-05:00   99.639999  15.400000  58.500000  2.70  53.250000   \n2022-11-30 00:00:00-05:00  108.599998  17.360001  61.490002  2.97  57.180000   \n2022-12-01 00:00:00-05:00  108.669998  17.020000  60.950001  2.91  55.849998   \n2022-12-02 00:00:00-05:00  113.800003  19.840000  66.300003  3.34  58.639999   \n\n                                                                              \\\n                                  LI       NTES        PDD       TCOM     WB   \nDate                                                                           \n2022-11-03 00:00:00-04:00  16.750000  58.788212  56.970001  26.520000  12.68   \n2022-11-04 00:00:00-04:00  18.309999  62.137600  61.889999  28.000000  13.16   \n2022-11-07 00:00:00-05:00  18.160000  62.246929  61.720001  26.990000  13.17   \n2022-11-08 00:00:00-05:00  18.469999  61.749985  62.919998  27.170000  13.12   \n2022-11-09 00:00:00-05:00  16.180000  58.857784  59.160000  25.000000  12.25   \n2022-11-10 00:00:00-05:00  17.410000  61.889130  64.050003  27.500000  13.01   \n2022-11-11 00:00:00-05:00  18.969999  64.363899  65.180000  28.840000  14.01   \n2022-11-14 00:00:00-05:00  17.959999  64.840958  65.389999  27.719999  13.76   \n2022-11-15 00:00:00-05:00  18.940001  71.162064  70.970001  29.280001  15.35   \n2022-11-16 00:00:00-05:00  17.770000  70.893715  67.559998  28.760000  14.81   \n2022-11-17 00:00:00-05:00  18.360001  70.565735  70.550003  29.170000  15.90   \n2022-11-18 00:00:00-05:00  17.879999  67.027512  70.150002  28.350000  14.40   \n2022-11-21 00:00:00-05:00  17.570000  65.874603  67.620003  27.500000  13.82   \n2022-11-22 00:00:00-05:00  16.730000  65.099373  66.760002  26.770000  13.70   \n2022-11-23 00:00:00-05:00  17.330000  66.222458  66.709999  27.110001  13.82   \n2022-11-25 00:00:00-05:00  16.809999  65.228577  65.750000  25.950001  13.18   \n2022-11-28 00:00:00-05:00  17.040001  66.550438  74.050003  28.110001  13.39   \n2022-11-29 00:00:00-05:00  18.530001  68.359306  78.430000  29.200001  14.74   \n2022-11-30 00:00:00-05:00  22.000000  70.684998  82.040001  31.950001  15.94   \n2022-12-01 00:00:00-05:00  21.299999  68.250000  83.739998  31.870001  15.15   \n2022-12-02 00:00:00-05:00  22.780001  70.900002  86.339996  32.259998  16.42   \n\n                           ...   Volume                               \\\n                           ...     BIDU      BILI     FUTU        IQ   \nDate                       ...                                         \n2022-11-03 00:00:00-04:00  ...  2924400   8010700  2124400  15211200   \n2022-11-04 00:00:00-04:00  ...  4838400  21961700  3646700  24208800   \n2022-11-07 00:00:00-05:00  ...  3041000  16347400  1407900  10052700   \n2022-11-08 00:00:00-05:00  ...  2022400   9035700  1097900  11352300   \n2022-11-09 00:00:00-05:00  ...  3183400   9154000  1162000  10982400   \n2022-11-10 00:00:00-05:00  ...  3620800   9643800  1854500  15268300   \n2022-11-11 00:00:00-05:00  ...  3585500  10521800  2741200  22910400   \n2022-11-14 00:00:00-05:00  ...  2812900   7220900  3170800   9991700   \n2022-11-15 00:00:00-05:00  ...  6126500  24960300  5371000  22637100   \n2022-11-16 00:00:00-05:00  ...  2967300  13639200  3029700  15289600   \n2022-11-17 00:00:00-05:00  ...  3618400  13785700  2809200  10285500   \n2022-11-18 00:00:00-05:00  ...  2951000  10388200  1578500  13557700   \n2022-11-21 00:00:00-05:00  ...  2669900   7820100  5200700  16427800   \n2022-11-22 00:00:00-05:00  ...  4005000   6163100  4094400  28236000   \n2022-11-23 00:00:00-05:00  ...  3442500   4974400  2332600  11479800   \n2022-11-25 00:00:00-05:00  ...  1991500   6214800  1413400   7465400   \n2022-11-28 00:00:00-05:00  ...  2297600   9889000  1833100  15731800   \n2022-11-29 00:00:00-05:00  ...  4238900  34611900  3891300  17996900   \n2022-11-30 00:00:00-05:00  ...  7065600  25309000  4897600  35756600   \n2022-12-01 00:00:00-05:00  ...  2828800   7135500  2012900   8763500   \n2022-12-02 00:00:00-05:00  ...  3864700  28626100  5127900  23494400   \n\n                                                                            \\\n                                 JD        LI     NTES       PDD      TCOM   \nDate                                                                         \n2022-11-03 00:00:00-04:00  11091800  18659300  1504300  12876400   6253400   \n2022-11-04 00:00:00-04:00  20365400  21830500  3519700  22531500  13294700   \n2022-11-07 00:00:00-05:00  10360500  13579600  1593300  16456400   8800800   \n2022-11-08 00:00:00-05:00   9351300   9945300  1349800  10251200   2230900   \n2022-11-09 00:00:00-05:00   9533900  15431800  1678400   9125700   4215700   \n2022-11-10 00:00:00-05:00  11966000  14257600  1915900  12182100   5946900   \n2022-11-11 00:00:00-05:00  12944500  14209200  1553000  12788600   9032900   \n2022-11-14 00:00:00-05:00  12662500  10693000  1331200  13099500   4452800   \n2022-11-15 00:00:00-05:00  13060500  12150100  3121100  15846800  11159000   \n2022-11-16 00:00:00-05:00   6782500   8232800  3585300   8174300   7172200   \n2022-11-17 00:00:00-05:00  15141200  10994700  4510300  13932100   8111300   \n2022-11-18 00:00:00-05:00  16758100   5713000  2535400   8056400   4914400   \n2022-11-21 00:00:00-05:00  11007000   5878400  1491200   7779400   9362200   \n2022-11-22 00:00:00-05:00   6675400   9794200  1161400   7696500   4235800   \n2022-11-23 00:00:00-05:00   6054300   7367600  1202700   7979200   4101300   \n2022-11-25 00:00:00-05:00   5908900   3977400   994800   6115900   4101900   \n2022-11-28 00:00:00-05:00   7626900   8591800  1591700  25363600   9349000   \n2022-11-29 00:00:00-05:00  13450200  11240700  2446700  21335400   6248300   \n2022-11-30 00:00:00-05:00  15765800  46308600  3377200  30608600  12561100   \n2022-12-01 00:00:00-05:00   7147700  15648200  1774500  16655100   5592200   \n2022-12-02 00:00:00-05:00  10429700  21057300  2102400  15628100   8542700   \n\n                                    \n                                WB  \nDate                                \n2022-11-03 00:00:00-04:00   613200  \n2022-11-04 00:00:00-04:00  1526300  \n2022-11-07 00:00:00-05:00   884500  \n2022-11-08 00:00:00-05:00   547200  \n2022-11-09 00:00:00-05:00   833100  \n2022-11-10 00:00:00-05:00   946000  \n2022-11-11 00:00:00-05:00   905600  \n2022-11-14 00:00:00-05:00   823700  \n2022-11-15 00:00:00-05:00  1462500  \n2022-11-16 00:00:00-05:00  1060600  \n2022-11-17 00:00:00-05:00  1866100  \n2022-11-18 00:00:00-05:00   934400  \n2022-11-21 00:00:00-05:00   658000  \n2022-11-22 00:00:00-05:00   704700  \n2022-11-23 00:00:00-05:00   514600  \n2022-11-25 00:00:00-05:00   404300  \n2022-11-28 00:00:00-05:00  2867600  \n2022-11-29 00:00:00-05:00   961000  \n2022-11-30 00:00:00-05:00  3718900  \n2022-12-01 00:00:00-05:00   916000  \n2022-12-02 00:00:00-05:00  1813000  \n\n[21 rows x 70 columns]",
      "text/html": "<div>\n<style scoped>\n    .dataframe tbody tr th:only-of-type {\n        vertical-align: middle;\n    }\n\n    .dataframe tbody tr th {\n        vertical-align: top;\n    }\n\n    .dataframe thead tr th {\n        text-align: left;\n    }\n\n    .dataframe thead tr:last-of-type th {\n        text-align: right;\n    }\n</style>\n<table border=\"1\" class=\"dataframe\">\n  <thead>\n    <tr>\n      <th></th>\n      <th colspan=\"10\" halign=\"left\">Close</th>\n      <th>...</th>\n      <th colspan=\"10\" halign=\"left\">Volume</th>\n    </tr>\n    <tr>\n      <th></th>\n      <th>BIDU</th>\n      <th>BILI</th>\n      <th>FUTU</th>\n      <th>IQ</th>\n      <th>JD</th>\n      <th>LI</th>\n      <th>NTES</th>\n      <th>PDD</th>\n      <th>TCOM</th>\n      <th>WB</th>\n      <th>...</th>\n      <th>BIDU</th>\n      <th>BILI</th>\n      <th>FUTU</th>\n      <th>IQ</th>\n      <th>JD</th>\n      <th>LI</th>\n      <th>NTES</th>\n      <th>PDD</th>\n      <th>TCOM</th>\n      <th>WB</th>\n    </tr>\n    <tr>\n      <th>Date</th>\n      <th></th>\n      <th></th>\n      <th></th>\n      <th></th>\n      <th></th>\n      <th></th>\n      <th></th>\n      <th></th>\n      <th></th>\n      <th></th>\n      <th></th>\n      <th></th>\n      <th></th>\n      <th></th>\n      <th></th>\n      <th></th>\n      <th></th>\n      <th></th>\n      <th></th>\n      <th></th>\n      <th></th>\n    </tr>\n  </thead>\n  <tbody>\n    <tr>\n      <th>2022-11-03 00:00:00-04:00</th>\n      <td>78.150002</td>\n      <td>9.530000</td>\n      <td>37.590000</td>\n      <td>2.19</td>\n      <td>40.439999</td>\n      <td>16.750000</td>\n      <td>58.788212</td>\n      <td>56.970001</td>\n      <td>26.520000</td>\n      <td>12.68</td>\n      <td>...</td>\n      <td>2924400</td>\n      <td>8010700</td>\n      <td>2124400</td>\n      <td>15211200</td>\n      <td>11091800</td>\n      <td>18659300</td>\n      <td>1504300</td>\n      <td>12876400</td>\n      <td>6253400</td>\n      <td>613200</td>\n    </tr>\n    <tr>\n      <th>2022-11-04 00:00:00-04:00</th>\n      <td>85.199997</td>\n      <td>11.710000</td>\n      <td>38.910000</td>\n      <td>2.44</td>\n      <td>44.380001</td>\n      <td>18.309999</td>\n      <td>62.137600</td>\n      <td>61.889999</td>\n      <td>28.000000</td>\n      <td>13.16</td>\n      <td>...</td>\n      <td>4838400</td>\n      <td>21961700</td>\n      <td>3646700</td>\n      <td>24208800</td>\n      <td>20365400</td>\n      <td>21830500</td>\n      <td>3519700</td>\n      <td>22531500</td>\n      <td>13294700</td>\n      <td>1526300</td>\n    </tr>\n    <tr>\n      <th>2022-11-07 00:00:00-05:00</th>\n      <td>85.019997</td>\n      <td>11.820000</td>\n      <td>40.220001</td>\n      <td>2.37</td>\n      <td>44.509998</td>\n      <td>18.160000</td>\n      <td>62.246929</td>\n      <td>61.720001</td>\n      <td>26.990000</td>\n      <td>13.17</td>\n      <td>...</td>\n      <td>3041000</td>\n      <td>16347400</td>\n      <td>1407900</td>\n      <td>10052700</td>\n      <td>10360500</td>\n      <td>13579600</td>\n      <td>1593300</td>\n      <td>16456400</td>\n      <td>8800800</td>\n      <td>884500</td>\n    </tr>\n    <tr>\n      <th>2022-11-08 00:00:00-05:00</th>\n      <td>85.190002</td>\n      <td>11.560000</td>\n      <td>40.000000</td>\n      <td>2.27</td>\n      <td>45.490002</td>\n      <td>18.469999</td>\n      <td>61.749985</td>\n      <td>62.919998</td>\n      <td>27.170000</td>\n      <td>13.12</td>\n      <td>...</td>\n      <td>2022400</td>\n      <td>9035700</td>\n      <td>1097900</td>\n      <td>11352300</td>\n      <td>9351300</td>\n      <td>9945300</td>\n      <td>1349800</td>\n      <td>10251200</td>\n      <td>2230900</td>\n      <td>547200</td>\n    </tr>\n    <tr>\n      <th>2022-11-09 00:00:00-05:00</th>\n      <td>79.480003</td>\n      <td>10.170000</td>\n      <td>38.610001</td>\n      <td>2.02</td>\n      <td>42.459999</td>\n      <td>16.180000</td>\n      <td>58.857784</td>\n      <td>59.160000</td>\n      <td>25.000000</td>\n      <td>12.25</td>\n      <td>...</td>\n      <td>3183400</td>\n      <td>9154000</td>\n      <td>1162000</td>\n      <td>10982400</td>\n      <td>9533900</td>\n      <td>15431800</td>\n      <td>1678400</td>\n      <td>9125700</td>\n      <td>4215700</td>\n      <td>833100</td>\n    </tr>\n    <tr>\n      <th>2022-11-10 00:00:00-05:00</th>\n      <td>86.110001</td>\n      <td>11.710000</td>\n      <td>42.110001</td>\n      <td>2.31</td>\n      <td>46.029999</td>\n      <td>17.410000</td>\n      <td>61.889130</td>\n      <td>64.050003</td>\n      <td>27.500000</td>\n      <td>13.01</td>\n      <td>...</td>\n      <td>3620800</td>\n      <td>9643800</td>\n      <td>1854500</td>\n      <td>15268300</td>\n      <td>11966000</td>\n      <td>14257600</td>\n      <td>1915900</td>\n      <td>12182100</td>\n      <td>5946900</td>\n      <td>946000</td>\n    </tr>\n    <tr>\n      <th>2022-11-11 00:00:00-05:00</th>\n      <td>89.459999</td>\n      <td>12.670000</td>\n      <td>45.610001</td>\n      <td>2.75</td>\n      <td>48.930000</td>\n      <td>18.969999</td>\n      <td>64.363899</td>\n      <td>65.180000</td>\n      <td>28.840000</td>\n      <td>14.01</td>\n      <td>...</td>\n      <td>3585500</td>\n      <td>10521800</td>\n      <td>2741200</td>\n      <td>22910400</td>\n      <td>12944500</td>\n      <td>14209200</td>\n      <td>1553000</td>\n      <td>12788600</td>\n      <td>9032900</td>\n      <td>905600</td>\n    </tr>\n    <tr>\n      <th>2022-11-14 00:00:00-05:00</th>\n      <td>91.449997</td>\n      <td>12.880000</td>\n      <td>49.009998</td>\n      <td>2.66</td>\n      <td>50.849998</td>\n      <td>17.959999</td>\n      <td>64.840958</td>\n      <td>65.389999</td>\n      <td>27.719999</td>\n      <td>13.76</td>\n      <td>...</td>\n      <td>2812900</td>\n      <td>7220900</td>\n      <td>3170800</td>\n      <td>9991700</td>\n      <td>12662500</td>\n      <td>10693000</td>\n      <td>1331200</td>\n      <td>13099500</td>\n      <td>4452800</td>\n      <td>823700</td>\n    </tr>\n    <tr>\n      <th>2022-11-15 00:00:00-05:00</th>\n      <td>99.699997</td>\n      <td>16.280001</td>\n      <td>53.860001</td>\n      <td>3.10</td>\n      <td>54.480000</td>\n      <td>18.940001</td>\n      <td>71.162064</td>\n      <td>70.970001</td>\n      <td>29.280001</td>\n      <td>15.35</td>\n      <td>...</td>\n      <td>6126500</td>\n      <td>24960300</td>\n      <td>5371000</td>\n      <td>22637100</td>\n      <td>13060500</td>\n      <td>12150100</td>\n      <td>3121100</td>\n      <td>15846800</td>\n      <td>11159000</td>\n      <td>1462500</td>\n    </tr>\n    <tr>\n      <th>2022-11-16 00:00:00-05:00</th>\n      <td>94.750000</td>\n      <td>15.460000</td>\n      <td>50.349998</td>\n      <td>2.85</td>\n      <td>53.490002</td>\n      <td>17.770000</td>\n      <td>70.893715</td>\n      <td>67.559998</td>\n      <td>28.760000</td>\n      <td>14.81</td>\n      <td>...</td>\n      <td>2967300</td>\n      <td>13639200</td>\n      <td>3029700</td>\n      <td>15289600</td>\n      <td>6782500</td>\n      <td>8232800</td>\n      <td>3585300</td>\n      <td>8174300</td>\n      <td>7172200</td>\n      <td>1060600</td>\n    </tr>\n    <tr>\n      <th>2022-11-17 00:00:00-05:00</th>\n      <td>99.580002</td>\n      <td>15.790000</td>\n      <td>52.259998</td>\n      <td>2.96</td>\n      <td>57.520000</td>\n      <td>18.360001</td>\n      <td>70.565735</td>\n      <td>70.550003</td>\n      <td>29.170000</td>\n      <td>15.90</td>\n      <td>...</td>\n      <td>3618400</td>\n      <td>13785700</td>\n      <td>2809200</td>\n      <td>10285500</td>\n      <td>15141200</td>\n      <td>10994700</td>\n      <td>4510300</td>\n      <td>13932100</td>\n      <td>8111300</td>\n      <td>1866100</td>\n    </tr>\n    <tr>\n      <th>2022-11-18 00:00:00-05:00</th>\n      <td>95.970001</td>\n      <td>14.720000</td>\n      <td>50.619999</td>\n      <td>2.78</td>\n      <td>56.070000</td>\n      <td>17.879999</td>\n      <td>67.027512</td>\n      <td>70.150002</td>\n      <td>28.350000</td>\n      <td>14.40</td>\n      <td>...</td>\n      <td>2951000</td>\n      <td>10388200</td>\n      <td>1578500</td>\n      <td>13557700</td>\n      <td>16758100</td>\n      <td>5713000</td>\n      <td>2535400</td>\n      <td>8056400</td>\n      <td>4914400</td>\n      <td>934400</td>\n    </tr>\n    <tr>\n      <th>2022-11-21 00:00:00-05:00</th>\n      <td>94.559998</td>\n      <td>13.520000</td>\n      <td>50.400002</td>\n      <td>2.84</td>\n      <td>52.500000</td>\n      <td>17.570000</td>\n      <td>65.874603</td>\n      <td>67.620003</td>\n      <td>27.500000</td>\n      <td>13.82</td>\n      <td>...</td>\n      <td>2669900</td>\n      <td>7820100</td>\n      <td>5200700</td>\n      <td>16427800</td>\n      <td>11007000</td>\n      <td>5878400</td>\n      <td>1491200</td>\n      <td>7779400</td>\n      <td>9362200</td>\n      <td>658000</td>\n    </tr>\n    <tr>\n      <th>2022-11-22 00:00:00-05:00</th>\n      <td>95.080002</td>\n      <td>13.150000</td>\n      <td>54.389999</td>\n      <td>2.43</td>\n      <td>51.560001</td>\n      <td>16.730000</td>\n      <td>65.099373</td>\n      <td>66.760002</td>\n      <td>26.770000</td>\n      <td>13.70</td>\n      <td>...</td>\n      <td>4005000</td>\n      <td>6163100</td>\n      <td>4094400</td>\n      <td>28236000</td>\n      <td>6675400</td>\n      <td>9794200</td>\n      <td>1161400</td>\n      <td>7696500</td>\n      <td>4235800</td>\n      <td>704700</td>\n    </tr>\n    <tr>\n      <th>2022-11-23 00:00:00-05:00</th>\n      <td>97.000000</td>\n      <td>13.280000</td>\n      <td>56.380001</td>\n      <td>2.48</td>\n      <td>52.259998</td>\n      <td>17.330000</td>\n      <td>66.222458</td>\n      <td>66.709999</td>\n      <td>27.110001</td>\n      <td>13.82</td>\n      <td>...</td>\n      <td>3442500</td>\n      <td>4974400</td>\n      <td>2332600</td>\n      <td>11479800</td>\n      <td>6054300</td>\n      <td>7367600</td>\n      <td>1202700</td>\n      <td>7979200</td>\n      <td>4101300</td>\n      <td>514600</td>\n    </tr>\n    <tr>\n      <th>2022-11-25 00:00:00-05:00</th>\n      <td>93.360001</td>\n      <td>12.330000</td>\n      <td>52.709999</td>\n      <td>2.44</td>\n      <td>49.480000</td>\n      <td>16.809999</td>\n      <td>65.228577</td>\n      <td>65.750000</td>\n      <td>25.950001</td>\n      <td>13.18</td>\n      <td>...</td>\n      <td>1991500</td>\n      <td>6214800</td>\n      <td>1413400</td>\n      <td>7465400</td>\n      <td>5908900</td>\n      <td>3977400</td>\n      <td>994800</td>\n      <td>6115900</td>\n      <td>4101900</td>\n      <td>404300</td>\n    </tr>\n    <tr>\n      <th>2022-11-28 00:00:00-05:00</th>\n      <td>94.639999</td>\n      <td>12.590000</td>\n      <td>53.490002</td>\n      <td>2.66</td>\n      <td>49.910000</td>\n      <td>17.040001</td>\n      <td>66.550438</td>\n      <td>74.050003</td>\n      <td>28.110001</td>\n      <td>13.39</td>\n      <td>...</td>\n      <td>2297600</td>\n      <td>9889000</td>\n      <td>1833100</td>\n      <td>15731800</td>\n      <td>7626900</td>\n      <td>8591800</td>\n      <td>1591700</td>\n      <td>25363600</td>\n      <td>9349000</td>\n      <td>2867600</td>\n    </tr>\n    <tr>\n      <th>2022-11-29 00:00:00-05:00</th>\n      <td>99.639999</td>\n      <td>15.400000</td>\n      <td>58.500000</td>\n      <td>2.70</td>\n      <td>53.250000</td>\n      <td>18.530001</td>\n      <td>68.359306</td>\n      <td>78.430000</td>\n      <td>29.200001</td>\n      <td>14.74</td>\n      <td>...</td>\n      <td>4238900</td>\n      <td>34611900</td>\n      <td>3891300</td>\n      <td>17996900</td>\n      <td>13450200</td>\n      <td>11240700</td>\n      <td>2446700</td>\n      <td>21335400</td>\n      <td>6248300</td>\n      <td>961000</td>\n    </tr>\n    <tr>\n      <th>2022-11-30 00:00:00-05:00</th>\n      <td>108.599998</td>\n      <td>17.360001</td>\n      <td>61.490002</td>\n      <td>2.97</td>\n      <td>57.180000</td>\n      <td>22.000000</td>\n      <td>70.684998</td>\n      <td>82.040001</td>\n      <td>31.950001</td>\n      <td>15.94</td>\n      <td>...</td>\n      <td>7065600</td>\n      <td>25309000</td>\n      <td>4897600</td>\n      <td>35756600</td>\n      <td>15765800</td>\n      <td>46308600</td>\n      <td>3377200</td>\n      <td>30608600</td>\n      <td>12561100</td>\n      <td>3718900</td>\n    </tr>\n    <tr>\n      <th>2022-12-01 00:00:00-05:00</th>\n      <td>108.669998</td>\n      <td>17.020000</td>\n      <td>60.950001</td>\n      <td>2.91</td>\n      <td>55.849998</td>\n      <td>21.299999</td>\n      <td>68.250000</td>\n      <td>83.739998</td>\n      <td>31.870001</td>\n      <td>15.15</td>\n      <td>...</td>\n      <td>2828800</td>\n      <td>7135500</td>\n      <td>2012900</td>\n      <td>8763500</td>\n      <td>7147700</td>\n      <td>15648200</td>\n      <td>1774500</td>\n      <td>16655100</td>\n      <td>5592200</td>\n      <td>916000</td>\n    </tr>\n    <tr>\n      <th>2022-12-02 00:00:00-05:00</th>\n      <td>113.800003</td>\n      <td>19.840000</td>\n      <td>66.300003</td>\n      <td>3.34</td>\n      <td>58.639999</td>\n      <td>22.780001</td>\n      <td>70.900002</td>\n      <td>86.339996</td>\n      <td>32.259998</td>\n      <td>16.42</td>\n      <td>...</td>\n      <td>3864700</td>\n      <td>28626100</td>\n      <td>5127900</td>\n      <td>23494400</td>\n      <td>10429700</td>\n      <td>21057300</td>\n      <td>2102400</td>\n      <td>15628100</td>\n      <td>8542700</td>\n      <td>1813000</td>\n    </tr>\n  </tbody>\n</table>\n<p>21 rows × 70 columns</p>\n</div>"
     },
     "execution_count": 15,
     "metadata": {},
     "output_type": "execute_result"
    }
   ],
   "source": [
    "stocks = yf.Tickers(list(short_list.Ticker))\n",
    "stocks.history(period='1mo', interval='1d')"
   ]
  },
  {
   "cell_type": "code",
   "execution_count": 16,
   "metadata": {
    "pycharm": {
     "name": "#%%\n"
    }
   },
   "outputs": [
    {
     "name": "stdout",
     "output_type": "stream",
     "text": [
      "[*********************100%***********************]  10 of 10 completed\n"
     ]
    },
    {
     "data": {
      "text/plain": "                            Adj Close                                \\\n                                 BIDU       BILI       FUTU      IQ   \n2022-12-02 04:00:00-05:00  108.700000  17.290000  61.400000  2.9100   \n2022-12-02 05:00:00-05:00  108.950000  17.280000  61.260000  2.9800   \n2022-12-02 06:00:00-05:00  108.830000  17.220000  61.320000  3.0000   \n2022-12-02 07:00:00-05:00  109.320000  17.330000  61.600000  2.9500   \n2022-12-02 08:00:00-05:00  109.700000  17.280000  61.510000  2.9800   \n2022-12-02 09:00:00-05:00  108.000000  16.820000  60.600000  2.8700   \n2022-12-02 09:30:00-05:00  113.230598  19.375000  66.135002  3.2700   \n2022-12-02 10:30:00-05:00  114.000000  19.620001  67.516998  3.2450   \n2022-12-02 11:30:00-05:00  113.980003  19.719999  67.160004  3.2800   \n2022-12-02 12:30:00-05:00  113.940002  19.639999  67.180000  3.2700   \n2022-12-02 13:30:00-05:00  113.730003  19.725000  66.885002  3.3400   \n2022-12-02 14:30:00-05:00  113.959999  19.709999  66.769997  3.3699   \n2022-12-02 15:30:00-05:00  113.860001  19.830000  66.294998  3.3400   \n2022-12-02 16:00:00-05:00  113.450000  19.770000  66.340000  3.3400   \n2022-12-02 17:00:00-05:00  113.500000  19.820000  66.300000  3.3500   \n2022-12-02 18:00:00-05:00  113.360000  19.970000  66.290000  3.3400   \n2022-12-02 19:00:00-05:00  113.500000  19.900000  66.800000  3.3600   \n\n                                                                       \\\n                                  JD         LI       NTES        PDD   \n2022-12-02 04:00:00-05:00  56.060000  20.990000  68.660000  84.700000   \n2022-12-02 05:00:00-05:00  56.180000  20.970000        NaN  85.000000   \n2022-12-02 06:00:00-05:00  56.090000  21.050000  68.410000  84.940000   \n2022-12-02 07:00:00-05:00  56.260000  21.090000  68.650000  85.290000   \n2022-12-02 08:00:00-05:00  56.120000  21.110000  68.670000  85.000000   \n2022-12-02 09:00:00-05:00  55.300000  20.930000  67.980000  83.830000   \n2022-12-02 09:30:00-05:00  57.939999  22.889999  70.875000  86.510002   \n2022-12-02 10:30:00-05:00  58.959999  22.850000  71.239998  86.065002   \n2022-12-02 11:30:00-05:00  59.430000  22.875000  71.290001  87.430000   \n2022-12-02 12:30:00-05:00  58.930000  22.840000  70.599998  87.224998   \n2022-12-02 13:30:00-05:00  58.575001  22.844999  70.480003  87.110001   \n2022-12-02 14:30:00-05:00  59.049999  22.855000  71.089996  87.260002   \n2022-12-02 15:30:00-05:00  58.619999  22.770000  70.940002  86.339996   \n2022-12-02 16:00:00-05:00  58.510000  22.750000  70.900000  86.540000   \n2022-12-02 17:00:00-05:00  58.680000  22.730000  70.750000  86.590000   \n2022-12-02 18:00:00-05:00  58.790000  22.760000  70.770000  86.790000   \n2022-12-02 19:00:00-05:00  58.790000  22.850000  71.020000  86.710000   \n\n                                                 ...   Volume            \\\n                                TCOM         WB  ...     BIDU      BILI   \n2022-12-02 04:00:00-05:00  32.000000  15.140000  ...        0         0   \n2022-12-02 05:00:00-05:00  31.970000  15.590000  ...        0         0   \n2022-12-02 06:00:00-05:00  32.100000  15.480000  ...        0         0   \n2022-12-02 07:00:00-05:00  32.450000  15.350000  ...        0         0   \n2022-12-02 08:00:00-05:00  32.220000  15.350000  ...        0         0   \n2022-12-02 09:00:00-05:00  31.580000  15.190000  ...        0         0   \n2022-12-02 09:30:00-05:00  32.060001  16.430000  ...  1086519  11960775   \n2022-12-02 10:30:00-05:00  32.250000  16.325001  ...   471218   7628289   \n2022-12-02 11:30:00-05:00  32.325001  16.510000  ...   494328   2912996   \n2022-12-02 12:30:00-05:00  32.580002  16.580000  ...   229735   1765967   \n2022-12-02 13:30:00-05:00  32.415001  16.450001  ...   151799   1239239   \n2022-12-02 14:30:00-05:00  32.310001  16.535000  ...   415822   1242962   \n2022-12-02 15:30:00-05:00  32.250000  16.420000  ...   502638   1561786   \n2022-12-02 16:00:00-05:00  32.060000  16.420000  ...        0         0   \n2022-12-02 17:00:00-05:00  32.200000  16.420000  ...        0         0   \n2022-12-02 18:00:00-05:00  32.400000  16.420000  ...        0         0   \n2022-12-02 19:00:00-05:00  32.490000  16.440000  ...        0         0   \n\n                                                                          \\\n                              FUTU        IQ       JD       LI      NTES   \n2022-12-02 04:00:00-05:00        0         0        0        0       0.0   \n2022-12-02 05:00:00-05:00        0         0        0        0       NaN   \n2022-12-02 06:00:00-05:00        0         0        0        0       0.0   \n2022-12-02 07:00:00-05:00        0         0        0        0       0.0   \n2022-12-02 08:00:00-05:00        0         0        0        0       0.0   \n2022-12-02 09:00:00-05:00        0         0        0        0       0.0   \n2022-12-02 09:30:00-05:00  1906841  10399904  3063931  9412833  673887.0   \n2022-12-02 10:30:00-05:00  1183354   4823579  1856212  2861324  451553.0   \n2022-12-02 11:30:00-05:00   419192   2712416  1542445  2184180  219400.0   \n2022-12-02 12:30:00-05:00   389027   1408019   840195  1094903  148793.0   \n2022-12-02 13:30:00-05:00   210520    745655   607812   857124   71591.0   \n2022-12-02 14:30:00-05:00   529478   1194578   843769  1224116  181623.0   \n2022-12-02 15:30:00-05:00   421186   1815219  1026582  2128504  222460.0   \n2022-12-02 16:00:00-05:00        0         0        0        0       0.0   \n2022-12-02 17:00:00-05:00        0         0        0        0       0.0   \n2022-12-02 18:00:00-05:00        0         0        0        0       0.0   \n2022-12-02 19:00:00-05:00        0         0        0        0       0.0   \n\n                                                     \n                               PDD     TCOM      WB  \n2022-12-02 04:00:00-05:00        0        0       0  \n2022-12-02 05:00:00-05:00        0        0       0  \n2022-12-02 06:00:00-05:00        0        0       0  \n2022-12-02 07:00:00-05:00        0        0       0  \n2022-12-02 08:00:00-05:00        0        0       0  \n2022-12-02 09:00:00-05:00        0        0       0  \n2022-12-02 09:30:00-05:00  6914928  3107677  442353  \n2022-12-02 10:30:00-05:00  2114557  1653661  253608  \n2022-12-02 11:30:00-05:00  1849908  1058824  171588  \n2022-12-02 12:30:00-05:00  1028621   460948  117562  \n2022-12-02 13:30:00-05:00   693175   370162  113443  \n2022-12-02 14:30:00-05:00   808769   549923  325668  \n2022-12-02 15:30:00-05:00  1471017   965163  290578  \n2022-12-02 16:00:00-05:00        0        0       0  \n2022-12-02 17:00:00-05:00        0        0       0  \n2022-12-02 18:00:00-05:00        0        0       0  \n2022-12-02 19:00:00-05:00        0        0       0  \n\n[17 rows x 60 columns]",
      "text/html": "<div>\n<style scoped>\n    .dataframe tbody tr th:only-of-type {\n        vertical-align: middle;\n    }\n\n    .dataframe tbody tr th {\n        vertical-align: top;\n    }\n\n    .dataframe thead tr th {\n        text-align: left;\n    }\n</style>\n<table border=\"1\" class=\"dataframe\">\n  <thead>\n    <tr>\n      <th></th>\n      <th colspan=\"10\" halign=\"left\">Adj Close</th>\n      <th>...</th>\n      <th colspan=\"10\" halign=\"left\">Volume</th>\n    </tr>\n    <tr>\n      <th></th>\n      <th>BIDU</th>\n      <th>BILI</th>\n      <th>FUTU</th>\n      <th>IQ</th>\n      <th>JD</th>\n      <th>LI</th>\n      <th>NTES</th>\n      <th>PDD</th>\n      <th>TCOM</th>\n      <th>WB</th>\n      <th>...</th>\n      <th>BIDU</th>\n      <th>BILI</th>\n      <th>FUTU</th>\n      <th>IQ</th>\n      <th>JD</th>\n      <th>LI</th>\n      <th>NTES</th>\n      <th>PDD</th>\n      <th>TCOM</th>\n      <th>WB</th>\n    </tr>\n  </thead>\n  <tbody>\n    <tr>\n      <th>2022-12-02 04:00:00-05:00</th>\n      <td>108.700000</td>\n      <td>17.290000</td>\n      <td>61.400000</td>\n      <td>2.9100</td>\n      <td>56.060000</td>\n      <td>20.990000</td>\n      <td>68.660000</td>\n      <td>84.700000</td>\n      <td>32.000000</td>\n      <td>15.140000</td>\n      <td>...</td>\n      <td>0</td>\n      <td>0</td>\n      <td>0</td>\n      <td>0</td>\n      <td>0</td>\n      <td>0</td>\n      <td>0.0</td>\n      <td>0</td>\n      <td>0</td>\n      <td>0</td>\n    </tr>\n    <tr>\n      <th>2022-12-02 05:00:00-05:00</th>\n      <td>108.950000</td>\n      <td>17.280000</td>\n      <td>61.260000</td>\n      <td>2.9800</td>\n      <td>56.180000</td>\n      <td>20.970000</td>\n      <td>NaN</td>\n      <td>85.000000</td>\n      <td>31.970000</td>\n      <td>15.590000</td>\n      <td>...</td>\n      <td>0</td>\n      <td>0</td>\n      <td>0</td>\n      <td>0</td>\n      <td>0</td>\n      <td>0</td>\n      <td>NaN</td>\n      <td>0</td>\n      <td>0</td>\n      <td>0</td>\n    </tr>\n    <tr>\n      <th>2022-12-02 06:00:00-05:00</th>\n      <td>108.830000</td>\n      <td>17.220000</td>\n      <td>61.320000</td>\n      <td>3.0000</td>\n      <td>56.090000</td>\n      <td>21.050000</td>\n      <td>68.410000</td>\n      <td>84.940000</td>\n      <td>32.100000</td>\n      <td>15.480000</td>\n      <td>...</td>\n      <td>0</td>\n      <td>0</td>\n      <td>0</td>\n      <td>0</td>\n      <td>0</td>\n      <td>0</td>\n      <td>0.0</td>\n      <td>0</td>\n      <td>0</td>\n      <td>0</td>\n    </tr>\n    <tr>\n      <th>2022-12-02 07:00:00-05:00</th>\n      <td>109.320000</td>\n      <td>17.330000</td>\n      <td>61.600000</td>\n      <td>2.9500</td>\n      <td>56.260000</td>\n      <td>21.090000</td>\n      <td>68.650000</td>\n      <td>85.290000</td>\n      <td>32.450000</td>\n      <td>15.350000</td>\n      <td>...</td>\n      <td>0</td>\n      <td>0</td>\n      <td>0</td>\n      <td>0</td>\n      <td>0</td>\n      <td>0</td>\n      <td>0.0</td>\n      <td>0</td>\n      <td>0</td>\n      <td>0</td>\n    </tr>\n    <tr>\n      <th>2022-12-02 08:00:00-05:00</th>\n      <td>109.700000</td>\n      <td>17.280000</td>\n      <td>61.510000</td>\n      <td>2.9800</td>\n      <td>56.120000</td>\n      <td>21.110000</td>\n      <td>68.670000</td>\n      <td>85.000000</td>\n      <td>32.220000</td>\n      <td>15.350000</td>\n      <td>...</td>\n      <td>0</td>\n      <td>0</td>\n      <td>0</td>\n      <td>0</td>\n      <td>0</td>\n      <td>0</td>\n      <td>0.0</td>\n      <td>0</td>\n      <td>0</td>\n      <td>0</td>\n    </tr>\n    <tr>\n      <th>2022-12-02 09:00:00-05:00</th>\n      <td>108.000000</td>\n      <td>16.820000</td>\n      <td>60.600000</td>\n      <td>2.8700</td>\n      <td>55.300000</td>\n      <td>20.930000</td>\n      <td>67.980000</td>\n      <td>83.830000</td>\n      <td>31.580000</td>\n      <td>15.190000</td>\n      <td>...</td>\n      <td>0</td>\n      <td>0</td>\n      <td>0</td>\n      <td>0</td>\n      <td>0</td>\n      <td>0</td>\n      <td>0.0</td>\n      <td>0</td>\n      <td>0</td>\n      <td>0</td>\n    </tr>\n    <tr>\n      <th>2022-12-02 09:30:00-05:00</th>\n      <td>113.230598</td>\n      <td>19.375000</td>\n      <td>66.135002</td>\n      <td>3.2700</td>\n      <td>57.939999</td>\n      <td>22.889999</td>\n      <td>70.875000</td>\n      <td>86.510002</td>\n      <td>32.060001</td>\n      <td>16.430000</td>\n      <td>...</td>\n      <td>1086519</td>\n      <td>11960775</td>\n      <td>1906841</td>\n      <td>10399904</td>\n      <td>3063931</td>\n      <td>9412833</td>\n      <td>673887.0</td>\n      <td>6914928</td>\n      <td>3107677</td>\n      <td>442353</td>\n    </tr>\n    <tr>\n      <th>2022-12-02 10:30:00-05:00</th>\n      <td>114.000000</td>\n      <td>19.620001</td>\n      <td>67.516998</td>\n      <td>3.2450</td>\n      <td>58.959999</td>\n      <td>22.850000</td>\n      <td>71.239998</td>\n      <td>86.065002</td>\n      <td>32.250000</td>\n      <td>16.325001</td>\n      <td>...</td>\n      <td>471218</td>\n      <td>7628289</td>\n      <td>1183354</td>\n      <td>4823579</td>\n      <td>1856212</td>\n      <td>2861324</td>\n      <td>451553.0</td>\n      <td>2114557</td>\n      <td>1653661</td>\n      <td>253608</td>\n    </tr>\n    <tr>\n      <th>2022-12-02 11:30:00-05:00</th>\n      <td>113.980003</td>\n      <td>19.719999</td>\n      <td>67.160004</td>\n      <td>3.2800</td>\n      <td>59.430000</td>\n      <td>22.875000</td>\n      <td>71.290001</td>\n      <td>87.430000</td>\n      <td>32.325001</td>\n      <td>16.510000</td>\n      <td>...</td>\n      <td>494328</td>\n      <td>2912996</td>\n      <td>419192</td>\n      <td>2712416</td>\n      <td>1542445</td>\n      <td>2184180</td>\n      <td>219400.0</td>\n      <td>1849908</td>\n      <td>1058824</td>\n      <td>171588</td>\n    </tr>\n    <tr>\n      <th>2022-12-02 12:30:00-05:00</th>\n      <td>113.940002</td>\n      <td>19.639999</td>\n      <td>67.180000</td>\n      <td>3.2700</td>\n      <td>58.930000</td>\n      <td>22.840000</td>\n      <td>70.599998</td>\n      <td>87.224998</td>\n      <td>32.580002</td>\n      <td>16.580000</td>\n      <td>...</td>\n      <td>229735</td>\n      <td>1765967</td>\n      <td>389027</td>\n      <td>1408019</td>\n      <td>840195</td>\n      <td>1094903</td>\n      <td>148793.0</td>\n      <td>1028621</td>\n      <td>460948</td>\n      <td>117562</td>\n    </tr>\n    <tr>\n      <th>2022-12-02 13:30:00-05:00</th>\n      <td>113.730003</td>\n      <td>19.725000</td>\n      <td>66.885002</td>\n      <td>3.3400</td>\n      <td>58.575001</td>\n      <td>22.844999</td>\n      <td>70.480003</td>\n      <td>87.110001</td>\n      <td>32.415001</td>\n      <td>16.450001</td>\n      <td>...</td>\n      <td>151799</td>\n      <td>1239239</td>\n      <td>210520</td>\n      <td>745655</td>\n      <td>607812</td>\n      <td>857124</td>\n      <td>71591.0</td>\n      <td>693175</td>\n      <td>370162</td>\n      <td>113443</td>\n    </tr>\n    <tr>\n      <th>2022-12-02 14:30:00-05:00</th>\n      <td>113.959999</td>\n      <td>19.709999</td>\n      <td>66.769997</td>\n      <td>3.3699</td>\n      <td>59.049999</td>\n      <td>22.855000</td>\n      <td>71.089996</td>\n      <td>87.260002</td>\n      <td>32.310001</td>\n      <td>16.535000</td>\n      <td>...</td>\n      <td>415822</td>\n      <td>1242962</td>\n      <td>529478</td>\n      <td>1194578</td>\n      <td>843769</td>\n      <td>1224116</td>\n      <td>181623.0</td>\n      <td>808769</td>\n      <td>549923</td>\n      <td>325668</td>\n    </tr>\n    <tr>\n      <th>2022-12-02 15:30:00-05:00</th>\n      <td>113.860001</td>\n      <td>19.830000</td>\n      <td>66.294998</td>\n      <td>3.3400</td>\n      <td>58.619999</td>\n      <td>22.770000</td>\n      <td>70.940002</td>\n      <td>86.339996</td>\n      <td>32.250000</td>\n      <td>16.420000</td>\n      <td>...</td>\n      <td>502638</td>\n      <td>1561786</td>\n      <td>421186</td>\n      <td>1815219</td>\n      <td>1026582</td>\n      <td>2128504</td>\n      <td>222460.0</td>\n      <td>1471017</td>\n      <td>965163</td>\n      <td>290578</td>\n    </tr>\n    <tr>\n      <th>2022-12-02 16:00:00-05:00</th>\n      <td>113.450000</td>\n      <td>19.770000</td>\n      <td>66.340000</td>\n      <td>3.3400</td>\n      <td>58.510000</td>\n      <td>22.750000</td>\n      <td>70.900000</td>\n      <td>86.540000</td>\n      <td>32.060000</td>\n      <td>16.420000</td>\n      <td>...</td>\n      <td>0</td>\n      <td>0</td>\n      <td>0</td>\n      <td>0</td>\n      <td>0</td>\n      <td>0</td>\n      <td>0.0</td>\n      <td>0</td>\n      <td>0</td>\n      <td>0</td>\n    </tr>\n    <tr>\n      <th>2022-12-02 17:00:00-05:00</th>\n      <td>113.500000</td>\n      <td>19.820000</td>\n      <td>66.300000</td>\n      <td>3.3500</td>\n      <td>58.680000</td>\n      <td>22.730000</td>\n      <td>70.750000</td>\n      <td>86.590000</td>\n      <td>32.200000</td>\n      <td>16.420000</td>\n      <td>...</td>\n      <td>0</td>\n      <td>0</td>\n      <td>0</td>\n      <td>0</td>\n      <td>0</td>\n      <td>0</td>\n      <td>0.0</td>\n      <td>0</td>\n      <td>0</td>\n      <td>0</td>\n    </tr>\n    <tr>\n      <th>2022-12-02 18:00:00-05:00</th>\n      <td>113.360000</td>\n      <td>19.970000</td>\n      <td>66.290000</td>\n      <td>3.3400</td>\n      <td>58.790000</td>\n      <td>22.760000</td>\n      <td>70.770000</td>\n      <td>86.790000</td>\n      <td>32.400000</td>\n      <td>16.420000</td>\n      <td>...</td>\n      <td>0</td>\n      <td>0</td>\n      <td>0</td>\n      <td>0</td>\n      <td>0</td>\n      <td>0</td>\n      <td>0.0</td>\n      <td>0</td>\n      <td>0</td>\n      <td>0</td>\n    </tr>\n    <tr>\n      <th>2022-12-02 19:00:00-05:00</th>\n      <td>113.500000</td>\n      <td>19.900000</td>\n      <td>66.800000</td>\n      <td>3.3600</td>\n      <td>58.790000</td>\n      <td>22.850000</td>\n      <td>71.020000</td>\n      <td>86.710000</td>\n      <td>32.490000</td>\n      <td>16.440000</td>\n      <td>...</td>\n      <td>0</td>\n      <td>0</td>\n      <td>0</td>\n      <td>0</td>\n      <td>0</td>\n      <td>0</td>\n      <td>0.0</td>\n      <td>0</td>\n      <td>0</td>\n      <td>0</td>\n    </tr>\n  </tbody>\n</table>\n<p>17 rows × 60 columns</p>\n</div>"
     },
     "execution_count": 16,
     "metadata": {},
     "output_type": "execute_result"
    }
   ],
   "source": [
    "yf.download(prepost=True, tickers=list(short_list.Ticker), period='1d', interval='1h')"
   ]
  },
  {
   "cell_type": "code",
   "execution_count": 17,
   "metadata": {
    "pycharm": {
     "name": "#%%\n"
    }
   },
   "outputs": [],
   "source": [
    "import plotly.graph_objects as go\n",
    "\n",
    "# fig = go.Figure(data=go.Scatter(x=jd_hist.index, y=jd_hist['Close'], mode='lines'))\n",
    "# fig.show()"
   ]
  },
  {
   "cell_type": "code",
   "execution_count": 17,
   "metadata": {
    "pycharm": {
     "name": "#%%\n"
    }
   },
   "outputs": [],
   "source": []
  },
  {
   "cell_type": "code",
   "execution_count": 18,
   "metadata": {
    "pycharm": {
     "name": "#%%\n"
    }
   },
   "outputs": [
    {
     "name": "stdout",
     "output_type": "stream",
     "text": [
      "[*********************100%***********************]  1 of 1 completed\n"
     ]
    }
   ],
   "source": [
    "data = yf.download(tickers='JD', start='2022-01-01', end='2022-06-30', interval='1h')"
   ]
  },
  {
   "cell_type": "code",
   "execution_count": 19,
   "metadata": {
    "pycharm": {
     "name": "#%%\n"
    }
   },
   "outputs": [
    {
     "data": {
      "text/plain": "                                Open       High        Low      Close  \\\n2022-01-03 09:30:00-05:00  68.900002  69.489998  66.870003  67.440002   \n2022-01-03 10:30:00-05:00  67.459999  68.669998  67.370003  68.370003   \n2022-01-03 11:30:00-05:00  68.370003  68.820000  67.839996  68.169998   \n2022-01-03 12:30:00-05:00  68.190002  68.489998  68.129997  68.425003   \n2022-01-03 13:30:00-05:00  68.430000  68.699997  68.239998  68.565002   \n...                              ...        ...        ...        ...   \n2022-06-29 11:30:00-04:00  63.924999  64.837997  63.834301  64.360001   \n2022-06-29 12:30:00-04:00  64.349998  64.739998  64.269997  64.400002   \n2022-06-29 13:30:00-04:00  64.400002  64.709999  64.209999  64.540001   \n2022-06-29 14:30:00-04:00  64.519997  64.662201  64.199997  64.660004   \n2022-06-29 15:30:00-04:00  64.669998  64.910004  64.489998  64.860001   \n\n                           Adj Close   Volume  \n2022-01-03 09:30:00-05:00  67.440002  3780738  \n2022-01-03 10:30:00-05:00  68.370003  1709814  \n2022-01-03 11:30:00-05:00  68.169998   866906  \n2022-01-03 12:30:00-05:00  68.425003   463075  \n2022-01-03 13:30:00-05:00  68.565002   418501  \n...                              ...      ...  \n2022-06-29 11:30:00-04:00  64.360001   640318  \n2022-06-29 12:30:00-04:00  64.400002   512697  \n2022-06-29 13:30:00-04:00  64.540001   400865  \n2022-06-29 14:30:00-04:00  64.660004   450826  \n2022-06-29 15:30:00-04:00  64.860001   879566  \n\n[861 rows x 6 columns]",
      "text/html": "<div>\n<style scoped>\n    .dataframe tbody tr th:only-of-type {\n        vertical-align: middle;\n    }\n\n    .dataframe tbody tr th {\n        vertical-align: top;\n    }\n\n    .dataframe thead th {\n        text-align: right;\n    }\n</style>\n<table border=\"1\" class=\"dataframe\">\n  <thead>\n    <tr style=\"text-align: right;\">\n      <th></th>\n      <th>Open</th>\n      <th>High</th>\n      <th>Low</th>\n      <th>Close</th>\n      <th>Adj Close</th>\n      <th>Volume</th>\n    </tr>\n  </thead>\n  <tbody>\n    <tr>\n      <th>2022-01-03 09:30:00-05:00</th>\n      <td>68.900002</td>\n      <td>69.489998</td>\n      <td>66.870003</td>\n      <td>67.440002</td>\n      <td>67.440002</td>\n      <td>3780738</td>\n    </tr>\n    <tr>\n      <th>2022-01-03 10:30:00-05:00</th>\n      <td>67.459999</td>\n      <td>68.669998</td>\n      <td>67.370003</td>\n      <td>68.370003</td>\n      <td>68.370003</td>\n      <td>1709814</td>\n    </tr>\n    <tr>\n      <th>2022-01-03 11:30:00-05:00</th>\n      <td>68.370003</td>\n      <td>68.820000</td>\n      <td>67.839996</td>\n      <td>68.169998</td>\n      <td>68.169998</td>\n      <td>866906</td>\n    </tr>\n    <tr>\n      <th>2022-01-03 12:30:00-05:00</th>\n      <td>68.190002</td>\n      <td>68.489998</td>\n      <td>68.129997</td>\n      <td>68.425003</td>\n      <td>68.425003</td>\n      <td>463075</td>\n    </tr>\n    <tr>\n      <th>2022-01-03 13:30:00-05:00</th>\n      <td>68.430000</td>\n      <td>68.699997</td>\n      <td>68.239998</td>\n      <td>68.565002</td>\n      <td>68.565002</td>\n      <td>418501</td>\n    </tr>\n    <tr>\n      <th>...</th>\n      <td>...</td>\n      <td>...</td>\n      <td>...</td>\n      <td>...</td>\n      <td>...</td>\n      <td>...</td>\n    </tr>\n    <tr>\n      <th>2022-06-29 11:30:00-04:00</th>\n      <td>63.924999</td>\n      <td>64.837997</td>\n      <td>63.834301</td>\n      <td>64.360001</td>\n      <td>64.360001</td>\n      <td>640318</td>\n    </tr>\n    <tr>\n      <th>2022-06-29 12:30:00-04:00</th>\n      <td>64.349998</td>\n      <td>64.739998</td>\n      <td>64.269997</td>\n      <td>64.400002</td>\n      <td>64.400002</td>\n      <td>512697</td>\n    </tr>\n    <tr>\n      <th>2022-06-29 13:30:00-04:00</th>\n      <td>64.400002</td>\n      <td>64.709999</td>\n      <td>64.209999</td>\n      <td>64.540001</td>\n      <td>64.540001</td>\n      <td>400865</td>\n    </tr>\n    <tr>\n      <th>2022-06-29 14:30:00-04:00</th>\n      <td>64.519997</td>\n      <td>64.662201</td>\n      <td>64.199997</td>\n      <td>64.660004</td>\n      <td>64.660004</td>\n      <td>450826</td>\n    </tr>\n    <tr>\n      <th>2022-06-29 15:30:00-04:00</th>\n      <td>64.669998</td>\n      <td>64.910004</td>\n      <td>64.489998</td>\n      <td>64.860001</td>\n      <td>64.860001</td>\n      <td>879566</td>\n    </tr>\n  </tbody>\n</table>\n<p>861 rows × 6 columns</p>\n</div>"
     },
     "execution_count": 19,
     "metadata": {},
     "output_type": "execute_result"
    }
   ],
   "source": [
    "data"
   ]
  },
  {
   "cell_type": "code",
   "execution_count": 20,
   "metadata": {
    "pycharm": {
     "name": "#%%\n"
    }
   },
   "outputs": [
    {
     "name": "stderr",
     "output_type": "stream",
     "text": [
      "/var/folders/hq/zj74p60n6sv9k3cnn88smg0c0000gn/T/ipykernel_94652/2064834986.py:2: SettingWithCopyWarning: \n",
      "A value is trying to be set on a copy of a slice from a DataFrame.\n",
      "Try using .loc[row_indexer,col_indexer] = value instead\n",
      "\n",
      "See the caveats in the documentation: https://pandas.pydata.org/pandas-docs/stable/user_guide/indexing.html#returning-a-view-versus-a-copy\n",
      "  data_9am['rate'] = (data_9am['Close'] - data_9am['Open']) / data_9am['Open']\n"
     ]
    }
   ],
   "source": [
    "data_9am = data.iloc[::7]\n",
    "data_9am['rate'] = (data_9am['Close'] - data_9am['Open']) / data_9am['Open']"
   ]
  },
  {
   "cell_type": "code",
   "execution_count": 21,
   "metadata": {
    "pycharm": {
     "name": "#%%\n"
    }
   },
   "outputs": [
    {
     "data": {
      "text/plain": "                                Open       High        Low      Close  \\\n2022-01-03 09:30:00-05:00  68.900002  69.489998  66.870003  67.440002   \n2022-01-04 09:30:00-05:00  67.699997  67.839996  63.560001  63.720001   \n2022-01-05 09:30:00-05:00  63.570000  65.169998  62.170399  65.000000   \n2022-01-06 09:30:00-05:00  65.250000  66.209999  63.665001  65.139999   \n2022-01-07 09:30:00-05:00  68.389999  69.680000  67.139999  68.290001   \n...                              ...        ...        ...        ...   \n2022-06-23 09:30:00-04:00  62.470001  64.029999  61.490002  63.139999   \n2022-06-24 09:30:00-04:00  63.090000  64.739998  62.599998  64.639999   \n2022-06-27 09:30:00-04:00  67.160004  68.290001  66.029999  66.480003   \n2022-06-28 09:30:00-04:00  65.699997  66.680000  65.239998  65.809998   \n2022-06-29 09:30:00-04:00  63.720001  64.900002  63.259899  64.449997   \n\n                           Adj Close   Volume      rate  \n2022-01-03 09:30:00-05:00  67.440002  3780738 -0.021190  \n2022-01-04 09:30:00-05:00  63.720001  6165040 -0.058789  \n2022-01-05 09:30:00-05:00  65.000000  7134761  0.022495  \n2022-01-06 09:30:00-05:00  65.139999  4180441 -0.001686  \n2022-01-07 09:30:00-05:00  68.290001  3412905 -0.001462  \n...                              ...      ...       ...  \n2022-06-23 09:30:00-04:00  63.139999  5110089  0.010725  \n2022-06-24 09:30:00-04:00  64.639999  3441802  0.024568  \n2022-06-27 09:30:00-04:00  66.480003  7224106 -0.010125  \n2022-06-28 09:30:00-04:00  65.809998  2905732  0.001674  \n2022-06-29 09:30:00-04:00  64.449997  2298634  0.011456  \n\n[123 rows x 7 columns]",
      "text/html": "<div>\n<style scoped>\n    .dataframe tbody tr th:only-of-type {\n        vertical-align: middle;\n    }\n\n    .dataframe tbody tr th {\n        vertical-align: top;\n    }\n\n    .dataframe thead th {\n        text-align: right;\n    }\n</style>\n<table border=\"1\" class=\"dataframe\">\n  <thead>\n    <tr style=\"text-align: right;\">\n      <th></th>\n      <th>Open</th>\n      <th>High</th>\n      <th>Low</th>\n      <th>Close</th>\n      <th>Adj Close</th>\n      <th>Volume</th>\n      <th>rate</th>\n    </tr>\n  </thead>\n  <tbody>\n    <tr>\n      <th>2022-01-03 09:30:00-05:00</th>\n      <td>68.900002</td>\n      <td>69.489998</td>\n      <td>66.870003</td>\n      <td>67.440002</td>\n      <td>67.440002</td>\n      <td>3780738</td>\n      <td>-0.021190</td>\n    </tr>\n    <tr>\n      <th>2022-01-04 09:30:00-05:00</th>\n      <td>67.699997</td>\n      <td>67.839996</td>\n      <td>63.560001</td>\n      <td>63.720001</td>\n      <td>63.720001</td>\n      <td>6165040</td>\n      <td>-0.058789</td>\n    </tr>\n    <tr>\n      <th>2022-01-05 09:30:00-05:00</th>\n      <td>63.570000</td>\n      <td>65.169998</td>\n      <td>62.170399</td>\n      <td>65.000000</td>\n      <td>65.000000</td>\n      <td>7134761</td>\n      <td>0.022495</td>\n    </tr>\n    <tr>\n      <th>2022-01-06 09:30:00-05:00</th>\n      <td>65.250000</td>\n      <td>66.209999</td>\n      <td>63.665001</td>\n      <td>65.139999</td>\n      <td>65.139999</td>\n      <td>4180441</td>\n      <td>-0.001686</td>\n    </tr>\n    <tr>\n      <th>2022-01-07 09:30:00-05:00</th>\n      <td>68.389999</td>\n      <td>69.680000</td>\n      <td>67.139999</td>\n      <td>68.290001</td>\n      <td>68.290001</td>\n      <td>3412905</td>\n      <td>-0.001462</td>\n    </tr>\n    <tr>\n      <th>...</th>\n      <td>...</td>\n      <td>...</td>\n      <td>...</td>\n      <td>...</td>\n      <td>...</td>\n      <td>...</td>\n      <td>...</td>\n    </tr>\n    <tr>\n      <th>2022-06-23 09:30:00-04:00</th>\n      <td>62.470001</td>\n      <td>64.029999</td>\n      <td>61.490002</td>\n      <td>63.139999</td>\n      <td>63.139999</td>\n      <td>5110089</td>\n      <td>0.010725</td>\n    </tr>\n    <tr>\n      <th>2022-06-24 09:30:00-04:00</th>\n      <td>63.090000</td>\n      <td>64.739998</td>\n      <td>62.599998</td>\n      <td>64.639999</td>\n      <td>64.639999</td>\n      <td>3441802</td>\n      <td>0.024568</td>\n    </tr>\n    <tr>\n      <th>2022-06-27 09:30:00-04:00</th>\n      <td>67.160004</td>\n      <td>68.290001</td>\n      <td>66.029999</td>\n      <td>66.480003</td>\n      <td>66.480003</td>\n      <td>7224106</td>\n      <td>-0.010125</td>\n    </tr>\n    <tr>\n      <th>2022-06-28 09:30:00-04:00</th>\n      <td>65.699997</td>\n      <td>66.680000</td>\n      <td>65.239998</td>\n      <td>65.809998</td>\n      <td>65.809998</td>\n      <td>2905732</td>\n      <td>0.001674</td>\n    </tr>\n    <tr>\n      <th>2022-06-29 09:30:00-04:00</th>\n      <td>63.720001</td>\n      <td>64.900002</td>\n      <td>63.259899</td>\n      <td>64.449997</td>\n      <td>64.449997</td>\n      <td>2298634</td>\n      <td>0.011456</td>\n    </tr>\n  </tbody>\n</table>\n<p>123 rows × 7 columns</p>\n</div>"
     },
     "execution_count": 21,
     "metadata": {},
     "output_type": "execute_result"
    }
   ],
   "source": [
    "data_9am\n"
   ]
  },
  {
   "cell_type": "code",
   "execution_count": 22,
   "metadata": {
    "pycharm": {
     "name": "#%%\n"
    }
   },
   "outputs": [
    {
     "data": {
      "text/plain": "0.020911391101894043"
     },
     "execution_count": 22,
     "metadata": {},
     "output_type": "execute_result"
    }
   ],
   "source": [
    "abs(data_9am.rate).mean()"
   ]
  },
  {
   "cell_type": "code",
   "execution_count": 23,
   "metadata": {
    "pycharm": {
     "name": "#%%\n"
    }
   },
   "outputs": [
    {
     "name": "stderr",
     "output_type": "stream",
     "text": [
      "/var/folders/hq/zj74p60n6sv9k3cnn88smg0c0000gn/T/ipykernel_94652/1204864440.py:3: SettingWithCopyWarning: \n",
      "A value is trying to be set on a copy of a slice from a DataFrame.\n",
      "Try using .loc[row_indexer,col_indexer] = value instead\n",
      "\n",
      "See the caveats in the documentation: https://pandas.pydata.org/pandas-docs/stable/user_guide/indexing.html#returning-a-view-versus-a-copy\n",
      "  data_10am.loc[:, 'rate'] = data_10am.apply(lambda row: (row.Close - row.Open) / row.Open, axis=1)\n"
     ]
    },
    {
     "data": {
      "text/plain": "                                Open       High        Low      Close  \\\n2022-01-03 10:30:00-05:00  67.459999  68.669998  67.370003  68.370003   \n2022-01-04 10:30:00-05:00  63.730000  63.970001  63.110001  63.770000   \n2022-01-05 10:30:00-05:00  65.000000  65.588699  64.980003  65.040001   \n2022-01-06 10:30:00-05:00  65.099998  67.445000  65.070099  66.989998   \n2022-01-07 10:30:00-05:00  68.250000  68.989998  67.614998  68.910004   \n...                              ...        ...        ...        ...   \n2022-06-23 10:30:00-04:00  63.220001  63.660000  61.949799  62.009998   \n2022-06-24 10:30:00-04:00  64.650002  64.839996  63.900002  64.360001   \n2022-06-27 10:30:00-04:00  66.459999  66.745003  65.905998  66.129997   \n2022-06-28 10:30:00-04:00  65.800003  65.800003  64.184799  64.209999   \n2022-06-29 10:30:00-04:00  64.459999  64.739998  63.889999  63.919998   \n\n                           Adj Close   Volume      rate  \n2022-01-03 10:30:00-05:00  68.370003  1709814  0.013490  \n2022-01-04 10:30:00-05:00  63.770000  2778278  0.000628  \n2022-01-05 10:30:00-05:00  65.040001  1927821  0.000615  \n2022-01-06 10:30:00-05:00  66.989998  2075013  0.029032  \n2022-01-07 10:30:00-05:00  68.910004  1531062  0.009670  \n...                              ...      ...       ...  \n2022-06-23 10:30:00-04:00  62.009998  1897972 -0.019140  \n2022-06-24 10:30:00-04:00  64.360001  1916380 -0.004486  \n2022-06-27 10:30:00-04:00  66.129997  1738413 -0.004965  \n2022-06-28 10:30:00-04:00  64.209999  1195847 -0.024164  \n2022-06-29 10:30:00-04:00  63.919998   766703 -0.008377  \n\n[123 rows x 7 columns]",
      "text/html": "<div>\n<style scoped>\n    .dataframe tbody tr th:only-of-type {\n        vertical-align: middle;\n    }\n\n    .dataframe tbody tr th {\n        vertical-align: top;\n    }\n\n    .dataframe thead th {\n        text-align: right;\n    }\n</style>\n<table border=\"1\" class=\"dataframe\">\n  <thead>\n    <tr style=\"text-align: right;\">\n      <th></th>\n      <th>Open</th>\n      <th>High</th>\n      <th>Low</th>\n      <th>Close</th>\n      <th>Adj Close</th>\n      <th>Volume</th>\n      <th>rate</th>\n    </tr>\n  </thead>\n  <tbody>\n    <tr>\n      <th>2022-01-03 10:30:00-05:00</th>\n      <td>67.459999</td>\n      <td>68.669998</td>\n      <td>67.370003</td>\n      <td>68.370003</td>\n      <td>68.370003</td>\n      <td>1709814</td>\n      <td>0.013490</td>\n    </tr>\n    <tr>\n      <th>2022-01-04 10:30:00-05:00</th>\n      <td>63.730000</td>\n      <td>63.970001</td>\n      <td>63.110001</td>\n      <td>63.770000</td>\n      <td>63.770000</td>\n      <td>2778278</td>\n      <td>0.000628</td>\n    </tr>\n    <tr>\n      <th>2022-01-05 10:30:00-05:00</th>\n      <td>65.000000</td>\n      <td>65.588699</td>\n      <td>64.980003</td>\n      <td>65.040001</td>\n      <td>65.040001</td>\n      <td>1927821</td>\n      <td>0.000615</td>\n    </tr>\n    <tr>\n      <th>2022-01-06 10:30:00-05:00</th>\n      <td>65.099998</td>\n      <td>67.445000</td>\n      <td>65.070099</td>\n      <td>66.989998</td>\n      <td>66.989998</td>\n      <td>2075013</td>\n      <td>0.029032</td>\n    </tr>\n    <tr>\n      <th>2022-01-07 10:30:00-05:00</th>\n      <td>68.250000</td>\n      <td>68.989998</td>\n      <td>67.614998</td>\n      <td>68.910004</td>\n      <td>68.910004</td>\n      <td>1531062</td>\n      <td>0.009670</td>\n    </tr>\n    <tr>\n      <th>...</th>\n      <td>...</td>\n      <td>...</td>\n      <td>...</td>\n      <td>...</td>\n      <td>...</td>\n      <td>...</td>\n      <td>...</td>\n    </tr>\n    <tr>\n      <th>2022-06-23 10:30:00-04:00</th>\n      <td>63.220001</td>\n      <td>63.660000</td>\n      <td>61.949799</td>\n      <td>62.009998</td>\n      <td>62.009998</td>\n      <td>1897972</td>\n      <td>-0.019140</td>\n    </tr>\n    <tr>\n      <th>2022-06-24 10:30:00-04:00</th>\n      <td>64.650002</td>\n      <td>64.839996</td>\n      <td>63.900002</td>\n      <td>64.360001</td>\n      <td>64.360001</td>\n      <td>1916380</td>\n      <td>-0.004486</td>\n    </tr>\n    <tr>\n      <th>2022-06-27 10:30:00-04:00</th>\n      <td>66.459999</td>\n      <td>66.745003</td>\n      <td>65.905998</td>\n      <td>66.129997</td>\n      <td>66.129997</td>\n      <td>1738413</td>\n      <td>-0.004965</td>\n    </tr>\n    <tr>\n      <th>2022-06-28 10:30:00-04:00</th>\n      <td>65.800003</td>\n      <td>65.800003</td>\n      <td>64.184799</td>\n      <td>64.209999</td>\n      <td>64.209999</td>\n      <td>1195847</td>\n      <td>-0.024164</td>\n    </tr>\n    <tr>\n      <th>2022-06-29 10:30:00-04:00</th>\n      <td>64.459999</td>\n      <td>64.739998</td>\n      <td>63.889999</td>\n      <td>63.919998</td>\n      <td>63.919998</td>\n      <td>766703</td>\n      <td>-0.008377</td>\n    </tr>\n  </tbody>\n</table>\n<p>123 rows × 7 columns</p>\n</div>"
     },
     "execution_count": 23,
     "metadata": {},
     "output_type": "execute_result"
    }
   ],
   "source": [
    "data_10am = data.iloc[1::7]\n",
    "# data_10am['rate'] = (data_10am['Close'] - data_10am['Open'])/data_10am['Open']\n",
    "data_10am.loc[:, 'rate'] = data_10am.apply(lambda row: (row.Close - row.Open) / row.Open, axis=1)\n",
    "data_10am"
   ]
  },
  {
   "cell_type": "code",
   "execution_count": 24,
   "metadata": {
    "pycharm": {
     "name": "#%%\n"
    }
   },
   "outputs": [
    {
     "data": {
      "text/plain": "0.009991736558126412"
     },
     "execution_count": 24,
     "metadata": {},
     "output_type": "execute_result"
    }
   ],
   "source": [
    "abs(data_10am.rate).mean()"
   ]
  },
  {
   "cell_type": "markdown",
   "metadata": {
    "pycharm": {
     "name": "#%% md\n"
    }
   },
   "source": [
    "# Test if the market overreact during the pre-market and the first hour"
   ]
  },
  {
   "cell_type": "code",
   "execution_count": 25,
   "metadata": {
    "pycharm": {
     "name": "#%%\n"
    }
   },
   "outputs": [
    {
     "data": {
      "text/plain": "                                Open       High        Low      Close  \\\n2022-01-03 09:30:00-05:00  68.900002  69.489998  66.870003  67.440002   \n2022-01-03 10:30:00-05:00  67.459999  68.669998  67.370003  68.370003   \n2022-01-03 11:30:00-05:00  68.370003  68.820000  67.839996  68.169998   \n2022-01-03 12:30:00-05:00  68.190002  68.489998  68.129997  68.425003   \n2022-01-03 13:30:00-05:00  68.430000  68.699997  68.239998  68.565002   \n...                              ...        ...        ...        ...   \n2022-06-29 11:30:00-04:00  63.924999  64.837997  63.834301  64.360001   \n2022-06-29 12:30:00-04:00  64.349998  64.739998  64.269997  64.400002   \n2022-06-29 13:30:00-04:00  64.400002  64.709999  64.209999  64.540001   \n2022-06-29 14:30:00-04:00  64.519997  64.662201  64.199997  64.660004   \n2022-06-29 15:30:00-04:00  64.669998  64.910004  64.489998  64.860001   \n\n                           Adj Close   Volume  \n2022-01-03 09:30:00-05:00  67.440002  3780738  \n2022-01-03 10:30:00-05:00  68.370003  1709814  \n2022-01-03 11:30:00-05:00  68.169998   866906  \n2022-01-03 12:30:00-05:00  68.425003   463075  \n2022-01-03 13:30:00-05:00  68.565002   418501  \n...                              ...      ...  \n2022-06-29 11:30:00-04:00  64.360001   640318  \n2022-06-29 12:30:00-04:00  64.400002   512697  \n2022-06-29 13:30:00-04:00  64.540001   400865  \n2022-06-29 14:30:00-04:00  64.660004   450826  \n2022-06-29 15:30:00-04:00  64.860001   879566  \n\n[861 rows x 6 columns]",
      "text/html": "<div>\n<style scoped>\n    .dataframe tbody tr th:only-of-type {\n        vertical-align: middle;\n    }\n\n    .dataframe tbody tr th {\n        vertical-align: top;\n    }\n\n    .dataframe thead th {\n        text-align: right;\n    }\n</style>\n<table border=\"1\" class=\"dataframe\">\n  <thead>\n    <tr style=\"text-align: right;\">\n      <th></th>\n      <th>Open</th>\n      <th>High</th>\n      <th>Low</th>\n      <th>Close</th>\n      <th>Adj Close</th>\n      <th>Volume</th>\n    </tr>\n  </thead>\n  <tbody>\n    <tr>\n      <th>2022-01-03 09:30:00-05:00</th>\n      <td>68.900002</td>\n      <td>69.489998</td>\n      <td>66.870003</td>\n      <td>67.440002</td>\n      <td>67.440002</td>\n      <td>3780738</td>\n    </tr>\n    <tr>\n      <th>2022-01-03 10:30:00-05:00</th>\n      <td>67.459999</td>\n      <td>68.669998</td>\n      <td>67.370003</td>\n      <td>68.370003</td>\n      <td>68.370003</td>\n      <td>1709814</td>\n    </tr>\n    <tr>\n      <th>2022-01-03 11:30:00-05:00</th>\n      <td>68.370003</td>\n      <td>68.820000</td>\n      <td>67.839996</td>\n      <td>68.169998</td>\n      <td>68.169998</td>\n      <td>866906</td>\n    </tr>\n    <tr>\n      <th>2022-01-03 12:30:00-05:00</th>\n      <td>68.190002</td>\n      <td>68.489998</td>\n      <td>68.129997</td>\n      <td>68.425003</td>\n      <td>68.425003</td>\n      <td>463075</td>\n    </tr>\n    <tr>\n      <th>2022-01-03 13:30:00-05:00</th>\n      <td>68.430000</td>\n      <td>68.699997</td>\n      <td>68.239998</td>\n      <td>68.565002</td>\n      <td>68.565002</td>\n      <td>418501</td>\n    </tr>\n    <tr>\n      <th>...</th>\n      <td>...</td>\n      <td>...</td>\n      <td>...</td>\n      <td>...</td>\n      <td>...</td>\n      <td>...</td>\n    </tr>\n    <tr>\n      <th>2022-06-29 11:30:00-04:00</th>\n      <td>63.924999</td>\n      <td>64.837997</td>\n      <td>63.834301</td>\n      <td>64.360001</td>\n      <td>64.360001</td>\n      <td>640318</td>\n    </tr>\n    <tr>\n      <th>2022-06-29 12:30:00-04:00</th>\n      <td>64.349998</td>\n      <td>64.739998</td>\n      <td>64.269997</td>\n      <td>64.400002</td>\n      <td>64.400002</td>\n      <td>512697</td>\n    </tr>\n    <tr>\n      <th>2022-06-29 13:30:00-04:00</th>\n      <td>64.400002</td>\n      <td>64.709999</td>\n      <td>64.209999</td>\n      <td>64.540001</td>\n      <td>64.540001</td>\n      <td>400865</td>\n    </tr>\n    <tr>\n      <th>2022-06-29 14:30:00-04:00</th>\n      <td>64.519997</td>\n      <td>64.662201</td>\n      <td>64.199997</td>\n      <td>64.660004</td>\n      <td>64.660004</td>\n      <td>450826</td>\n    </tr>\n    <tr>\n      <th>2022-06-29 15:30:00-04:00</th>\n      <td>64.669998</td>\n      <td>64.910004</td>\n      <td>64.489998</td>\n      <td>64.860001</td>\n      <td>64.860001</td>\n      <td>879566</td>\n    </tr>\n  </tbody>\n</table>\n<p>861 rows × 6 columns</p>\n</div>"
     },
     "execution_count": 25,
     "metadata": {},
     "output_type": "execute_result"
    }
   ],
   "source": [
    "data"
   ]
  },
  {
   "cell_type": "code",
   "execution_count": 26,
   "metadata": {
    "pycharm": {
     "name": "#%%\n"
    }
   },
   "outputs": [],
   "source": [
    "data_3pm = data.iloc[6::7]"
   ]
  },
  {
   "cell_type": "markdown",
   "metadata": {
    "pycharm": {
     "name": "#%% md\n"
    }
   },
   "source": [
    "# 重新开始！"
   ]
  },
  {
   "cell_type": "markdown",
   "metadata": {
    "pycharm": {
     "name": "#%% md\n"
    }
   },
   "source": [
    "取JD分时数据，包括premarket"
   ]
  },
  {
   "cell_type": "code",
   "execution_count": 27,
   "metadata": {
    "pycharm": {
     "name": "#%%\n"
    }
   },
   "outputs": [],
   "source": [
    "# jd = yf.Ticker('JD')\n",
    "# jd_hist = jd.history(prepost=True, period='3mo', interval='1h')\n"
   ]
  },
  {
   "cell_type": "code",
   "execution_count": 28,
   "metadata": {
    "pycharm": {
     "name": "#%%\n"
    }
   },
   "outputs": [
    {
     "name": "stdout",
     "output_type": "stream",
     "text": [
      "[*********************100%***********************]  1 of 1 completed\n"
     ]
    }
   ],
   "source": [
    "data = yf.download(tickers='JD', start='2022-01-01', end='2022-06-30', interval='1h', prepost=True)\n",
    "jd_hist = data"
   ]
  },
  {
   "cell_type": "markdown",
   "metadata": {
    "pycharm": {
     "name": "#%% md\n"
    }
   },
   "source": [
    "算9:30之前(premarket)的return"
   ]
  },
  {
   "cell_type": "code",
   "execution_count": 29,
   "metadata": {
    "pycharm": {
     "name": "#%%\n"
    }
   },
   "outputs": [],
   "source": [
    "# 复制一下\n",
    "jd_hist_calc_premarket = jd_hist.copy()"
   ]
  },
  {
   "cell_type": "code",
   "execution_count": 30,
   "metadata": {
    "pycharm": {
     "name": "#%%\n"
    }
   },
   "outputs": [],
   "source": [
    "jd_hist_calc_premarket['time'] = jd_hist_calc_premarket.index.time"
   ]
  },
  {
   "cell_type": "code",
   "execution_count": 31,
   "metadata": {
    "pycharm": {
     "name": "#%%\n"
    }
   },
   "outputs": [],
   "source": [
    "jd_hist_calc_premarket['date'] = jd_hist_calc_premarket.index.date"
   ]
  },
  {
   "cell_type": "code",
   "execution_count": 32,
   "metadata": {
    "pycharm": {
     "name": "#%%\n"
    }
   },
   "outputs": [
    {
     "data": {
      "text/plain": "                                Open       High        Low      Close  \\\n2022-01-03 04:00:00-05:00  69.750000  69.900000  68.010000  68.630000   \n2022-01-03 05:00:00-05:00  68.720000  69.050000  68.630000  69.020000   \n2022-01-03 06:00:00-05:00  68.920000  69.200000  68.840000  69.000000   \n2022-01-03 07:00:00-05:00  69.010000  69.700000  68.960000  69.350000   \n2022-01-03 08:00:00-05:00  69.340000  69.980000  69.210000  69.750000   \n...                              ...        ...        ...        ...   \n2022-06-29 15:30:00-04:00  64.669998  64.910004  64.489998  64.860001   \n2022-06-29 16:00:00-04:00  64.850000  64.980000  64.250000  64.920000   \n2022-06-29 17:00:00-04:00  64.850000  64.920000  64.760000  64.854000   \n2022-06-29 18:00:00-04:00  64.850000  64.920000  64.750100  64.920000   \n2022-06-29 19:00:00-04:00  64.900000  65.000000  64.520000  65.000000   \n\n                           Adj Close  Volume      time        date  \n2022-01-03 04:00:00-05:00  68.630000       0  04:00:00  2022-01-03  \n2022-01-03 05:00:00-05:00  69.020000       0  05:00:00  2022-01-03  \n2022-01-03 06:00:00-05:00  69.000000       0  06:00:00  2022-01-03  \n2022-01-03 07:00:00-05:00  69.350000       0  07:00:00  2022-01-03  \n2022-01-03 08:00:00-05:00  69.750000       0  08:00:00  2022-01-03  \n...                              ...     ...       ...         ...  \n2022-06-29 15:30:00-04:00  64.860001  879566  15:30:00  2022-06-29  \n2022-06-29 16:00:00-04:00  64.920000       0  16:00:00  2022-06-29  \n2022-06-29 17:00:00-04:00  64.854000       0  17:00:00  2022-06-29  \n2022-06-29 18:00:00-04:00  64.920000       0  18:00:00  2022-06-29  \n2022-06-29 19:00:00-04:00  65.000000       0  19:00:00  2022-06-29  \n\n[2042 rows x 8 columns]",
      "text/html": "<div>\n<style scoped>\n    .dataframe tbody tr th:only-of-type {\n        vertical-align: middle;\n    }\n\n    .dataframe tbody tr th {\n        vertical-align: top;\n    }\n\n    .dataframe thead th {\n        text-align: right;\n    }\n</style>\n<table border=\"1\" class=\"dataframe\">\n  <thead>\n    <tr style=\"text-align: right;\">\n      <th></th>\n      <th>Open</th>\n      <th>High</th>\n      <th>Low</th>\n      <th>Close</th>\n      <th>Adj Close</th>\n      <th>Volume</th>\n      <th>time</th>\n      <th>date</th>\n    </tr>\n  </thead>\n  <tbody>\n    <tr>\n      <th>2022-01-03 04:00:00-05:00</th>\n      <td>69.750000</td>\n      <td>69.900000</td>\n      <td>68.010000</td>\n      <td>68.630000</td>\n      <td>68.630000</td>\n      <td>0</td>\n      <td>04:00:00</td>\n      <td>2022-01-03</td>\n    </tr>\n    <tr>\n      <th>2022-01-03 05:00:00-05:00</th>\n      <td>68.720000</td>\n      <td>69.050000</td>\n      <td>68.630000</td>\n      <td>69.020000</td>\n      <td>69.020000</td>\n      <td>0</td>\n      <td>05:00:00</td>\n      <td>2022-01-03</td>\n    </tr>\n    <tr>\n      <th>2022-01-03 06:00:00-05:00</th>\n      <td>68.920000</td>\n      <td>69.200000</td>\n      <td>68.840000</td>\n      <td>69.000000</td>\n      <td>69.000000</td>\n      <td>0</td>\n      <td>06:00:00</td>\n      <td>2022-01-03</td>\n    </tr>\n    <tr>\n      <th>2022-01-03 07:00:00-05:00</th>\n      <td>69.010000</td>\n      <td>69.700000</td>\n      <td>68.960000</td>\n      <td>69.350000</td>\n      <td>69.350000</td>\n      <td>0</td>\n      <td>07:00:00</td>\n      <td>2022-01-03</td>\n    </tr>\n    <tr>\n      <th>2022-01-03 08:00:00-05:00</th>\n      <td>69.340000</td>\n      <td>69.980000</td>\n      <td>69.210000</td>\n      <td>69.750000</td>\n      <td>69.750000</td>\n      <td>0</td>\n      <td>08:00:00</td>\n      <td>2022-01-03</td>\n    </tr>\n    <tr>\n      <th>...</th>\n      <td>...</td>\n      <td>...</td>\n      <td>...</td>\n      <td>...</td>\n      <td>...</td>\n      <td>...</td>\n      <td>...</td>\n      <td>...</td>\n    </tr>\n    <tr>\n      <th>2022-06-29 15:30:00-04:00</th>\n      <td>64.669998</td>\n      <td>64.910004</td>\n      <td>64.489998</td>\n      <td>64.860001</td>\n      <td>64.860001</td>\n      <td>879566</td>\n      <td>15:30:00</td>\n      <td>2022-06-29</td>\n    </tr>\n    <tr>\n      <th>2022-06-29 16:00:00-04:00</th>\n      <td>64.850000</td>\n      <td>64.980000</td>\n      <td>64.250000</td>\n      <td>64.920000</td>\n      <td>64.920000</td>\n      <td>0</td>\n      <td>16:00:00</td>\n      <td>2022-06-29</td>\n    </tr>\n    <tr>\n      <th>2022-06-29 17:00:00-04:00</th>\n      <td>64.850000</td>\n      <td>64.920000</td>\n      <td>64.760000</td>\n      <td>64.854000</td>\n      <td>64.854000</td>\n      <td>0</td>\n      <td>17:00:00</td>\n      <td>2022-06-29</td>\n    </tr>\n    <tr>\n      <th>2022-06-29 18:00:00-04:00</th>\n      <td>64.850000</td>\n      <td>64.920000</td>\n      <td>64.750100</td>\n      <td>64.920000</td>\n      <td>64.920000</td>\n      <td>0</td>\n      <td>18:00:00</td>\n      <td>2022-06-29</td>\n    </tr>\n    <tr>\n      <th>2022-06-29 19:00:00-04:00</th>\n      <td>64.900000</td>\n      <td>65.000000</td>\n      <td>64.520000</td>\n      <td>65.000000</td>\n      <td>65.000000</td>\n      <td>0</td>\n      <td>19:00:00</td>\n      <td>2022-06-29</td>\n    </tr>\n  </tbody>\n</table>\n<p>2042 rows × 8 columns</p>\n</div>"
     },
     "execution_count": 32,
     "metadata": {},
     "output_type": "execute_result"
    }
   ],
   "source": [
    "jd_hist_calc_premarket"
   ]
  },
  {
   "cell_type": "code",
   "execution_count": 33,
   "metadata": {
    "pycharm": {
     "name": "#%%\n"
    }
   },
   "outputs": [],
   "source": [
    "jd_930_4 = jd_hist_calc_premarket[(jd_hist_calc_premarket.time == datetime.time(hour=4)) | (\n",
    "        jd_hist_calc_premarket.time == datetime.time(hour=9, minute=0))]"
   ]
  },
  {
   "cell_type": "code",
   "execution_count": 34,
   "metadata": {
    "pycharm": {
     "name": "#%%\n"
    }
   },
   "outputs": [
    {
     "data": {
      "text/plain": "                            Open   High    Low  Close  Adj Close  Volume  \\\n2022-01-03 04:00:00-05:00  69.75  69.90  68.01  68.63      68.63       0   \n2022-01-03 09:00:00-05:00  70.07  70.07  68.76  69.21      69.21       0   \n2022-01-04 04:00:00-05:00  68.60  68.61  67.73  68.01      68.01       0   \n2022-01-04 09:00:00-05:00  67.95  68.05  67.50  67.84      67.84       0   \n2022-01-05 04:00:00-05:00  63.68  63.70  63.00  63.30      63.30       0   \n...                          ...    ...    ...    ...        ...     ...   \n2022-06-27 09:00:00-04:00  66.73  67.30  64.01  67.02      67.02       0   \n2022-06-28 04:00:00-04:00  65.55  66.23  65.55  66.06      66.06       0   \n2022-06-28 09:00:00-04:00  65.65  66.29  65.58  65.75      65.75       0   \n2022-06-29 04:00:00-04:00  63.87  64.32  63.64  63.65      63.65       0   \n2022-06-29 09:00:00-04:00  64.63  64.70  63.53  63.79      63.79       0   \n\n                               time        date  \n2022-01-03 04:00:00-05:00  04:00:00  2022-01-03  \n2022-01-03 09:00:00-05:00  09:00:00  2022-01-03  \n2022-01-04 04:00:00-05:00  04:00:00  2022-01-04  \n2022-01-04 09:00:00-05:00  09:00:00  2022-01-04  \n2022-01-05 04:00:00-05:00  04:00:00  2022-01-05  \n...                             ...         ...  \n2022-06-27 09:00:00-04:00  09:00:00  2022-06-27  \n2022-06-28 04:00:00-04:00  04:00:00  2022-06-28  \n2022-06-28 09:00:00-04:00  09:00:00  2022-06-28  \n2022-06-29 04:00:00-04:00  04:00:00  2022-06-29  \n2022-06-29 09:00:00-04:00  09:00:00  2022-06-29  \n\n[246 rows x 8 columns]",
      "text/html": "<div>\n<style scoped>\n    .dataframe tbody tr th:only-of-type {\n        vertical-align: middle;\n    }\n\n    .dataframe tbody tr th {\n        vertical-align: top;\n    }\n\n    .dataframe thead th {\n        text-align: right;\n    }\n</style>\n<table border=\"1\" class=\"dataframe\">\n  <thead>\n    <tr style=\"text-align: right;\">\n      <th></th>\n      <th>Open</th>\n      <th>High</th>\n      <th>Low</th>\n      <th>Close</th>\n      <th>Adj Close</th>\n      <th>Volume</th>\n      <th>time</th>\n      <th>date</th>\n    </tr>\n  </thead>\n  <tbody>\n    <tr>\n      <th>2022-01-03 04:00:00-05:00</th>\n      <td>69.75</td>\n      <td>69.90</td>\n      <td>68.01</td>\n      <td>68.63</td>\n      <td>68.63</td>\n      <td>0</td>\n      <td>04:00:00</td>\n      <td>2022-01-03</td>\n    </tr>\n    <tr>\n      <th>2022-01-03 09:00:00-05:00</th>\n      <td>70.07</td>\n      <td>70.07</td>\n      <td>68.76</td>\n      <td>69.21</td>\n      <td>69.21</td>\n      <td>0</td>\n      <td>09:00:00</td>\n      <td>2022-01-03</td>\n    </tr>\n    <tr>\n      <th>2022-01-04 04:00:00-05:00</th>\n      <td>68.60</td>\n      <td>68.61</td>\n      <td>67.73</td>\n      <td>68.01</td>\n      <td>68.01</td>\n      <td>0</td>\n      <td>04:00:00</td>\n      <td>2022-01-04</td>\n    </tr>\n    <tr>\n      <th>2022-01-04 09:00:00-05:00</th>\n      <td>67.95</td>\n      <td>68.05</td>\n      <td>67.50</td>\n      <td>67.84</td>\n      <td>67.84</td>\n      <td>0</td>\n      <td>09:00:00</td>\n      <td>2022-01-04</td>\n    </tr>\n    <tr>\n      <th>2022-01-05 04:00:00-05:00</th>\n      <td>63.68</td>\n      <td>63.70</td>\n      <td>63.00</td>\n      <td>63.30</td>\n      <td>63.30</td>\n      <td>0</td>\n      <td>04:00:00</td>\n      <td>2022-01-05</td>\n    </tr>\n    <tr>\n      <th>...</th>\n      <td>...</td>\n      <td>...</td>\n      <td>...</td>\n      <td>...</td>\n      <td>...</td>\n      <td>...</td>\n      <td>...</td>\n      <td>...</td>\n    </tr>\n    <tr>\n      <th>2022-06-27 09:00:00-04:00</th>\n      <td>66.73</td>\n      <td>67.30</td>\n      <td>64.01</td>\n      <td>67.02</td>\n      <td>67.02</td>\n      <td>0</td>\n      <td>09:00:00</td>\n      <td>2022-06-27</td>\n    </tr>\n    <tr>\n      <th>2022-06-28 04:00:00-04:00</th>\n      <td>65.55</td>\n      <td>66.23</td>\n      <td>65.55</td>\n      <td>66.06</td>\n      <td>66.06</td>\n      <td>0</td>\n      <td>04:00:00</td>\n      <td>2022-06-28</td>\n    </tr>\n    <tr>\n      <th>2022-06-28 09:00:00-04:00</th>\n      <td>65.65</td>\n      <td>66.29</td>\n      <td>65.58</td>\n      <td>65.75</td>\n      <td>65.75</td>\n      <td>0</td>\n      <td>09:00:00</td>\n      <td>2022-06-28</td>\n    </tr>\n    <tr>\n      <th>2022-06-29 04:00:00-04:00</th>\n      <td>63.87</td>\n      <td>64.32</td>\n      <td>63.64</td>\n      <td>63.65</td>\n      <td>63.65</td>\n      <td>0</td>\n      <td>04:00:00</td>\n      <td>2022-06-29</td>\n    </tr>\n    <tr>\n      <th>2022-06-29 09:00:00-04:00</th>\n      <td>64.63</td>\n      <td>64.70</td>\n      <td>63.53</td>\n      <td>63.79</td>\n      <td>63.79</td>\n      <td>0</td>\n      <td>09:00:00</td>\n      <td>2022-06-29</td>\n    </tr>\n  </tbody>\n</table>\n<p>246 rows × 8 columns</p>\n</div>"
     },
     "execution_count": 34,
     "metadata": {},
     "output_type": "execute_result"
    }
   ],
   "source": [
    "jd_930_4"
   ]
  },
  {
   "cell_type": "code",
   "execution_count": 35,
   "metadata": {
    "pycharm": {
     "name": "#%%\n"
    }
   },
   "outputs": [],
   "source": [
    "temp = dict()\n",
    "for each_date in jd_930_4.date.unique():\n",
    "    pre_open = float(jd_930_4[(jd_930_4.time == datetime.time(hour=4)) & (jd_930_4.date == each_date)]['Open'])\n",
    "    pre_close = float(\n",
    "        jd_930_4[(jd_930_4.time == datetime.time(hour=9, minute=0)) & (jd_930_4.date == each_date)]['Close'])\n",
    "    temp[each_date] = (pre_close - pre_open) / pre_open"
   ]
  },
  {
   "cell_type": "code",
   "execution_count": 36,
   "metadata": {
    "pycharm": {
     "name": "#%%\n"
    }
   },
   "outputs": [],
   "source": [
    "jd_premarket_ret = pd.DataFrame.from_dict(data=temp, orient='index', columns=['Premarket Return'])"
   ]
  },
  {
   "cell_type": "code",
   "execution_count": 37,
   "metadata": {
    "pycharm": {
     "name": "#%%\n"
    }
   },
   "outputs": [
    {
     "data": {
      "text/plain": "            Premarket Return\n2022-01-03         -0.007742\n2022-01-04         -0.011079\n2022-01-05         -0.002513\n2022-01-06         -0.000766\n2022-01-07         -0.002631\n...                      ...\n2022-06-23          0.022951\n2022-06-24          0.002701\n2022-06-27          0.002393\n2022-06-28          0.003051\n2022-06-29         -0.001253\n\n[123 rows x 1 columns]",
      "text/html": "<div>\n<style scoped>\n    .dataframe tbody tr th:only-of-type {\n        vertical-align: middle;\n    }\n\n    .dataframe tbody tr th {\n        vertical-align: top;\n    }\n\n    .dataframe thead th {\n        text-align: right;\n    }\n</style>\n<table border=\"1\" class=\"dataframe\">\n  <thead>\n    <tr style=\"text-align: right;\">\n      <th></th>\n      <th>Premarket Return</th>\n    </tr>\n  </thead>\n  <tbody>\n    <tr>\n      <th>2022-01-03</th>\n      <td>-0.007742</td>\n    </tr>\n    <tr>\n      <th>2022-01-04</th>\n      <td>-0.011079</td>\n    </tr>\n    <tr>\n      <th>2022-01-05</th>\n      <td>-0.002513</td>\n    </tr>\n    <tr>\n      <th>2022-01-06</th>\n      <td>-0.000766</td>\n    </tr>\n    <tr>\n      <th>2022-01-07</th>\n      <td>-0.002631</td>\n    </tr>\n    <tr>\n      <th>...</th>\n      <td>...</td>\n    </tr>\n    <tr>\n      <th>2022-06-23</th>\n      <td>0.022951</td>\n    </tr>\n    <tr>\n      <th>2022-06-24</th>\n      <td>0.002701</td>\n    </tr>\n    <tr>\n      <th>2022-06-27</th>\n      <td>0.002393</td>\n    </tr>\n    <tr>\n      <th>2022-06-28</th>\n      <td>0.003051</td>\n    </tr>\n    <tr>\n      <th>2022-06-29</th>\n      <td>-0.001253</td>\n    </tr>\n  </tbody>\n</table>\n<p>123 rows × 1 columns</p>\n</div>"
     },
     "execution_count": 37,
     "metadata": {},
     "output_type": "execute_result"
    }
   ],
   "source": [
    "jd_premarket_ret"
   ]
  },
  {
   "cell_type": "code",
   "execution_count": 38,
   "metadata": {
    "pycharm": {
     "name": "#%%\n"
    }
   },
   "outputs": [],
   "source": [
    "jd_premarket_movement = jd_premarket_ret[abs(jd_premarket_ret['Premarket Return']) > 0.05].copy()"
   ]
  },
  {
   "cell_type": "code",
   "execution_count": 39,
   "metadata": {
    "pycharm": {
     "name": "#%%\n"
    }
   },
   "outputs": [
    {
     "data": {
      "text/plain": "            Premarket Return\n2022-03-10         -0.133987\n2022-03-14         -0.101483\n2022-03-16          0.139139\n2022-04-01          0.063487\n2022-04-29          0.114896",
      "text/html": "<div>\n<style scoped>\n    .dataframe tbody tr th:only-of-type {\n        vertical-align: middle;\n    }\n\n    .dataframe tbody tr th {\n        vertical-align: top;\n    }\n\n    .dataframe thead th {\n        text-align: right;\n    }\n</style>\n<table border=\"1\" class=\"dataframe\">\n  <thead>\n    <tr style=\"text-align: right;\">\n      <th></th>\n      <th>Premarket Return</th>\n    </tr>\n  </thead>\n  <tbody>\n    <tr>\n      <th>2022-03-10</th>\n      <td>-0.133987</td>\n    </tr>\n    <tr>\n      <th>2022-03-14</th>\n      <td>-0.101483</td>\n    </tr>\n    <tr>\n      <th>2022-03-16</th>\n      <td>0.139139</td>\n    </tr>\n    <tr>\n      <th>2022-04-01</th>\n      <td>0.063487</td>\n    </tr>\n    <tr>\n      <th>2022-04-29</th>\n      <td>0.114896</td>\n    </tr>\n  </tbody>\n</table>\n</div>"
     },
     "execution_count": 39,
     "metadata": {},
     "output_type": "execute_result"
    }
   ],
   "source": [
    "jd_premarket_movement"
   ]
  },
  {
   "cell_type": "markdown",
   "metadata": {
    "pycharm": {
     "name": "#%% md\n"
    }
   },
   "source": [
    "算9:30-10:30的收益"
   ]
  },
  {
   "cell_type": "code",
   "execution_count": 40,
   "metadata": {
    "pycharm": {
     "name": "#%%\n"
    }
   },
   "outputs": [],
   "source": [
    "jd_1030_930 = jd_hist_calc_premarket[jd_hist_calc_premarket.time == datetime.time(hour=9, minute=30)].copy()"
   ]
  },
  {
   "cell_type": "code",
   "execution_count": 41,
   "metadata": {
    "pycharm": {
     "name": "#%%\n"
    }
   },
   "outputs": [
    {
     "data": {
      "text/plain": "                                Open       High        Low      Close  \\\n2022-01-03 09:30:00-05:00  68.900002  69.489998  66.870003  67.440002   \n2022-01-04 09:30:00-05:00  67.699997  67.839996  63.560001  63.720001   \n2022-01-05 09:30:00-05:00  63.570000  65.169998  62.170399  65.000000   \n2022-01-06 09:30:00-05:00  65.250000  66.209999  63.665001  65.139999   \n2022-01-07 09:30:00-05:00  68.389999  69.680000  67.139999  68.290001   \n...                              ...        ...        ...        ...   \n2022-06-23 09:30:00-04:00  62.470001  64.029999  61.490002  63.139999   \n2022-06-24 09:30:00-04:00  63.090000  64.739998  62.599998  64.639999   \n2022-06-27 09:30:00-04:00  67.160004  68.290001  66.029999  66.480003   \n2022-06-28 09:30:00-04:00  65.699997  66.680000  65.239998  65.809998   \n2022-06-29 09:30:00-04:00  63.720001  64.900002  63.259899  64.449997   \n\n                           Adj Close   Volume      time        date  \n2022-01-03 09:30:00-05:00  67.440002  3780738  09:30:00  2022-01-03  \n2022-01-04 09:30:00-05:00  63.720001  6165040  09:30:00  2022-01-04  \n2022-01-05 09:30:00-05:00  65.000000  7134761  09:30:00  2022-01-05  \n2022-01-06 09:30:00-05:00  65.139999  4180441  09:30:00  2022-01-06  \n2022-01-07 09:30:00-05:00  68.290001  3412905  09:30:00  2022-01-07  \n...                              ...      ...       ...         ...  \n2022-06-23 09:30:00-04:00  63.139999  5110089  09:30:00  2022-06-23  \n2022-06-24 09:30:00-04:00  64.639999  3441802  09:30:00  2022-06-24  \n2022-06-27 09:30:00-04:00  66.480003  7224106  09:30:00  2022-06-27  \n2022-06-28 09:30:00-04:00  65.809998  2905732  09:30:00  2022-06-28  \n2022-06-29 09:30:00-04:00  64.449997  2298634  09:30:00  2022-06-29  \n\n[123 rows x 8 columns]",
      "text/html": "<div>\n<style scoped>\n    .dataframe tbody tr th:only-of-type {\n        vertical-align: middle;\n    }\n\n    .dataframe tbody tr th {\n        vertical-align: top;\n    }\n\n    .dataframe thead th {\n        text-align: right;\n    }\n</style>\n<table border=\"1\" class=\"dataframe\">\n  <thead>\n    <tr style=\"text-align: right;\">\n      <th></th>\n      <th>Open</th>\n      <th>High</th>\n      <th>Low</th>\n      <th>Close</th>\n      <th>Adj Close</th>\n      <th>Volume</th>\n      <th>time</th>\n      <th>date</th>\n    </tr>\n  </thead>\n  <tbody>\n    <tr>\n      <th>2022-01-03 09:30:00-05:00</th>\n      <td>68.900002</td>\n      <td>69.489998</td>\n      <td>66.870003</td>\n      <td>67.440002</td>\n      <td>67.440002</td>\n      <td>3780738</td>\n      <td>09:30:00</td>\n      <td>2022-01-03</td>\n    </tr>\n    <tr>\n      <th>2022-01-04 09:30:00-05:00</th>\n      <td>67.699997</td>\n      <td>67.839996</td>\n      <td>63.560001</td>\n      <td>63.720001</td>\n      <td>63.720001</td>\n      <td>6165040</td>\n      <td>09:30:00</td>\n      <td>2022-01-04</td>\n    </tr>\n    <tr>\n      <th>2022-01-05 09:30:00-05:00</th>\n      <td>63.570000</td>\n      <td>65.169998</td>\n      <td>62.170399</td>\n      <td>65.000000</td>\n      <td>65.000000</td>\n      <td>7134761</td>\n      <td>09:30:00</td>\n      <td>2022-01-05</td>\n    </tr>\n    <tr>\n      <th>2022-01-06 09:30:00-05:00</th>\n      <td>65.250000</td>\n      <td>66.209999</td>\n      <td>63.665001</td>\n      <td>65.139999</td>\n      <td>65.139999</td>\n      <td>4180441</td>\n      <td>09:30:00</td>\n      <td>2022-01-06</td>\n    </tr>\n    <tr>\n      <th>2022-01-07 09:30:00-05:00</th>\n      <td>68.389999</td>\n      <td>69.680000</td>\n      <td>67.139999</td>\n      <td>68.290001</td>\n      <td>68.290001</td>\n      <td>3412905</td>\n      <td>09:30:00</td>\n      <td>2022-01-07</td>\n    </tr>\n    <tr>\n      <th>...</th>\n      <td>...</td>\n      <td>...</td>\n      <td>...</td>\n      <td>...</td>\n      <td>...</td>\n      <td>...</td>\n      <td>...</td>\n      <td>...</td>\n    </tr>\n    <tr>\n      <th>2022-06-23 09:30:00-04:00</th>\n      <td>62.470001</td>\n      <td>64.029999</td>\n      <td>61.490002</td>\n      <td>63.139999</td>\n      <td>63.139999</td>\n      <td>5110089</td>\n      <td>09:30:00</td>\n      <td>2022-06-23</td>\n    </tr>\n    <tr>\n      <th>2022-06-24 09:30:00-04:00</th>\n      <td>63.090000</td>\n      <td>64.739998</td>\n      <td>62.599998</td>\n      <td>64.639999</td>\n      <td>64.639999</td>\n      <td>3441802</td>\n      <td>09:30:00</td>\n      <td>2022-06-24</td>\n    </tr>\n    <tr>\n      <th>2022-06-27 09:30:00-04:00</th>\n      <td>67.160004</td>\n      <td>68.290001</td>\n      <td>66.029999</td>\n      <td>66.480003</td>\n      <td>66.480003</td>\n      <td>7224106</td>\n      <td>09:30:00</td>\n      <td>2022-06-27</td>\n    </tr>\n    <tr>\n      <th>2022-06-28 09:30:00-04:00</th>\n      <td>65.699997</td>\n      <td>66.680000</td>\n      <td>65.239998</td>\n      <td>65.809998</td>\n      <td>65.809998</td>\n      <td>2905732</td>\n      <td>09:30:00</td>\n      <td>2022-06-28</td>\n    </tr>\n    <tr>\n      <th>2022-06-29 09:30:00-04:00</th>\n      <td>63.720001</td>\n      <td>64.900002</td>\n      <td>63.259899</td>\n      <td>64.449997</td>\n      <td>64.449997</td>\n      <td>2298634</td>\n      <td>09:30:00</td>\n      <td>2022-06-29</td>\n    </tr>\n  </tbody>\n</table>\n<p>123 rows × 8 columns</p>\n</div>"
     },
     "execution_count": 41,
     "metadata": {},
     "output_type": "execute_result"
    }
   ],
   "source": [
    "jd_1030_930"
   ]
  },
  {
   "cell_type": "code",
   "execution_count": 42,
   "metadata": {
    "pycharm": {
     "name": "#%%\n"
    }
   },
   "outputs": [],
   "source": [
    "jd_1030_930['return'] = (jd_1030_930['Close'] - jd_1030_930['Open']) / jd_1030_930['Open']"
   ]
  },
  {
   "cell_type": "code",
   "execution_count": 43,
   "metadata": {
    "pycharm": {
     "name": "#%%\n"
    }
   },
   "outputs": [],
   "source": [
    "jd_first_hour = jd_1030_930[abs(jd_1030_930['return']) > 0.05][['date', 'return']]"
   ]
  },
  {
   "cell_type": "code",
   "execution_count": 44,
   "metadata": {
    "pycharm": {
     "name": "#%%\n"
    }
   },
   "outputs": [
    {
     "data": {
      "text/plain": "              return\ndate                \n2022-01-04 -0.058789\n2022-01-11  0.053521\n2022-03-11 -0.076084\n2022-03-14  0.052007\n2022-03-15  0.145053\n2022-03-18  0.067517\n2022-03-21 -0.065461\n2022-05-09 -0.058505",
      "text/html": "<div>\n<style scoped>\n    .dataframe tbody tr th:only-of-type {\n        vertical-align: middle;\n    }\n\n    .dataframe tbody tr th {\n        vertical-align: top;\n    }\n\n    .dataframe thead th {\n        text-align: right;\n    }\n</style>\n<table border=\"1\" class=\"dataframe\">\n  <thead>\n    <tr style=\"text-align: right;\">\n      <th></th>\n      <th>return</th>\n    </tr>\n    <tr>\n      <th>date</th>\n      <th></th>\n    </tr>\n  </thead>\n  <tbody>\n    <tr>\n      <th>2022-01-04</th>\n      <td>-0.058789</td>\n    </tr>\n    <tr>\n      <th>2022-01-11</th>\n      <td>0.053521</td>\n    </tr>\n    <tr>\n      <th>2022-03-11</th>\n      <td>-0.076084</td>\n    </tr>\n    <tr>\n      <th>2022-03-14</th>\n      <td>0.052007</td>\n    </tr>\n    <tr>\n      <th>2022-03-15</th>\n      <td>0.145053</td>\n    </tr>\n    <tr>\n      <th>2022-03-18</th>\n      <td>0.067517</td>\n    </tr>\n    <tr>\n      <th>2022-03-21</th>\n      <td>-0.065461</td>\n    </tr>\n    <tr>\n      <th>2022-05-09</th>\n      <td>-0.058505</td>\n    </tr>\n  </tbody>\n</table>\n</div>"
     },
     "execution_count": 44,
     "metadata": {},
     "output_type": "execute_result"
    }
   ],
   "source": [
    "jd_first_hour.set_index('date')"
   ]
  },
  {
   "cell_type": "markdown",
   "source": [
    "↑ 上面算完了pre-market和9:30-10:30的，接下来算第二天卖掉的收益\n",
    "1. 拿到第二天的日期（要一个日期list）\n",
    "2. 把 premarket 和第一个小时的分开\n",
    "3."
   ],
   "metadata": {
    "collapsed": false,
    "pycharm": {
     "name": "#%% md\n"
    }
   }
  },
  {
   "cell_type": "code",
   "execution_count": 45,
   "outputs": [
    {
     "name": "stdout",
     "output_type": "stream",
     "text": [
      "[*********************100%***********************]  1 of 1 completed\n"
     ]
    }
   ],
   "source": [
    "# trading days list\n",
    "trading_days = list(yf.download('^GSPC', start='2018-01-01', interval='1d').index.date)"
   ],
   "metadata": {
    "collapsed": false,
    "pycharm": {
     "name": "#%%\n"
    }
   }
  },
  {
   "cell_type": "code",
   "execution_count": 46,
   "outputs": [],
   "source": [
    "def get_next_trading_date(curr_date):\n",
    "    return trading_days[trading_days.index(curr_date) + 1]"
   ],
   "metadata": {
    "collapsed": false,
    "pycharm": {
     "name": "#%%\n"
    }
   }
  },
  {
   "cell_type": "code",
   "execution_count": 47,
   "outputs": [
    {
     "name": "stdout",
     "output_type": "stream",
     "text": [
      "2018-01-04\n"
     ]
    }
   ],
   "source": [
    "print(get_next_trading_date(datetime.date(2018, 1, 3)))"
   ],
   "metadata": {
    "collapsed": false,
    "pycharm": {
     "name": "#%%\n"
    }
   }
  },
  {
   "cell_type": "code",
   "execution_count": 48,
   "outputs": [],
   "source": [
    "jd_first_hour['next_trading_date'] = jd_first_hour.apply(lambda d: get_next_trading_date(d.name.date()), axis=1)"
   ],
   "metadata": {
    "collapsed": false,
    "pycharm": {
     "name": "#%%\n"
    }
   }
  },
  {
   "cell_type": "code",
   "execution_count": 49,
   "outputs": [],
   "source": [
    "jd_first_hour['this_1030'] = jd_first_hour.apply(lambda row: jd_hist_calc_premarket[\n",
    "    (jd_hist_calc_premarket['date'] == row['date']) & (\n",
    "            jd_hist_calc_premarket['time'] == datetime.time(hour=10, minute=30))].iloc[0, 0], axis=1)\n",
    "# iloc[0,0]: 取10:30的open"
   ],
   "metadata": {
    "collapsed": false,
    "pycharm": {
     "name": "#%%\n"
    }
   }
  },
  {
   "cell_type": "code",
   "execution_count": 50,
   "outputs": [
    {
     "data": {
      "text/plain": "                                Open       High        Low      Close  \\\n2022-01-03 04:00:00-05:00  69.750000  69.900000  68.010000  68.630000   \n2022-01-03 05:00:00-05:00  68.720000  69.050000  68.630000  69.020000   \n2022-01-03 06:00:00-05:00  68.920000  69.200000  68.840000  69.000000   \n2022-01-03 07:00:00-05:00  69.010000  69.700000  68.960000  69.350000   \n2022-01-03 08:00:00-05:00  69.340000  69.980000  69.210000  69.750000   \n...                              ...        ...        ...        ...   \n2022-06-29 15:30:00-04:00  64.669998  64.910004  64.489998  64.860001   \n2022-06-29 16:00:00-04:00  64.850000  64.980000  64.250000  64.920000   \n2022-06-29 17:00:00-04:00  64.850000  64.920000  64.760000  64.854000   \n2022-06-29 18:00:00-04:00  64.850000  64.920000  64.750100  64.920000   \n2022-06-29 19:00:00-04:00  64.900000  65.000000  64.520000  65.000000   \n\n                           Adj Close  Volume      time        date  \n2022-01-03 04:00:00-05:00  68.630000       0  04:00:00  2022-01-03  \n2022-01-03 05:00:00-05:00  69.020000       0  05:00:00  2022-01-03  \n2022-01-03 06:00:00-05:00  69.000000       0  06:00:00  2022-01-03  \n2022-01-03 07:00:00-05:00  69.350000       0  07:00:00  2022-01-03  \n2022-01-03 08:00:00-05:00  69.750000       0  08:00:00  2022-01-03  \n...                              ...     ...       ...         ...  \n2022-06-29 15:30:00-04:00  64.860001  879566  15:30:00  2022-06-29  \n2022-06-29 16:00:00-04:00  64.920000       0  16:00:00  2022-06-29  \n2022-06-29 17:00:00-04:00  64.854000       0  17:00:00  2022-06-29  \n2022-06-29 18:00:00-04:00  64.920000       0  18:00:00  2022-06-29  \n2022-06-29 19:00:00-04:00  65.000000       0  19:00:00  2022-06-29  \n\n[2042 rows x 8 columns]",
      "text/html": "<div>\n<style scoped>\n    .dataframe tbody tr th:only-of-type {\n        vertical-align: middle;\n    }\n\n    .dataframe tbody tr th {\n        vertical-align: top;\n    }\n\n    .dataframe thead th {\n        text-align: right;\n    }\n</style>\n<table border=\"1\" class=\"dataframe\">\n  <thead>\n    <tr style=\"text-align: right;\">\n      <th></th>\n      <th>Open</th>\n      <th>High</th>\n      <th>Low</th>\n      <th>Close</th>\n      <th>Adj Close</th>\n      <th>Volume</th>\n      <th>time</th>\n      <th>date</th>\n    </tr>\n  </thead>\n  <tbody>\n    <tr>\n      <th>2022-01-03 04:00:00-05:00</th>\n      <td>69.750000</td>\n      <td>69.900000</td>\n      <td>68.010000</td>\n      <td>68.630000</td>\n      <td>68.630000</td>\n      <td>0</td>\n      <td>04:00:00</td>\n      <td>2022-01-03</td>\n    </tr>\n    <tr>\n      <th>2022-01-03 05:00:00-05:00</th>\n      <td>68.720000</td>\n      <td>69.050000</td>\n      <td>68.630000</td>\n      <td>69.020000</td>\n      <td>69.020000</td>\n      <td>0</td>\n      <td>05:00:00</td>\n      <td>2022-01-03</td>\n    </tr>\n    <tr>\n      <th>2022-01-03 06:00:00-05:00</th>\n      <td>68.920000</td>\n      <td>69.200000</td>\n      <td>68.840000</td>\n      <td>69.000000</td>\n      <td>69.000000</td>\n      <td>0</td>\n      <td>06:00:00</td>\n      <td>2022-01-03</td>\n    </tr>\n    <tr>\n      <th>2022-01-03 07:00:00-05:00</th>\n      <td>69.010000</td>\n      <td>69.700000</td>\n      <td>68.960000</td>\n      <td>69.350000</td>\n      <td>69.350000</td>\n      <td>0</td>\n      <td>07:00:00</td>\n      <td>2022-01-03</td>\n    </tr>\n    <tr>\n      <th>2022-01-03 08:00:00-05:00</th>\n      <td>69.340000</td>\n      <td>69.980000</td>\n      <td>69.210000</td>\n      <td>69.750000</td>\n      <td>69.750000</td>\n      <td>0</td>\n      <td>08:00:00</td>\n      <td>2022-01-03</td>\n    </tr>\n    <tr>\n      <th>...</th>\n      <td>...</td>\n      <td>...</td>\n      <td>...</td>\n      <td>...</td>\n      <td>...</td>\n      <td>...</td>\n      <td>...</td>\n      <td>...</td>\n    </tr>\n    <tr>\n      <th>2022-06-29 15:30:00-04:00</th>\n      <td>64.669998</td>\n      <td>64.910004</td>\n      <td>64.489998</td>\n      <td>64.860001</td>\n      <td>64.860001</td>\n      <td>879566</td>\n      <td>15:30:00</td>\n      <td>2022-06-29</td>\n    </tr>\n    <tr>\n      <th>2022-06-29 16:00:00-04:00</th>\n      <td>64.850000</td>\n      <td>64.980000</td>\n      <td>64.250000</td>\n      <td>64.920000</td>\n      <td>64.920000</td>\n      <td>0</td>\n      <td>16:00:00</td>\n      <td>2022-06-29</td>\n    </tr>\n    <tr>\n      <th>2022-06-29 17:00:00-04:00</th>\n      <td>64.850000</td>\n      <td>64.920000</td>\n      <td>64.760000</td>\n      <td>64.854000</td>\n      <td>64.854000</td>\n      <td>0</td>\n      <td>17:00:00</td>\n      <td>2022-06-29</td>\n    </tr>\n    <tr>\n      <th>2022-06-29 18:00:00-04:00</th>\n      <td>64.850000</td>\n      <td>64.920000</td>\n      <td>64.750100</td>\n      <td>64.920000</td>\n      <td>64.920000</td>\n      <td>0</td>\n      <td>18:00:00</td>\n      <td>2022-06-29</td>\n    </tr>\n    <tr>\n      <th>2022-06-29 19:00:00-04:00</th>\n      <td>64.900000</td>\n      <td>65.000000</td>\n      <td>64.520000</td>\n      <td>65.000000</td>\n      <td>65.000000</td>\n      <td>0</td>\n      <td>19:00:00</td>\n      <td>2022-06-29</td>\n    </tr>\n  </tbody>\n</table>\n<p>2042 rows × 8 columns</p>\n</div>"
     },
     "execution_count": 50,
     "metadata": {},
     "output_type": "execute_result"
    }
   ],
   "source": [
    "jd_hist_calc_premarket"
   ],
   "metadata": {
    "collapsed": false,
    "pycharm": {
     "name": "#%%\n"
    }
   }
  },
  {
   "cell_type": "code",
   "execution_count": 51,
   "outputs": [],
   "source": [
    "# 取10:30的open\n",
    "# jd_first_hour.apply(lambda row: jd_hist_calc_premarket[(jd_hist_calc_premarket['date']==row['date']) & (jd_hist_calc_premarket['time']==datetime.time(hour=10,minute=30))].iloc[0,0],axis=1)\n"
   ],
   "metadata": {
    "collapsed": false,
    "pycharm": {
     "name": "#%%\n"
    }
   }
  },
  {
   "cell_type": "code",
   "execution_count": 52,
   "outputs": [],
   "source": [
    "jd_first_hour['next_1030'] = jd_first_hour.apply(lambda row: jd_hist_calc_premarket[\n",
    "    (jd_hist_calc_premarket['date'] == row['next_trading_date']) & (\n",
    "            jd_hist_calc_premarket['time'] == datetime.time(hour=10, minute=30))].iloc[0, 0], axis=1)"
   ],
   "metadata": {
    "collapsed": false,
    "pycharm": {
     "name": "#%%\n"
    }
   }
  },
  {
   "cell_type": "code",
   "execution_count": 53,
   "outputs": [],
   "source": [
    "jd_first_hour['strategy_return'] = (jd_first_hour.next_1030 - jd_first_hour.this_1030) / jd_first_hour.this_1030"
   ],
   "metadata": {
    "collapsed": false,
    "pycharm": {
     "name": "#%%\n"
    }
   }
  },
  {
   "cell_type": "code",
   "execution_count": 54,
   "outputs": [
    {
     "data": {
      "text/plain": "                                 date    return next_trading_date  this_1030  \\\n2022-01-04 09:30:00-05:00  2022-01-04 -0.058789        2022-01-05  63.730000   \n2022-03-11 09:30:00-05:00  2022-03-11 -0.076084        2022-03-14  49.790001   \n2022-03-21 09:30:00-04:00  2022-03-21 -0.065461        2022-03-22  58.430000   \n2022-05-09 09:30:00-04:00  2022-05-09 -0.058505        2022-05-10  50.549999   \n\n                           next_1030  strategy_return  \n2022-01-04 09:30:00-05:00  65.000000         0.019928  \n2022-03-11 09:30:00-05:00  45.230000        -0.091585  \n2022-03-21 09:30:00-04:00  64.750000         0.108164  \n2022-05-09 09:30:00-04:00  52.869999         0.045895  ",
      "text/html": "<div>\n<style scoped>\n    .dataframe tbody tr th:only-of-type {\n        vertical-align: middle;\n    }\n\n    .dataframe tbody tr th {\n        vertical-align: top;\n    }\n\n    .dataframe thead th {\n        text-align: right;\n    }\n</style>\n<table border=\"1\" class=\"dataframe\">\n  <thead>\n    <tr style=\"text-align: right;\">\n      <th></th>\n      <th>date</th>\n      <th>return</th>\n      <th>next_trading_date</th>\n      <th>this_1030</th>\n      <th>next_1030</th>\n      <th>strategy_return</th>\n    </tr>\n  </thead>\n  <tbody>\n    <tr>\n      <th>2022-01-04 09:30:00-05:00</th>\n      <td>2022-01-04</td>\n      <td>-0.058789</td>\n      <td>2022-01-05</td>\n      <td>63.730000</td>\n      <td>65.000000</td>\n      <td>0.019928</td>\n    </tr>\n    <tr>\n      <th>2022-03-11 09:30:00-05:00</th>\n      <td>2022-03-11</td>\n      <td>-0.076084</td>\n      <td>2022-03-14</td>\n      <td>49.790001</td>\n      <td>45.230000</td>\n      <td>-0.091585</td>\n    </tr>\n    <tr>\n      <th>2022-03-21 09:30:00-04:00</th>\n      <td>2022-03-21</td>\n      <td>-0.065461</td>\n      <td>2022-03-22</td>\n      <td>58.430000</td>\n      <td>64.750000</td>\n      <td>0.108164</td>\n    </tr>\n    <tr>\n      <th>2022-05-09 09:30:00-04:00</th>\n      <td>2022-05-09</td>\n      <td>-0.058505</td>\n      <td>2022-05-10</td>\n      <td>50.549999</td>\n      <td>52.869999</td>\n      <td>0.045895</td>\n    </tr>\n  </tbody>\n</table>\n</div>"
     },
     "execution_count": 54,
     "metadata": {},
     "output_type": "execute_result"
    }
   ],
   "source": [
    "# 只看前一天跌了的\n",
    "jd_first_hour[jd_first_hour['return'] < 0]"
   ],
   "metadata": {
    "collapsed": false,
    "pycharm": {
     "name": "#%%\n"
    }
   }
  },
  {
   "cell_type": "code",
   "execution_count": 55,
   "outputs": [
    {
     "data": {
      "text/plain": "            Premarket Return\n2022-03-10         -0.133987\n2022-03-14         -0.101483",
      "text/html": "<div>\n<style scoped>\n    .dataframe tbody tr th:only-of-type {\n        vertical-align: middle;\n    }\n\n    .dataframe tbody tr th {\n        vertical-align: top;\n    }\n\n    .dataframe thead th {\n        text-align: right;\n    }\n</style>\n<table border=\"1\" class=\"dataframe\">\n  <thead>\n    <tr style=\"text-align: right;\">\n      <th></th>\n      <th>Premarket Return</th>\n    </tr>\n  </thead>\n  <tbody>\n    <tr>\n      <th>2022-03-10</th>\n      <td>-0.133987</td>\n    </tr>\n    <tr>\n      <th>2022-03-14</th>\n      <td>-0.101483</td>\n    </tr>\n  </tbody>\n</table>\n</div>"
     },
     "execution_count": 55,
     "metadata": {},
     "output_type": "execute_result"
    }
   ],
   "source": [
    "# premarket重复一遍类似的\n",
    "jd_premarket_movement[jd_premarket_movement['Premarket Return']<0]"
   ],
   "metadata": {
    "collapsed": false,
    "pycharm": {
     "name": "#%%\n"
    }
   }
  },
  {
   "cell_type": "code",
   "execution_count": 56,
   "outputs": [],
   "source": [
    "jd_premarket_movement['next_trading_date'] = jd_premarket_movement.apply(lambda d: get_next_trading_date(d.name),\n",
    "                                                                         axis=1)\n",
    "jd_premarket_movement['this_1030'] = jd_premarket_movement.apply(lambda row: jd_hist_calc_premarket[\n",
    "    (jd_hist_calc_premarket['date'] == row.name) &\n",
    "    (jd_hist_calc_premarket['time'] == datetime.time(hour=10, minute=30))\n",
    "    ].iloc[0, 0], axis=1)\n",
    "jd_premarket_movement['next_1030'] = jd_premarket_movement.apply(lambda row: jd_hist_calc_premarket[\n",
    "    (jd_hist_calc_premarket['date'] == row['next_trading_date']) & (\n",
    "            jd_hist_calc_premarket['time'] == datetime.time(hour=10, minute=30))].iloc[0, 0], axis=1)"
   ],
   "metadata": {
    "collapsed": false,
    "pycharm": {
     "name": "#%%\n"
    }
   }
  },
  {
   "cell_type": "code",
   "execution_count": 57,
   "outputs": [],
   "source": [
    "jd_premarket_movement['strategy_return'] = (jd_premarket_movement.next_1030 - jd_premarket_movement.this_1030) / jd_premarket_movement.this_1030"
   ],
   "metadata": {
    "collapsed": false,
    "pycharm": {
     "name": "#%%\n"
    }
   }
  },
  {
   "cell_type": "markdown",
   "source": [
    "# 准备批量处理数据\n",
    "call一次API，拆分数据，存到一个dict"
   ],
   "metadata": {
    "collapsed": false,
    "pycharm": {
     "name": "#%% md\n"
    }
   }
  },
  {
   "cell_type": "code",
   "execution_count": 58,
   "outputs": [],
   "source": [
    "tickers = list(stock_list['Ticker'].head(10))"
   ],
   "metadata": {
    "collapsed": false,
    "pycharm": {
     "name": "#%%\n"
    }
   }
  },
  {
   "cell_type": "code",
   "execution_count": 59,
   "outputs": [
    {
     "name": "stdout",
     "output_type": "stream",
     "text": [
      "[*********************100%***********************]  10 of 10 completed\n"
     ]
    }
   ],
   "source": [
    "temp = yf.download(tickers,start='2022-11-14',end='2022-11-18',interval='1h')"
   ],
   "metadata": {
    "collapsed": false,
    "pycharm": {
     "name": "#%%\n"
    }
   }
  },
  {
   "cell_type": "code",
   "execution_count": 60,
   "outputs": [
    {
     "data": {
      "text/plain": "                            Adj Close                                \\\n                                 BIDU       BILI       FUTU      IQ   \n2022-11-14 09:30:00-05:00   91.169998  13.110000  48.564999  2.7250   \n2022-11-14 10:30:00-05:00   91.830002  13.040000  48.669998  2.7350   \n2022-11-14 11:30:00-05:00   91.639999  13.020000  48.959999  2.7100   \n2022-11-14 12:30:00-05:00   91.870003  13.120000  49.439999  2.7299   \n2022-11-14 13:30:00-05:00   92.519997  13.080000  49.119999  2.7390   \n2022-11-14 14:30:00-05:00   92.480003  13.065000  49.180000  2.7150   \n2022-11-14 15:30:00-05:00   91.459999  12.880000  49.009998  2.6600   \n2022-11-15 09:30:00-05:00   98.064598  15.639700  52.080002  3.0100   \n2022-11-15 10:30:00-05:00   99.745003  16.180000  51.380001  3.1000   \n2022-11-15 11:30:00-05:00  101.190002  16.660000  53.320000  3.2093   \n2022-11-15 12:30:00-05:00   99.669998  16.280001  52.785000  3.1705   \n2022-11-15 13:30:00-05:00   99.559998  16.378000  53.549999  3.1600   \n2022-11-15 14:30:00-05:00   99.980003  16.410000  53.549999  3.1200   \n2022-11-15 15:30:00-05:00   99.760002  16.280001  53.840000  3.0950   \n2022-11-16 09:30:00-05:00   95.629997  15.925000  51.240002  2.8615   \n2022-11-16 10:30:00-05:00   94.970001  15.595000  51.145000  2.7900   \n2022-11-16 11:30:00-05:00   94.620003  15.400000  50.645000  2.8000   \n2022-11-16 12:30:00-05:00   95.080002  15.820000  50.665001  2.8400   \n2022-11-16 13:30:00-05:00   94.839996  15.725000  50.630001  2.8750   \n2022-11-16 14:30:00-05:00   94.629997  15.490000  50.474998  2.8550   \n2022-11-16 15:30:00-05:00   94.750000  15.460000  50.360001  2.8600   \n2022-11-17 09:30:00-05:00   97.849998  16.219999  52.320000  2.9100   \n2022-11-17 10:30:00-05:00   98.410004  15.995000  53.224998  2.9350   \n2022-11-17 11:30:00-05:00   98.889999  15.865000  52.455002  2.9400   \n2022-11-17 12:30:00-05:00   99.260002  15.849900  52.770000  2.9600   \n2022-11-17 13:30:00-05:00   98.660004  15.549400  52.380001  2.9650   \n2022-11-17 14:30:00-05:00   98.669998  15.640000  52.131901  2.9400   \n2022-11-17 15:30:00-05:00   99.620003  15.800000  52.259998  2.9597   \n\n                                                                       \\\n                                  JD         LI       NTES        PDD   \n2022-11-14 09:30:00-05:00  51.279999  18.790001  65.669998  65.320000   \n2022-11-14 10:30:00-05:00  51.380001  18.295000  65.925003  65.455002   \n2022-11-14 11:30:00-05:00  51.389999  18.280001  65.660004  65.709999   \n2022-11-14 12:30:00-05:00  51.217701  18.305000  65.669998  65.529999   \n2022-11-14 13:30:00-05:00  51.369999  18.344999  65.870003  65.510002   \n2022-11-14 14:30:00-05:00  51.070000  18.129999  65.559998  65.510002   \n2022-11-14 15:30:00-05:00  50.840000  17.969999  65.300003  65.410004   \n2022-11-15 09:30:00-05:00  55.470001  19.170000  70.559998  71.120003   \n2022-11-15 10:30:00-05:00  54.849998  19.531200  71.934998  71.449997   \n2022-11-15 11:30:00-05:00  54.930000  19.240000  72.355003  72.059998   \n2022-11-15 12:30:00-05:00  54.259998  18.885000  71.550003  71.372002   \n2022-11-15 13:30:00-05:00  54.259998  19.040001  71.894997  71.230003   \n2022-11-15 14:30:00-05:00  54.465000  18.905001  72.165001  71.120003   \n2022-11-15 15:30:00-05:00  54.480000  18.940001  71.610001  70.949997   \n2022-11-16 09:30:00-05:00  53.220001  17.715000  73.419998  68.209999   \n2022-11-16 10:30:00-05:00  53.580002  17.865000  72.730003  67.989998   \n2022-11-16 11:30:00-05:00  53.490002  17.815001  71.820000  68.160004   \n2022-11-16 12:30:00-05:00  53.580002  17.805000  71.610001  68.070000   \n2022-11-16 13:30:00-05:00  53.470001  17.795000  71.459999  67.800003   \n2022-11-16 14:30:00-05:00  53.485001  17.700001  71.430000  67.834999   \n2022-11-16 15:30:00-05:00  53.490002  17.760000  71.330002  67.570000   \n2022-11-17 09:30:00-05:00  56.020000  17.915001  73.809998  70.830002   \n2022-11-17 10:30:00-05:00  56.299999  17.990000  71.379997  71.250000   \n2022-11-17 11:30:00-05:00  56.880001  18.110001  70.739998  70.690002   \n2022-11-17 12:30:00-05:00  57.701698  18.299999  70.959999  70.500000   \n2022-11-17 13:30:00-05:00  57.169998  18.090000  70.660004  70.099998   \n2022-11-17 14:30:00-05:00  57.529999  18.190001  71.199997  70.150002   \n2022-11-17 15:30:00-05:00  57.520000  18.370001  71.029999  70.519997   \n\n                                               ...   Volume                    \\\n                                TCOM       WB  ...     BIDU     BILI     FUTU   \n2022-11-14 09:30:00-05:00  28.230000  13.9850  ...   665184  3497116  1414322   \n2022-11-14 10:30:00-05:00  28.200001  13.9100  ...   617787  1088872   761753   \n2022-11-14 11:30:00-05:00  28.230000  13.8975  ...   318208   601742   189044   \n2022-11-14 12:30:00-05:00  28.240000  13.8550  ...   154888   365177   119648   \n2022-11-14 13:30:00-05:00  28.135000  13.9050  ...   138920   343533   192309   \n2022-11-14 14:30:00-05:00  28.055000  13.8850  ...   294874   476738   129173   \n2022-11-14 15:30:00-05:00  27.730000  13.7500  ...   405736   625043   231841   \n2022-11-15 09:30:00-05:00  29.780001  14.8450  ...  1735293  7170883  2828125   \n2022-11-15 10:30:00-05:00  29.969999  15.2800  ...   918513  5694345   641899   \n2022-11-15 11:30:00-05:00  30.120001  15.6500  ...   790283  3206886   581693   \n2022-11-15 12:30:00-05:00  29.690001  15.3550  ...   626453  2699973   374794   \n2022-11-15 13:30:00-05:00  29.400000  15.3500  ...   621089  2150758   268278   \n2022-11-15 14:30:00-05:00  29.285000  15.3900  ...   454332  1364063   182129   \n2022-11-15 15:30:00-05:00  29.299999  15.3300  ...   680560  2200078   351100   \n2022-11-16 09:30:00-05:00  29.160000  14.9000  ...   950743  6705836  1064611   \n2022-11-16 10:30:00-05:00  29.200001  14.8000  ...   449891  2106023   400284   \n2022-11-16 11:30:00-05:00  29.570000  14.6200  ...   210297   893880   335031   \n2022-11-16 12:30:00-05:00  29.160000  14.7900  ...   263290  1169120   213616   \n2022-11-16 13:30:00-05:00  28.965000  14.8150  ...   191247   696407   271023   \n2022-11-16 14:30:00-05:00  29.020000  14.7650  ...   211681   647233   190726   \n2022-11-16 15:30:00-05:00  28.750000  14.8500  ...   413330  1183445   279624   \n2022-11-17 09:30:00-05:00  29.590000  14.1900  ...  1135089  5366461  1072087   \n2022-11-17 10:30:00-05:00  29.650000  14.8700  ...   537768  2543623   750560   \n2022-11-17 11:30:00-05:00  29.459999  15.3800  ...   425512  1403986   248312   \n2022-11-17 12:30:00-05:00  29.490000  15.7700  ...   175185   931307   142734   \n2022-11-17 13:30:00-05:00  29.155001  15.9000  ...   212366   841994   132426   \n2022-11-17 14:30:00-05:00  29.110001  15.7450  ...   288763  1068525   162991   \n2022-11-17 15:30:00-05:00  29.170000  15.9050  ...   366265  1390571   234709   \n\n                                                                        \\\n                                IQ       JD       LI     NTES      PDD   \n2022-11-14 09:30:00-05:00  5214904  4642935  4754699   377585  5676797   \n2022-11-14 10:30:00-05:00  1177465  1750419  1547755   185084  1374029   \n2022-11-14 11:30:00-05:00   814400  1411555   759246   134492  1080760   \n2022-11-14 12:30:00-05:00   329466   555166   492668    81616   527792   \n2022-11-14 13:30:00-05:00   410907   724087   543665    92728  1908686   \n2022-11-14 14:30:00-05:00   544696  1134743   913573   110514   526850   \n2022-11-14 15:30:00-05:00  1108976  1972526  1416993   270589  1055634   \n2022-11-15 09:30:00-05:00  9189825  4640724  4476117   927300  7360175   \n2022-11-15 10:30:00-05:00  5479054  1915564  1914626   528642  1803566   \n2022-11-15 11:30:00-05:00  2039656  1305327  1458836   341045  1711582   \n2022-11-15 12:30:00-05:00  1863974   841822   861490   221501  1213170   \n2022-11-15 13:30:00-05:00  1372617  1321804   989854   256329  1565539   \n2022-11-15 14:30:00-05:00   873469   976079   872193   247788   786384   \n2022-11-15 15:30:00-05:00  1432128  1659681  1283856   462955  1007074   \n2022-11-16 09:30:00-05:00  5276488  1914989  2839094  1548645  3904136   \n2022-11-16 10:30:00-05:00  2889529   854674  1483676   466870  1103008   \n2022-11-16 11:30:00-05:00  1478622   519277   809300   433594   488899   \n2022-11-16 12:30:00-05:00  1280298   514636   543127   186368   564041   \n2022-11-16 13:30:00-05:00  1332934   495255   459263   209856   363778   \n2022-11-16 14:30:00-05:00  1386847   580676   657198   214671   379274   \n2022-11-16 15:30:00-05:00  1391485  1414325  1045530   363121   743040   \n2022-11-17 09:30:00-05:00  4848231  3077251  3572028  1914669  4468544   \n2022-11-17 10:30:00-05:00  1297602  4224300  1771072   618906  2801445   \n2022-11-17 11:30:00-05:00  1020850  1953864  1373818   739161  1128572   \n2022-11-17 12:30:00-05:00  1038673  1251931   814785   438011   552388   \n2022-11-17 13:30:00-05:00   427030  1218816   667954   154112  1616000   \n2022-11-17 14:30:00-05:00   455002  1340995   564976   188658   700903   \n2022-11-17 15:30:00-05:00  1020106  1610985  1099477   332011   895105   \n\n                                            \n                              TCOM      WB  \n2022-11-14 09:30:00-05:00  1299430  316344  \n2022-11-14 10:30:00-05:00   614292   66778  \n2022-11-14 11:30:00-05:00   355552  109742  \n2022-11-14 12:30:00-05:00   238999   48464  \n2022-11-14 13:30:00-05:00   350581   52579  \n2022-11-14 14:30:00-05:00   427112   58076  \n2022-11-14 15:30:00-05:00   897721  116109  \n2022-11-15 09:30:00-05:00  5260205  399050  \n2022-11-15 10:30:00-05:00  1025495  274074  \n2022-11-15 11:30:00-05:00  1034932  205215  \n2022-11-15 12:30:00-05:00   871180  122158  \n2022-11-15 13:30:00-05:00   632356  107141  \n2022-11-15 14:30:00-05:00   727550   98330  \n2022-11-15 15:30:00-05:00  1313250  204487  \n2022-11-16 09:30:00-05:00  1709119  120863  \n2022-11-16 10:30:00-05:00   931589  129624  \n2022-11-16 11:30:00-05:00   873553   77304  \n2022-11-16 12:30:00-05:00   594814   98683  \n2022-11-16 13:30:00-05:00   542655  121296  \n2022-11-16 14:30:00-05:00   595230  123416  \n2022-11-16 15:30:00-05:00  1469894  328237  \n2022-11-17 09:30:00-05:00  1873388  642839  \n2022-11-17 10:30:00-05:00  1486969  278917  \n2022-11-17 11:30:00-05:00   871525  195281  \n2022-11-17 12:30:00-05:00   540148  126322  \n2022-11-17 13:30:00-05:00   546484  130185  \n2022-11-17 14:30:00-05:00   940307  155005  \n2022-11-17 15:30:00-05:00  1551187  289030  \n\n[28 rows x 60 columns]",
      "text/html": "<div>\n<style scoped>\n    .dataframe tbody tr th:only-of-type {\n        vertical-align: middle;\n    }\n\n    .dataframe tbody tr th {\n        vertical-align: top;\n    }\n\n    .dataframe thead tr th {\n        text-align: left;\n    }\n</style>\n<table border=\"1\" class=\"dataframe\">\n  <thead>\n    <tr>\n      <th></th>\n      <th colspan=\"10\" halign=\"left\">Adj Close</th>\n      <th>...</th>\n      <th colspan=\"10\" halign=\"left\">Volume</th>\n    </tr>\n    <tr>\n      <th></th>\n      <th>BIDU</th>\n      <th>BILI</th>\n      <th>FUTU</th>\n      <th>IQ</th>\n      <th>JD</th>\n      <th>LI</th>\n      <th>NTES</th>\n      <th>PDD</th>\n      <th>TCOM</th>\n      <th>WB</th>\n      <th>...</th>\n      <th>BIDU</th>\n      <th>BILI</th>\n      <th>FUTU</th>\n      <th>IQ</th>\n      <th>JD</th>\n      <th>LI</th>\n      <th>NTES</th>\n      <th>PDD</th>\n      <th>TCOM</th>\n      <th>WB</th>\n    </tr>\n  </thead>\n  <tbody>\n    <tr>\n      <th>2022-11-14 09:30:00-05:00</th>\n      <td>91.169998</td>\n      <td>13.110000</td>\n      <td>48.564999</td>\n      <td>2.7250</td>\n      <td>51.279999</td>\n      <td>18.790001</td>\n      <td>65.669998</td>\n      <td>65.320000</td>\n      <td>28.230000</td>\n      <td>13.9850</td>\n      <td>...</td>\n      <td>665184</td>\n      <td>3497116</td>\n      <td>1414322</td>\n      <td>5214904</td>\n      <td>4642935</td>\n      <td>4754699</td>\n      <td>377585</td>\n      <td>5676797</td>\n      <td>1299430</td>\n      <td>316344</td>\n    </tr>\n    <tr>\n      <th>2022-11-14 10:30:00-05:00</th>\n      <td>91.830002</td>\n      <td>13.040000</td>\n      <td>48.669998</td>\n      <td>2.7350</td>\n      <td>51.380001</td>\n      <td>18.295000</td>\n      <td>65.925003</td>\n      <td>65.455002</td>\n      <td>28.200001</td>\n      <td>13.9100</td>\n      <td>...</td>\n      <td>617787</td>\n      <td>1088872</td>\n      <td>761753</td>\n      <td>1177465</td>\n      <td>1750419</td>\n      <td>1547755</td>\n      <td>185084</td>\n      <td>1374029</td>\n      <td>614292</td>\n      <td>66778</td>\n    </tr>\n    <tr>\n      <th>2022-11-14 11:30:00-05:00</th>\n      <td>91.639999</td>\n      <td>13.020000</td>\n      <td>48.959999</td>\n      <td>2.7100</td>\n      <td>51.389999</td>\n      <td>18.280001</td>\n      <td>65.660004</td>\n      <td>65.709999</td>\n      <td>28.230000</td>\n      <td>13.8975</td>\n      <td>...</td>\n      <td>318208</td>\n      <td>601742</td>\n      <td>189044</td>\n      <td>814400</td>\n      <td>1411555</td>\n      <td>759246</td>\n      <td>134492</td>\n      <td>1080760</td>\n      <td>355552</td>\n      <td>109742</td>\n    </tr>\n    <tr>\n      <th>2022-11-14 12:30:00-05:00</th>\n      <td>91.870003</td>\n      <td>13.120000</td>\n      <td>49.439999</td>\n      <td>2.7299</td>\n      <td>51.217701</td>\n      <td>18.305000</td>\n      <td>65.669998</td>\n      <td>65.529999</td>\n      <td>28.240000</td>\n      <td>13.8550</td>\n      <td>...</td>\n      <td>154888</td>\n      <td>365177</td>\n      <td>119648</td>\n      <td>329466</td>\n      <td>555166</td>\n      <td>492668</td>\n      <td>81616</td>\n      <td>527792</td>\n      <td>238999</td>\n      <td>48464</td>\n    </tr>\n    <tr>\n      <th>2022-11-14 13:30:00-05:00</th>\n      <td>92.519997</td>\n      <td>13.080000</td>\n      <td>49.119999</td>\n      <td>2.7390</td>\n      <td>51.369999</td>\n      <td>18.344999</td>\n      <td>65.870003</td>\n      <td>65.510002</td>\n      <td>28.135000</td>\n      <td>13.9050</td>\n      <td>...</td>\n      <td>138920</td>\n      <td>343533</td>\n      <td>192309</td>\n      <td>410907</td>\n      <td>724087</td>\n      <td>543665</td>\n      <td>92728</td>\n      <td>1908686</td>\n      <td>350581</td>\n      <td>52579</td>\n    </tr>\n    <tr>\n      <th>2022-11-14 14:30:00-05:00</th>\n      <td>92.480003</td>\n      <td>13.065000</td>\n      <td>49.180000</td>\n      <td>2.7150</td>\n      <td>51.070000</td>\n      <td>18.129999</td>\n      <td>65.559998</td>\n      <td>65.510002</td>\n      <td>28.055000</td>\n      <td>13.8850</td>\n      <td>...</td>\n      <td>294874</td>\n      <td>476738</td>\n      <td>129173</td>\n      <td>544696</td>\n      <td>1134743</td>\n      <td>913573</td>\n      <td>110514</td>\n      <td>526850</td>\n      <td>427112</td>\n      <td>58076</td>\n    </tr>\n    <tr>\n      <th>2022-11-14 15:30:00-05:00</th>\n      <td>91.459999</td>\n      <td>12.880000</td>\n      <td>49.009998</td>\n      <td>2.6600</td>\n      <td>50.840000</td>\n      <td>17.969999</td>\n      <td>65.300003</td>\n      <td>65.410004</td>\n      <td>27.730000</td>\n      <td>13.7500</td>\n      <td>...</td>\n      <td>405736</td>\n      <td>625043</td>\n      <td>231841</td>\n      <td>1108976</td>\n      <td>1972526</td>\n      <td>1416993</td>\n      <td>270589</td>\n      <td>1055634</td>\n      <td>897721</td>\n      <td>116109</td>\n    </tr>\n    <tr>\n      <th>2022-11-15 09:30:00-05:00</th>\n      <td>98.064598</td>\n      <td>15.639700</td>\n      <td>52.080002</td>\n      <td>3.0100</td>\n      <td>55.470001</td>\n      <td>19.170000</td>\n      <td>70.559998</td>\n      <td>71.120003</td>\n      <td>29.780001</td>\n      <td>14.8450</td>\n      <td>...</td>\n      <td>1735293</td>\n      <td>7170883</td>\n      <td>2828125</td>\n      <td>9189825</td>\n      <td>4640724</td>\n      <td>4476117</td>\n      <td>927300</td>\n      <td>7360175</td>\n      <td>5260205</td>\n      <td>399050</td>\n    </tr>\n    <tr>\n      <th>2022-11-15 10:30:00-05:00</th>\n      <td>99.745003</td>\n      <td>16.180000</td>\n      <td>51.380001</td>\n      <td>3.1000</td>\n      <td>54.849998</td>\n      <td>19.531200</td>\n      <td>71.934998</td>\n      <td>71.449997</td>\n      <td>29.969999</td>\n      <td>15.2800</td>\n      <td>...</td>\n      <td>918513</td>\n      <td>5694345</td>\n      <td>641899</td>\n      <td>5479054</td>\n      <td>1915564</td>\n      <td>1914626</td>\n      <td>528642</td>\n      <td>1803566</td>\n      <td>1025495</td>\n      <td>274074</td>\n    </tr>\n    <tr>\n      <th>2022-11-15 11:30:00-05:00</th>\n      <td>101.190002</td>\n      <td>16.660000</td>\n      <td>53.320000</td>\n      <td>3.2093</td>\n      <td>54.930000</td>\n      <td>19.240000</td>\n      <td>72.355003</td>\n      <td>72.059998</td>\n      <td>30.120001</td>\n      <td>15.6500</td>\n      <td>...</td>\n      <td>790283</td>\n      <td>3206886</td>\n      <td>581693</td>\n      <td>2039656</td>\n      <td>1305327</td>\n      <td>1458836</td>\n      <td>341045</td>\n      <td>1711582</td>\n      <td>1034932</td>\n      <td>205215</td>\n    </tr>\n    <tr>\n      <th>2022-11-15 12:30:00-05:00</th>\n      <td>99.669998</td>\n      <td>16.280001</td>\n      <td>52.785000</td>\n      <td>3.1705</td>\n      <td>54.259998</td>\n      <td>18.885000</td>\n      <td>71.550003</td>\n      <td>71.372002</td>\n      <td>29.690001</td>\n      <td>15.3550</td>\n      <td>...</td>\n      <td>626453</td>\n      <td>2699973</td>\n      <td>374794</td>\n      <td>1863974</td>\n      <td>841822</td>\n      <td>861490</td>\n      <td>221501</td>\n      <td>1213170</td>\n      <td>871180</td>\n      <td>122158</td>\n    </tr>\n    <tr>\n      <th>2022-11-15 13:30:00-05:00</th>\n      <td>99.559998</td>\n      <td>16.378000</td>\n      <td>53.549999</td>\n      <td>3.1600</td>\n      <td>54.259998</td>\n      <td>19.040001</td>\n      <td>71.894997</td>\n      <td>71.230003</td>\n      <td>29.400000</td>\n      <td>15.3500</td>\n      <td>...</td>\n      <td>621089</td>\n      <td>2150758</td>\n      <td>268278</td>\n      <td>1372617</td>\n      <td>1321804</td>\n      <td>989854</td>\n      <td>256329</td>\n      <td>1565539</td>\n      <td>632356</td>\n      <td>107141</td>\n    </tr>\n    <tr>\n      <th>2022-11-15 14:30:00-05:00</th>\n      <td>99.980003</td>\n      <td>16.410000</td>\n      <td>53.549999</td>\n      <td>3.1200</td>\n      <td>54.465000</td>\n      <td>18.905001</td>\n      <td>72.165001</td>\n      <td>71.120003</td>\n      <td>29.285000</td>\n      <td>15.3900</td>\n      <td>...</td>\n      <td>454332</td>\n      <td>1364063</td>\n      <td>182129</td>\n      <td>873469</td>\n      <td>976079</td>\n      <td>872193</td>\n      <td>247788</td>\n      <td>786384</td>\n      <td>727550</td>\n      <td>98330</td>\n    </tr>\n    <tr>\n      <th>2022-11-15 15:30:00-05:00</th>\n      <td>99.760002</td>\n      <td>16.280001</td>\n      <td>53.840000</td>\n      <td>3.0950</td>\n      <td>54.480000</td>\n      <td>18.940001</td>\n      <td>71.610001</td>\n      <td>70.949997</td>\n      <td>29.299999</td>\n      <td>15.3300</td>\n      <td>...</td>\n      <td>680560</td>\n      <td>2200078</td>\n      <td>351100</td>\n      <td>1432128</td>\n      <td>1659681</td>\n      <td>1283856</td>\n      <td>462955</td>\n      <td>1007074</td>\n      <td>1313250</td>\n      <td>204487</td>\n    </tr>\n    <tr>\n      <th>2022-11-16 09:30:00-05:00</th>\n      <td>95.629997</td>\n      <td>15.925000</td>\n      <td>51.240002</td>\n      <td>2.8615</td>\n      <td>53.220001</td>\n      <td>17.715000</td>\n      <td>73.419998</td>\n      <td>68.209999</td>\n      <td>29.160000</td>\n      <td>14.9000</td>\n      <td>...</td>\n      <td>950743</td>\n      <td>6705836</td>\n      <td>1064611</td>\n      <td>5276488</td>\n      <td>1914989</td>\n      <td>2839094</td>\n      <td>1548645</td>\n      <td>3904136</td>\n      <td>1709119</td>\n      <td>120863</td>\n    </tr>\n    <tr>\n      <th>2022-11-16 10:30:00-05:00</th>\n      <td>94.970001</td>\n      <td>15.595000</td>\n      <td>51.145000</td>\n      <td>2.7900</td>\n      <td>53.580002</td>\n      <td>17.865000</td>\n      <td>72.730003</td>\n      <td>67.989998</td>\n      <td>29.200001</td>\n      <td>14.8000</td>\n      <td>...</td>\n      <td>449891</td>\n      <td>2106023</td>\n      <td>400284</td>\n      <td>2889529</td>\n      <td>854674</td>\n      <td>1483676</td>\n      <td>466870</td>\n      <td>1103008</td>\n      <td>931589</td>\n      <td>129624</td>\n    </tr>\n    <tr>\n      <th>2022-11-16 11:30:00-05:00</th>\n      <td>94.620003</td>\n      <td>15.400000</td>\n      <td>50.645000</td>\n      <td>2.8000</td>\n      <td>53.490002</td>\n      <td>17.815001</td>\n      <td>71.820000</td>\n      <td>68.160004</td>\n      <td>29.570000</td>\n      <td>14.6200</td>\n      <td>...</td>\n      <td>210297</td>\n      <td>893880</td>\n      <td>335031</td>\n      <td>1478622</td>\n      <td>519277</td>\n      <td>809300</td>\n      <td>433594</td>\n      <td>488899</td>\n      <td>873553</td>\n      <td>77304</td>\n    </tr>\n    <tr>\n      <th>2022-11-16 12:30:00-05:00</th>\n      <td>95.080002</td>\n      <td>15.820000</td>\n      <td>50.665001</td>\n      <td>2.8400</td>\n      <td>53.580002</td>\n      <td>17.805000</td>\n      <td>71.610001</td>\n      <td>68.070000</td>\n      <td>29.160000</td>\n      <td>14.7900</td>\n      <td>...</td>\n      <td>263290</td>\n      <td>1169120</td>\n      <td>213616</td>\n      <td>1280298</td>\n      <td>514636</td>\n      <td>543127</td>\n      <td>186368</td>\n      <td>564041</td>\n      <td>594814</td>\n      <td>98683</td>\n    </tr>\n    <tr>\n      <th>2022-11-16 13:30:00-05:00</th>\n      <td>94.839996</td>\n      <td>15.725000</td>\n      <td>50.630001</td>\n      <td>2.8750</td>\n      <td>53.470001</td>\n      <td>17.795000</td>\n      <td>71.459999</td>\n      <td>67.800003</td>\n      <td>28.965000</td>\n      <td>14.8150</td>\n      <td>...</td>\n      <td>191247</td>\n      <td>696407</td>\n      <td>271023</td>\n      <td>1332934</td>\n      <td>495255</td>\n      <td>459263</td>\n      <td>209856</td>\n      <td>363778</td>\n      <td>542655</td>\n      <td>121296</td>\n    </tr>\n    <tr>\n      <th>2022-11-16 14:30:00-05:00</th>\n      <td>94.629997</td>\n      <td>15.490000</td>\n      <td>50.474998</td>\n      <td>2.8550</td>\n      <td>53.485001</td>\n      <td>17.700001</td>\n      <td>71.430000</td>\n      <td>67.834999</td>\n      <td>29.020000</td>\n      <td>14.7650</td>\n      <td>...</td>\n      <td>211681</td>\n      <td>647233</td>\n      <td>190726</td>\n      <td>1386847</td>\n      <td>580676</td>\n      <td>657198</td>\n      <td>214671</td>\n      <td>379274</td>\n      <td>595230</td>\n      <td>123416</td>\n    </tr>\n    <tr>\n      <th>2022-11-16 15:30:00-05:00</th>\n      <td>94.750000</td>\n      <td>15.460000</td>\n      <td>50.360001</td>\n      <td>2.8600</td>\n      <td>53.490002</td>\n      <td>17.760000</td>\n      <td>71.330002</td>\n      <td>67.570000</td>\n      <td>28.750000</td>\n      <td>14.8500</td>\n      <td>...</td>\n      <td>413330</td>\n      <td>1183445</td>\n      <td>279624</td>\n      <td>1391485</td>\n      <td>1414325</td>\n      <td>1045530</td>\n      <td>363121</td>\n      <td>743040</td>\n      <td>1469894</td>\n      <td>328237</td>\n    </tr>\n    <tr>\n      <th>2022-11-17 09:30:00-05:00</th>\n      <td>97.849998</td>\n      <td>16.219999</td>\n      <td>52.320000</td>\n      <td>2.9100</td>\n      <td>56.020000</td>\n      <td>17.915001</td>\n      <td>73.809998</td>\n      <td>70.830002</td>\n      <td>29.590000</td>\n      <td>14.1900</td>\n      <td>...</td>\n      <td>1135089</td>\n      <td>5366461</td>\n      <td>1072087</td>\n      <td>4848231</td>\n      <td>3077251</td>\n      <td>3572028</td>\n      <td>1914669</td>\n      <td>4468544</td>\n      <td>1873388</td>\n      <td>642839</td>\n    </tr>\n    <tr>\n      <th>2022-11-17 10:30:00-05:00</th>\n      <td>98.410004</td>\n      <td>15.995000</td>\n      <td>53.224998</td>\n      <td>2.9350</td>\n      <td>56.299999</td>\n      <td>17.990000</td>\n      <td>71.379997</td>\n      <td>71.250000</td>\n      <td>29.650000</td>\n      <td>14.8700</td>\n      <td>...</td>\n      <td>537768</td>\n      <td>2543623</td>\n      <td>750560</td>\n      <td>1297602</td>\n      <td>4224300</td>\n      <td>1771072</td>\n      <td>618906</td>\n      <td>2801445</td>\n      <td>1486969</td>\n      <td>278917</td>\n    </tr>\n    <tr>\n      <th>2022-11-17 11:30:00-05:00</th>\n      <td>98.889999</td>\n      <td>15.865000</td>\n      <td>52.455002</td>\n      <td>2.9400</td>\n      <td>56.880001</td>\n      <td>18.110001</td>\n      <td>70.739998</td>\n      <td>70.690002</td>\n      <td>29.459999</td>\n      <td>15.3800</td>\n      <td>...</td>\n      <td>425512</td>\n      <td>1403986</td>\n      <td>248312</td>\n      <td>1020850</td>\n      <td>1953864</td>\n      <td>1373818</td>\n      <td>739161</td>\n      <td>1128572</td>\n      <td>871525</td>\n      <td>195281</td>\n    </tr>\n    <tr>\n      <th>2022-11-17 12:30:00-05:00</th>\n      <td>99.260002</td>\n      <td>15.849900</td>\n      <td>52.770000</td>\n      <td>2.9600</td>\n      <td>57.701698</td>\n      <td>18.299999</td>\n      <td>70.959999</td>\n      <td>70.500000</td>\n      <td>29.490000</td>\n      <td>15.7700</td>\n      <td>...</td>\n      <td>175185</td>\n      <td>931307</td>\n      <td>142734</td>\n      <td>1038673</td>\n      <td>1251931</td>\n      <td>814785</td>\n      <td>438011</td>\n      <td>552388</td>\n      <td>540148</td>\n      <td>126322</td>\n    </tr>\n    <tr>\n      <th>2022-11-17 13:30:00-05:00</th>\n      <td>98.660004</td>\n      <td>15.549400</td>\n      <td>52.380001</td>\n      <td>2.9650</td>\n      <td>57.169998</td>\n      <td>18.090000</td>\n      <td>70.660004</td>\n      <td>70.099998</td>\n      <td>29.155001</td>\n      <td>15.9000</td>\n      <td>...</td>\n      <td>212366</td>\n      <td>841994</td>\n      <td>132426</td>\n      <td>427030</td>\n      <td>1218816</td>\n      <td>667954</td>\n      <td>154112</td>\n      <td>1616000</td>\n      <td>546484</td>\n      <td>130185</td>\n    </tr>\n    <tr>\n      <th>2022-11-17 14:30:00-05:00</th>\n      <td>98.669998</td>\n      <td>15.640000</td>\n      <td>52.131901</td>\n      <td>2.9400</td>\n      <td>57.529999</td>\n      <td>18.190001</td>\n      <td>71.199997</td>\n      <td>70.150002</td>\n      <td>29.110001</td>\n      <td>15.7450</td>\n      <td>...</td>\n      <td>288763</td>\n      <td>1068525</td>\n      <td>162991</td>\n      <td>455002</td>\n      <td>1340995</td>\n      <td>564976</td>\n      <td>188658</td>\n      <td>700903</td>\n      <td>940307</td>\n      <td>155005</td>\n    </tr>\n    <tr>\n      <th>2022-11-17 15:30:00-05:00</th>\n      <td>99.620003</td>\n      <td>15.800000</td>\n      <td>52.259998</td>\n      <td>2.9597</td>\n      <td>57.520000</td>\n      <td>18.370001</td>\n      <td>71.029999</td>\n      <td>70.519997</td>\n      <td>29.170000</td>\n      <td>15.9050</td>\n      <td>...</td>\n      <td>366265</td>\n      <td>1390571</td>\n      <td>234709</td>\n      <td>1020106</td>\n      <td>1610985</td>\n      <td>1099477</td>\n      <td>332011</td>\n      <td>895105</td>\n      <td>1551187</td>\n      <td>289030</td>\n    </tr>\n  </tbody>\n</table>\n<p>28 rows × 60 columns</p>\n</div>"
     },
     "execution_count": 60,
     "metadata": {},
     "output_type": "execute_result"
    }
   ],
   "source": [
    "temp"
   ],
   "metadata": {
    "collapsed": false,
    "pycharm": {
     "name": "#%%\n"
    }
   }
  },
  {
   "cell_type": "code",
   "execution_count": 61,
   "outputs": [
    {
     "name": "stdout",
     "output_type": "stream",
     "text": [
      "\n",
      "1 Failed download:\n",
      "- QNIU: No data found, symbol may be delisted\n",
      "\n",
      "1 Failed download:\n",
      "- LDOC: No data found for this date range, symbol may be delisted\n",
      "\n",
      "1 Failed download:\n",
      "- HLG: No data found, symbol may be delisted\n",
      "\n",
      "1 Failed download:\n",
      "- FHS: No data found for this date range, symbol may be delisted\n",
      "\n",
      "1 Failed download:\n",
      "- LDOC: No data found for this date range, symbol may be delisted\n",
      "\n",
      "1 Failed download:\n",
      "- QNIU: No data found, symbol may be delisted\n"
     ]
    }
   ],
   "source": [
    "test_name_dict=dict()\n",
    "for each_stock in list(stock_list['Ticker']):\n",
    "    temp = yf.download(each_stock,period=\"1d\",interval=\"1d\",progress=False)\n",
    "    test_name_dict[each_stock] = temp.iloc[0,3] if len(temp)>0 else -1\n"
   ],
   "metadata": {
    "collapsed": false,
    "pycharm": {
     "name": "#%%\n"
    }
   }
  },
  {
   "cell_type": "code",
   "execution_count": 66,
   "outputs": [],
   "source": [
    "\n",
    "valid_stocks = [k for k,v in test_name_dict.items() if v != -1]\n"
   ],
   "metadata": {
    "collapsed": false,
    "pycharm": {
     "name": "#%%\n"
    }
   }
  },
  {
   "cell_type": "code",
   "execution_count": 63,
   "outputs": [
    {
     "data": {
      "text/plain": "217"
     },
     "execution_count": 63,
     "metadata": {},
     "output_type": "execute_result"
    }
   ],
   "source": [
    "len(list(stock_list['Ticker']))"
   ],
   "metadata": {
    "collapsed": false,
    "pycharm": {
     "name": "#%%\n"
    }
   }
  },
  {
   "cell_type": "code",
   "execution_count": 64,
   "outputs": [
    {
     "data": {
      "text/plain": "'\\nQNIU\\nLDOC\\nATHM\\nHLG\\nLDOC\\nQNIU\\n'"
     },
     "execution_count": 64,
     "metadata": {},
     "output_type": "execute_result"
    }
   ],
   "source": [
    "'''\n",
    "QNIU\n",
    "LDOC\n",
    "ATHM\n",
    "HLG\n",
    "LDOC\n",
    "QNIU\n",
    "'''"
   ],
   "metadata": {
    "collapsed": false,
    "pycharm": {
     "name": "#%%\n"
    }
   }
  }
 ],
 "metadata": {
  "kernelspec": {
   "display_name": "Python 3 (ipykernel)",
   "language": "python",
   "name": "python3"
  },
  "language_info": {
   "codemirror_mode": {
    "name": "ipython",
    "version": 3
   },
   "file_extension": ".py",
   "mimetype": "text/x-python",
   "name": "python",
   "nbconvert_exporter": "python",
   "pygments_lexer": "ipython3",
   "version": "3.9.13"
  }
 },
 "nbformat": 4,
 "nbformat_minor": 1
}